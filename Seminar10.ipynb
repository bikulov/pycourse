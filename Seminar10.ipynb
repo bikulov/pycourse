{
 "cells": [
  {
   "cell_type": "markdown",
   "metadata": {},
   "source": [
    "# Seminar 6. Web applications with Python. Wrapping C/C++ code for Python."
   ]
  },
  {
   "cell_type": "markdown",
   "metadata": {},
   "source": [
    "## 6.1. Python for web applications\n",
    "\n",
    "Some frameworks:\n",
    "1. Flask\n",
    "2. Django\n",
    "3. CherryPy\n",
    "4. bottlepy\n",
    "\n",
    "Template Engines:\n",
    "1. Jinja2\n",
    "2. Mako"
   ]
  },
  {
   "cell_type": "markdown",
   "metadata": {
    "collapsed": true
   },
   "source": [
    "### 6.1.1. Template engine jinja2\n",
    "\n",
    "Jinja2 is a full featured template engine with full unicode support. \n",
    "\n",
    "Installing:\n",
    "\n",
    "    conda install jinja2\n",
    "    pip install jinja2\n",
    "\n",
    "Doc: http://jinja.pocoo.org/docs/dev/"
   ]
  },
  {
   "cell_type": "code",
   "execution_count": 1,
   "metadata": {
    "collapsed": false
   },
   "outputs": [
    {
     "name": "stdout",
     "output_type": "stream",
     "text": [
      "Overwriting base.html\n"
     ]
    }
   ],
   "source": [
    "%%writefile base.html\n",
    "\n",
    "<!DOCTYPE html>\n",
    "<html>\n",
    "  <head>\n",
    "    <meta charset=\"utf-8\">\n",
    "      <title> {{ title }} </title>\n",
    "  </head>\n",
    "  <body>\n",
    "{% block body %}\n",
    "    Some text\n",
    "{% endblock %}\n",
    "  </body>\n",
    "</html>"
   ]
  },
  {
   "cell_type": "code",
   "execution_count": 2,
   "metadata": {
    "collapsed": false
   },
   "outputs": [
    {
     "name": "stdout",
     "output_type": "stream",
     "text": [
      "\n",
      "<!DOCTYPE html>\n",
      "<html>\n",
      "  <head>\n",
      "    <meta charset=\"utf-8\">\n",
      "      <title> Blog name </title>\n",
      "  </head>\n",
      "  <body>\n",
      "    Some text\n",
      "  </body>\n",
      "</html>\n"
     ]
    }
   ],
   "source": [
    "import jinja2\n",
    "\n",
    "j2env = jinja2.Environment(loader=jinja2.FileSystemLoader('.'), trim_blocks=True)\n",
    "print(j2env.get_template('base.html').render(title='Blog name'))"
   ]
  },
  {
   "cell_type": "code",
   "execution_count": 3,
   "metadata": {
    "collapsed": false
   },
   "outputs": [
    {
     "name": "stdout",
     "output_type": "stream",
     "text": [
      "Overwriting body.html\n"
     ]
    }
   ],
   "source": [
    "%%writefile body.html\n",
    "{% extends \"base.html\" %}\n",
    "\n",
    "{% block body %}\n",
    "    {{ super() }}\n",
    "    <ol>\n",
    "    {% for item in items %}\n",
    "      <li>{{ item }}</li>\n",
    "    {% endfor %}\n",
    "    </ol>\n",
    "{% endblock %}"
   ]
  },
  {
   "cell_type": "code",
   "execution_count": 4,
   "metadata": {
    "collapsed": false
   },
   "outputs": [
    {
     "name": "stdout",
     "output_type": "stream",
     "text": [
      "\n",
      "<!DOCTYPE html>\n",
      "<html>\n",
      "  <head>\n",
      "    <meta charset=\"utf-8\">\n",
      "      <title> Blog name </title>\n",
      "  </head>\n",
      "  <body>\n",
      "        Some text\n",
      "\n",
      "    <ol>\n",
      "          <li>apple</li>\n",
      "          <li>peach</li>\n",
      "          <li>pineapple</li>\n",
      "        </ol>\n",
      "  </body>\n",
      "</html>\n"
     ]
    }
   ],
   "source": [
    "print(j2env.get_template('body.html').render(title='Blog name', items=['apple', 'peach', 'pineapple']))"
   ]
  },
  {
   "cell_type": "markdown",
   "metadata": {},
   "source": [
    "### 6.1.2. bottle.py\n",
    "\n",
    "Bottle is a fast, simple and lightweight single-file micro web-framework for Python with no dependencies other than the Python Standard Library. Bottle is customizable with plugins.\n",
    "\n",
    "Installation:\n",
    "\n",
    "    pip install bottle\n",
    "\n",
    "Doc: https://bottlepy.org/\n",
    "\n",
    "Examples below are from the official documentation."
   ]
  },
  {
   "cell_type": "code",
   "execution_count": 5,
   "metadata": {
    "collapsed": false
   },
   "outputs": [
    {
     "name": "stdout",
     "output_type": "stream",
     "text": [
      "Overwriting bottle_example.py\n"
     ]
    }
   ],
   "source": [
    "%%writefile bottle_example.py\n",
    "#!/usr/bin/env python\n",
    "import os\n",
    "import bottle\n",
    "\n",
    "indexTemplate = 'Hello, <strong>{{ username }}</strong>.'\n",
    "\n",
    "@bottle.route('/name/<name>')\n",
    "def name(name):\n",
    "    return bottle.template(indexTemplate, username=name)\n",
    "\n",
    "if __name__ == '__main__':\n",
    "    port = int(os.environ.get('PORT', 9999))\n",
    "    bottle.run(host='0.0.0.0', port=port, debug=True)"
   ]
  },
  {
   "cell_type": "code",
   "execution_count": 6,
   "metadata": {
    "collapsed": false
   },
   "outputs": [
    {
     "name": "stdout",
     "output_type": "stream",
     "text": [
      "Process is interrupted.\n"
     ]
    }
   ],
   "source": [
    "%%bash\n",
    "chmod +x bottle_example.py\n",
    "./bottle_example.py"
   ]
  },
  {
   "cell_type": "markdown",
   "metadata": {},
   "source": [
    "Now on page http://localhost:9999/name/test you will get message «Hello, **test**.»"
   ]
  },
  {
   "cell_type": "markdown",
   "metadata": {},
   "source": [
    "* Static routes (example: `@bottle.route('/')`)\n",
    "* Dynamic routes with wildcards (example: `@bottle.route('/name/<name>')`)\n",
    "\n",
    "Filters can be used to define more specific wildcards:\n",
    "\n",
    "``` python\n",
    "@bottle.route('/name/<id:int>')\n",
    "def callback(id):\n",
    "    return id\n",
    "\n",
    "@bottle.route('/name/<name:path>')\n",
    "def callback(name):\n",
    "    return name\n",
    "```\n",
    "\n",
    "Full set of filters: int, float, path, re."
   ]
  },
  {
   "cell_type": "code",
   "execution_count": 7,
   "metadata": {
    "collapsed": false
   },
   "outputs": [],
   "source": [
    "import bottle\n",
    "@bottle.get('/login') # or @bottle.route('/login')\n",
    "def login():\n",
    "    return '''\n",
    "        <form action=\"/login\" method=\"post\">\n",
    "            Username: <input name=\"username\" type=\"text\" />\n",
    "            Password: <input name=\"password\" type=\"password\" />\n",
    "            <input value=\"Login\" type=\"submit\" />\n",
    "        </form>\n",
    "    '''\n",
    "\n",
    "@bottle.post('/login') # or @bottle.route('/login', method='POST')\n",
    "def do_login():\n",
    "    username = bottle.request.forms.get('username')\n",
    "    password = bottle.request.forms.get('password')\n",
    "    if check_login(username, password):\n",
    "        return \"<p>Your login information was correct.</p>\"\n",
    "    else:\n",
    "        return \"<p>Login failed.</p>\""
   ]
  },
  {
   "cell_type": "markdown",
   "metadata": {},
   "source": [
    "## 6.1.3. CherryPy module\n",
    "\n",
    "CherryPy is a pythonic, object-oriented web framework.\n",
    "\n",
    "Installation:\n",
    "    \n",
    "    conda install cherrypy\n",
    "    pip install cherrypy\n",
    "    \n",
    "Doc: http://docs.cherrypy.org/en/latest/index.html"
   ]
  },
  {
   "cell_type": "code",
   "execution_count": 8,
   "metadata": {
    "collapsed": false
   },
   "outputs": [
    {
     "name": "stdout",
     "output_type": "stream",
     "text": [
      "Overwriting base.html\n"
     ]
    }
   ],
   "source": [
    "%%writefile base.html\n",
    "<!DOCTYPE html>\n",
    "<html>\n",
    "  <head>\n",
    "    <meta charset=\"utf-8\">\n",
    "      <title> {{ title }} </title>\n",
    "  </head>\n",
    "  <body>\n",
    "    {% block body %}Some text{% endblock %}\n",
    "  </body>\n",
    "</html>"
   ]
  },
  {
   "cell_type": "code",
   "execution_count": 9,
   "metadata": {
    "collapsed": false
   },
   "outputs": [
    {
     "name": "stdout",
     "output_type": "stream",
     "text": [
      "Overwriting body.html\n"
     ]
    }
   ],
   "source": [
    "%%writefile body.html\n",
    "\n",
    "{% extends \"base.html\" %}\n",
    "\n",
    "{% block body %}\n",
    "    {{ super() }}\n",
    "    <ol>\n",
    "    {% for item in items %}\n",
    "      <li>{{ item }}</li>\n",
    "    {% endfor %}\n",
    "    </ol>\n",
    "{% endblock %}"
   ]
  },
  {
   "cell_type": "code",
   "execution_count": 10,
   "metadata": {
    "collapsed": false
   },
   "outputs": [
    {
     "name": "stdout",
     "output_type": "stream",
     "text": [
      "Overwriting app.py\n"
     ]
    }
   ],
   "source": [
    "%%writefile app.py\n",
    "#!/usr/bin/env python3\n",
    "import cherrypy\n",
    "import jinja2\n",
    "import os\n",
    "\n",
    "class Application():\n",
    "    def __init__(self, blog_name):\n",
    "        self.blog_name = blog_name\n",
    "        current_dir = os.path.dirname(os.path.abspath(__file__))\n",
    "        self.j2env = jinja2.Environment(loader=jinja2.FileSystemLoader(current_dir), trim_blocks=True)\n",
    "    \n",
    "    @cherrypy.expose\n",
    "    def index(self):\n",
    "        return self.j2env.get_template('base.html').render(title=self.blog_name)\n",
    "    \n",
    "    @cherrypy.expose\n",
    "    def make_list(self, items):\n",
    "        encoded_items = (x.encode('ISO-8859-1').decode('utf-8') for x in items.split(','))\n",
    "        return self.j2env.get_template('body.html').render(title=self.blog_name, items=encoded_items)\n",
    "\n",
    "if __name__ == '__main__':\n",
    "   cherrypy.quickstart(Application('Test blog'), '/')\n"
   ]
  },
  {
   "cell_type": "code",
   "execution_count": 11,
   "metadata": {
    "collapsed": false
   },
   "outputs": [
    {
     "name": "stdout",
     "output_type": "stream",
     "text": [
      "Process is interrupted.\n"
     ]
    }
   ],
   "source": [
    "%%bash\n",
    "chmod +x app.py\n",
    "./app.py"
   ]
  },
  {
   "cell_type": "markdown",
   "metadata": {},
   "source": [
    "On page http://127.0.0.1:8080/make_list/apple,road,cake you will see:\n",
    "\n",
    "Some text\n",
    "1. apple\n",
    "2. road\n",
    "3. cake"
   ]
  },
  {
   "cell_type": "markdown",
   "metadata": {},
   "source": [
    "### 6.1.4 CherryPy + Ajax\n",
    "\n",
    "Example from the official documentation: http://docs.cherrypy.org/en/latest/tutorials.html#tutorial-8-make-it-smoother-with-ajax"
   ]
  },
  {
   "cell_type": "code",
   "execution_count": 12,
   "metadata": {
    "collapsed": false
   },
   "outputs": [
    {
     "name": "stdout",
     "output_type": "stream",
     "text": [
      "Overwriting index.html\n"
     ]
    }
   ],
   "source": [
    "%%writefile index.html\n",
    "<!DOCTYPE html>\n",
    "<html>\n",
    "   <head>\n",
    "     <script src=\"http://code.jquery.com/jquery-2.0.3.min.js\"></script>\n",
    "     <script type=\"text/javascript\">\n",
    "       $(document).ready(function() {\n",
    "\n",
    "         $(\"#generate-string\").click(function(e) {\n",
    "           $.post(\"/generator\", {\"length\": $(\"input[name='length']\").val()})\n",
    "            .done(function(string) {\n",
    "               $(\"#the-string\").show();\n",
    "               $(\"#the-string input\").val(string);\n",
    "            });\n",
    "           e.preventDefault();\n",
    "         });\n",
    "\n",
    "         $(\"#replace-string\").click(function(e) {\n",
    "           $.ajax({\n",
    "              type: \"PUT\",\n",
    "              url: \"/generator\",\n",
    "              data: {\"another_string\": $(\"#the-string input\").val()}\n",
    "           })\n",
    "           e.preventDefault();\n",
    "         });\n",
    "\n",
    "         $(\"#delete-string\").click(function(e) {\n",
    "           $.ajax({\n",
    "              type: \"DELETE\",\n",
    "              url: \"/generator\"\n",
    "           })\n",
    "           .done(function() {\n",
    "              $(\"#the-string\").hide();\n",
    "           });\n",
    "           e.preventDefault();\n",
    "         });\n",
    "                \n",
    "         $.ajax({\n",
    "           type: \"GET\",\n",
    "           url: \"/generator\"\n",
    "         }).done(function(string) {\n",
    "            $(\"#the-string input\").val(string);\n",
    "        }\n",
    "         );\n",
    "       });\n",
    "     </script>\n",
    "   </head>\n",
    "   <body>\n",
    "     <input type=\"text\" value=\"20\" name=\"length\" />\n",
    "     <button id=\"generate-string\">Generate string</button>\n",
    "     <div id=\"the-string\">\n",
    "         <input type=\"text\" />\n",
    "         <button id=\"replace-string\">Replace</button>\n",
    "         <button id=\"delete-string\">Delete it</button>\n",
    "     </div>\n",
    "   </body>\n",
    "</html>"
   ]
  },
  {
   "cell_type": "code",
   "execution_count": 13,
   "metadata": {
    "collapsed": false
   },
   "outputs": [
    {
     "name": "stdout",
     "output_type": "stream",
     "text": [
      "Overwriting tut8.py\n"
     ]
    }
   ],
   "source": [
    "%%writefile tut8.py\n",
    "#!/usr/bin/env python3\n",
    "import os, os.path\n",
    "import random\n",
    "import string\n",
    "\n",
    "import cherrypy\n",
    "\n",
    "class StringGenerator(object):\n",
    "   @cherrypy.expose\n",
    "   def index(self):\n",
    "       return open('index.html')\n",
    "\n",
    "class StringGeneratorWebService(object):\n",
    "    exposed = True\n",
    "\n",
    "    @cherrypy.tools.accept(media='text/plain')\n",
    "    def GET(self):\n",
    "        return cherrypy.session['mystring']\n",
    "\n",
    "    def POST(self, length=8):\n",
    "        some_string = ''.join(random.sample(string.hexdigits, int(length)))\n",
    "        cherrypy.session['mystring'] = some_string\n",
    "        return some_string\n",
    "\n",
    "    def PUT(self, another_string):\n",
    "        cherrypy.session['mystring'] = another_string\n",
    "\n",
    "    def DELETE(self):\n",
    "        cherrypy.session.pop('mystring', None)\n",
    "\n",
    "if __name__ == '__main__':\n",
    "    conf = {\n",
    "        '/': {\n",
    "            'tools.sessions.on': True,\n",
    "            'tools.staticdir.root': os.path.abspath(os.getcwd())\n",
    "        },\n",
    "        '/generator': {\n",
    "            'request.dispatch': cherrypy.dispatch.MethodDispatcher(),\n",
    "            'tools.response_headers.on': True,\n",
    "            'tools.response_headers.headers': [('Content-Type', 'text/plain')],\n",
    "        },\n",
    "    }\n",
    "    webapp = StringGenerator()\n",
    "    webapp.generator = StringGeneratorWebService()\n",
    "    cherrypy.quickstart(webapp, '/', conf)"
   ]
  },
  {
   "cell_type": "code",
   "execution_count": 14,
   "metadata": {
    "collapsed": false
   },
   "outputs": [
    {
     "name": "stdout",
     "output_type": "stream",
     "text": [
      "Process is interrupted.\n"
     ]
    }
   ],
   "source": [
    "%%bash\n",
    "chmod +x tut8.py\n",
    "./tut8.py"
   ]
  },
  {
   "cell_type": "markdown",
   "metadata": {},
   "source": [
    "Open page: On page http://127.0.0.1:8080/"
   ]
  },
  {
   "cell_type": "markdown",
   "metadata": {
    "collapsed": true
   },
   "source": [
    "## 6.2. C++ with python"
   ]
  },
  {
   "cell_type": "markdown",
   "metadata": {
    "collapsed": true
   },
   "source": [
    "### 6.2.1. swig\n",
    "\n",
    "http://www.swig.org/\n",
    "\n",
    "SWIG — Simplified Wrapper and Interface Generator. It supports many languages (C/C++ to that language), among them:\n",
    "\n",
    "* javascript\n",
    "* python\n",
    "* go\n",
    "* java\n",
    "* etc\n",
    "\n",
    "Installation:\n",
    "\n",
    "    sudo apt-get install swig"
   ]
  },
  {
   "cell_type": "code",
   "execution_count": 15,
   "metadata": {
    "collapsed": false
   },
   "outputs": [
    {
     "name": "stdout",
     "output_type": "stream",
     "text": [
      "Overwriting swtest.cpp\n"
     ]
    }
   ],
   "source": [
    "%%writefile swtest.cpp\n",
    "\n",
    "#include <omp.h>\n",
    "\n",
    "extern \"C\" {\n",
    "    void MarkBoundaries(unsigned int *raw, int N) {\n",
    "        #pragma omp parallel for\n",
    "        for (int x = 0; x < N; ++x) {\n",
    "            raw[x] = 3;\n",
    "        }\n",
    "    }\n",
    "}"
   ]
  },
  {
   "cell_type": "code",
   "execution_count": 16,
   "metadata": {
    "collapsed": false
   },
   "outputs": [
    {
     "name": "stderr",
     "output_type": "stream",
     "text": [
      "--2017-03-24 06:10:02--  https://raw.githubusercontent.com/numpy/numpy/master/tools/swig/numpy.i\n",
      "Resolving raw.githubusercontent.com (raw.githubusercontent.com)... 151.101.12.133\n",
      "Connecting to raw.githubusercontent.com (raw.githubusercontent.com)|151.101.12.133|:443... connected.\n",
      "HTTP request sent, awaiting response... 200 OK\n",
      "Length: 108861 (106K) [text/plain]\n",
      "Saving to: ‘numpy.i’\n",
      "\n",
      "     0K .......... .......... .......... .......... .......... 47%  554K 0s\n",
      "    50K .......... .......... .......... .......... .......... 94% 1,57M 0s\n",
      "   100K ......                                                100% 45,7M=0,1s\n",
      "\n",
      "2017-03-24 06:10:02 (876 KB/s) - ‘numpy.i’ saved [108861/108861]\n",
      "\n"
     ]
    }
   ],
   "source": [
    "%%bash\n",
    "wget https://raw.githubusercontent.com/numpy/numpy/master/tools/swig/numpy.i -O numpy.i"
   ]
  },
  {
   "cell_type": "code",
   "execution_count": 17,
   "metadata": {
    "collapsed": false
   },
   "outputs": [
    {
     "name": "stdout",
     "output_type": "stream",
     "text": [
      "Overwriting swtest.swig\n"
     ]
    }
   ],
   "source": [
    "%%writefile swtest.swig\n",
    "\n",
    "%module swtest\n",
    "%{\n",
    "    #define SWIG_FILE_WITH_INIT\n",
    "    #include <omp.h>\n",
    "    extern \"C\" {\n",
    "        void MarkBoundaries(unsigned int* raw, int N);\n",
    "    }\n",
    "%}\n",
    "\n",
    "%include \"numpy.i\"\n",
    "%init %{\n",
    "    import_array();\n",
    "%}\n",
    "\n",
    "%apply (unsigned int* IN_ARRAY1, int DIM1) {(unsigned int* raw, int N)};\n",
    "\n",
    "#include <omp.h>\n",
    "extern \"C\" {  \n",
    "    extern void MarkBoundaries(unsigned int* raw, int N);\n",
    "}"
   ]
  },
  {
   "cell_type": "code",
   "execution_count": 28,
   "metadata": {
    "collapsed": false
   },
   "outputs": [],
   "source": [
    "%%bash\n",
    "swig -python swtest.swig\n",
    "g++ -fopenmp -fPIC -c swtest.cpp swtest_wrap.c -I/usr/include/python3.4\n",
    "g++ -fopenmp -shared swtest.o swtest_wrap.o -o _swtest.so"
   ]
  },
  {
   "cell_type": "code",
   "execution_count": 29,
   "metadata": {
    "collapsed": false
   },
   "outputs": [
    {
     "name": "stdout",
     "output_type": "stream",
     "text": [
      "[1 1 1 1 1 1 1 1 1 1 0 0 0 0 0 0 0 0 0 0 0 0 0 0 0 0 0 0 0 0 0 0 0 0 0 1 1\n",
      " 1 1 1 1 1 1 1 1 1 1 1 1 1 1 1 1 1 1 1 1 1 1 1 1 1 1 1 1 1 1 1 1 1 1 1 1 1\n",
      " 1 1 1 1 1 1 1 1 1 1 1 1 1 1 1 1 1 1 1 1 1 1 1 1 1 1 1 1 1 1 1 1 1 1 1 1 1\n",
      " 1 1 1 1 1 1 1 1 1 1 1 1 1 1]\n",
      "[3 3 3 3 3 3 3 3 3 3 3 3 3 3 3 3 3 3 3 3 3 3 3 3 3 3 3 3 3 3 3 3 3 3 3 3 3\n",
      " 3 3 3 3 3 3 3 3 3 3 3 3 3 3 3 3 3 3 3 3 3 3 3 3 3 3 3 3 3 3 3 3 3 3 3 3 3\n",
      " 3 3 3 3 3 3 3 3 3 3 3 3 3 3 3 3 3 3 3 3 3 3 3 3 3 3 3 3 3 3 3 3 3 3 3 3 3\n",
      " 3 3 3 3 3 3 3 3 3 3 3 3 3 3]\n"
     ]
    }
   ],
   "source": [
    "import numpy\n",
    "import swtest\n",
    "\n",
    "raw = numpy.ones(125, dtype=numpy.uint32)\n",
    "raw[10:35] = numpy.zeros(25, dtype=numpy.uint32)\n",
    "\n",
    "print(raw)\n",
    "\n",
    "swtest.MarkBoundaries(raw)\n",
    "\n",
    "print(raw)"
   ]
  },
  {
   "cell_type": "markdown",
   "metadata": {},
   "source": [
    "### 6.2.2. cffi"
   ]
  },
  {
   "cell_type": "code",
   "execution_count": 20,
   "metadata": {
    "collapsed": false
   },
   "outputs": [
    {
     "name": "stdout",
     "output_type": "stream",
     "text": [
      "Overwriting cftest.cpp\n"
     ]
    }
   ],
   "source": [
    "%%writefile cftest.cpp\n",
    "#include <omp.h>\n",
    "\n",
    "extern \"C\" {\n",
    "    void MarkBoundaries(unsigned int *raw, int N) {\n",
    "        #pragma omp parallel for\n",
    "        for (int x = 0; x < N; ++x) {\n",
    "            raw[x] = 3;\n",
    "        }\n",
    "    }\n",
    "}"
   ]
  },
  {
   "cell_type": "code",
   "execution_count": 21,
   "metadata": {
    "collapsed": true
   },
   "outputs": [],
   "source": [
    "%%bash\n",
    "g++ -fPIC -c cftest.cpp -fopenmp -O3\n",
    "g++ -fopenmp -shared cftest.o -o _cftest.so"
   ]
  },
  {
   "cell_type": "code",
   "execution_count": 22,
   "metadata": {
    "collapsed": false
   },
   "outputs": [
    {
     "name": "stdout",
     "output_type": "stream",
     "text": [
      "Overwriting cftest.py\n"
     ]
    }
   ],
   "source": [
    "%%writefile cftest.py\n",
    "\n",
    "from cffi import FFI\n",
    "import os\n",
    "_ffi = FFI()\n",
    "_lib = _ffi.dlopen(os.path.join(os.path.dirname(os.path.realpath(__file__)), \"_cftest.so\"))\n",
    "_ffi.cdef(\"\"\"\n",
    "void MarkBoundaries(unsigned int *raw, int N);\n",
    "\"\"\")\n",
    "\n",
    "def MarkBoundaries(raw):\n",
    "    dataPtr = _ffi.cast(\"unsigned int *\", raw.ctypes.data)\n",
    "    _lib.MarkBoundaries(dataPtr, raw.size)"
   ]
  },
  {
   "cell_type": "code",
   "execution_count": 23,
   "metadata": {
    "collapsed": false
   },
   "outputs": [
    {
     "name": "stdout",
     "output_type": "stream",
     "text": [
      "[1 1 1 1 1 1 1 1 1 1 0 0 0 0 0 0 0 0 0 0 0 0 0 0 0 0 0 0 0 0 0 0 0 0 0 1 1\n",
      " 1 1 1 1 1 1 1 1 1 1 1 1 1 1 1 1 1 1 1 1 1 1 1 1 1 1 1 1 1 1 1 1 1 1 1 1 1\n",
      " 1 1 1 1 1 1 1 1 1 1 1 1 1 1 1 1 1 1 1 1 1 1 1 1 1 1 1 1 1 1 1 1 1 1 1 1 1\n",
      " 1 1 1 1 1 1 1 1 1 1 1 1 1 1]\n",
      "[3 3 3 3 3 3 3 3 3 3 3 3 3 3 3 3 3 3 3 3 3 3 3 3 3 3 3 3 3 3 3 3 3 3 3 3 3\n",
      " 3 3 3 3 3 3 3 3 3 3 3 3 3 3 3 3 3 3 3 3 3 3 3 3 3 3 3 3 3 3 3 3 3 3 3 3 3\n",
      " 3 3 3 3 3 3 3 3 3 3 3 3 3 3 3 3 3 3 3 3 3 3 3 3 3 3 3 3 3 3 3 3 3 3 3 3 3\n",
      " 3 3 3 3 3 3 3 3 3 3 3 3 3 3]\n"
     ]
    }
   ],
   "source": [
    "import numpy\n",
    "import cftest\n",
    "\n",
    "raw = numpy.ones(125, dtype=numpy.uint32)\n",
    "raw[10:35] = numpy.zeros(25, dtype=numpy.uint32)\n",
    "\n",
    "print(raw)\n",
    "\n",
    "cftest.MarkBoundaries(raw)\n",
    "\n",
    "print(raw)"
   ]
  },
  {
   "cell_type": "markdown",
   "metadata": {},
   "source": [
    "### 6.2.3. ctypes"
   ]
  },
  {
   "cell_type": "code",
   "execution_count": 24,
   "metadata": {
    "collapsed": false
   },
   "outputs": [
    {
     "name": "stdout",
     "output_type": "stream",
     "text": [
      "Overwriting ctytest.cpp\n"
     ]
    }
   ],
   "source": [
    "%%writefile ctytest.cpp\n",
    "#include <omp.h>\n",
    "\n",
    "extern \"C\" {\n",
    "    void MarkBoundaries(unsigned int *raw, int N) {\n",
    "        #pragma omp parallel for\n",
    "        for (int x = 0; x < N; ++x) {\n",
    "            raw[x] = 3;\n",
    "        }\n",
    "    }\n",
    "}"
   ]
  },
  {
   "cell_type": "code",
   "execution_count": 25,
   "metadata": {
    "collapsed": true
   },
   "outputs": [],
   "source": [
    "%%bash\n",
    "g++ -fPIC -fopenmp -shared -o _ctytest.so ctytest.cpp"
   ]
  },
  {
   "cell_type": "code",
   "execution_count": 26,
   "metadata": {
    "collapsed": false
   },
   "outputs": [
    {
     "name": "stdout",
     "output_type": "stream",
     "text": [
      "Overwriting ctytest.py\n"
     ]
    }
   ],
   "source": [
    "%%writefile ctytest.py\n",
    "import ctypes\n",
    "import numpy as np\n",
    "\n",
    "def build_MarkBoundaries():\n",
    "    dll = ctypes.CDLL('./_ctytest.so', mode=ctypes.RTLD_GLOBAL)\n",
    "    func = dll.MarkBoundaries\n",
    "    func.argtypes = [\n",
    "        ctypes.POINTER(ctypes.c_uint),\n",
    "        ctypes.c_int\n",
    "    ]\n",
    "    return func\n",
    "\n",
    "def MarkBoundaries(raw):\n",
    "    ctytest_sum_impl = build_MarkBoundaries()\n",
    "    rawPtr = raw.ctypes.data_as(ctypes.POINTER(ctypes.c_uint))\n",
    "\n",
    "    ctytest_sum_impl(rawPtr, raw.size)"
   ]
  },
  {
   "cell_type": "code",
   "execution_count": 27,
   "metadata": {
    "collapsed": false
   },
   "outputs": [
    {
     "name": "stdout",
     "output_type": "stream",
     "text": [
      "[1 1 1 1 1 1 1 1 1 1 0 0 0 0 0 0 0 0 0 0 0 0 0 0 0 0 0 0 0 0 0 0 0 0 0 1 1\n",
      " 1 1 1 1 1 1 1 1 1 1 1 1 1 1 1 1 1 1 1 1 1 1 1 1 1 1 1 1 1 1 1 1 1 1 1 1 1\n",
      " 1 1 1 1 1 1 1 1 1 1 1 1 1 1 1 1 1 1 1 1 1 1 1 1 1 1 1 1 1 1 1 1 1 1 1 1 1\n",
      " 1 1 1 1 1 1 1 1 1 1 1 1 1 1]\n",
      "[3 3 3 3 3 3 3 3 3 3 3 3 3 3 3 3 3 3 3 3 3 3 3 3 3 3 3 3 3 3 3 3 3 3 3 3 3\n",
      " 3 3 3 3 3 3 3 3 3 3 3 3 3 3 3 3 3 3 3 3 3 3 3 3 3 3 3 3 3 3 3 3 3 3 3 3 3\n",
      " 3 3 3 3 3 3 3 3 3 3 3 3 3 3 3 3 3 3 3 3 3 3 3 3 3 3 3 3 3 3 3 3 3 3 3 3 3\n",
      " 3 3 3 3 3 3 3 3 3 3 3 3 3 3]\n"
     ]
    }
   ],
   "source": [
    "import numpy\n",
    "import ctytest\n",
    "\n",
    "raw = numpy.ones(125, dtype=numpy.uint32)\n",
    "raw[10:35] = numpy.zeros(25, dtype=numpy.uint32)\n",
    "\n",
    "print(raw)\n",
    "\n",
    "ctytest.MarkBoundaries(raw)\n",
    "\n",
    "print(raw)"
   ]
  }
 ],
 "metadata": {
  "kernelspec": {
   "display_name": "Python 3",
   "language": "python",
   "name": "python3"
  },
  "language_info": {
   "codemirror_mode": {
    "name": "ipython",
    "version": 3
   },
   "file_extension": ".py",
   "mimetype": "text/x-python",
   "name": "python",
   "nbconvert_exporter": "python",
   "pygments_lexer": "ipython3",
   "version": "3.6.0"
  }
 },
 "nbformat": 4,
 "nbformat_minor": 0
}
