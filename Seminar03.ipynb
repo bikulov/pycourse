{
 "cells": [
  {
   "cell_type": "markdown",
   "metadata": {},
   "source": [
    "# 3. Loops, functions, classes, i/o, exceptions, context managers, modules and packages"
   ]
  },
  {
   "cell_type": "markdown",
   "metadata": {},
   "source": [
    "## 3.1. Branching and loops"
   ]
  },
  {
   "cell_type": "markdown",
   "metadata": {},
   "source": [
    "### 3.1.1. Conditional branching"
   ]
  },
  {
   "cell_type": "markdown",
   "metadata": {},
   "source": [
    "Conditional statements formatting is similar to functions definitions: header and indented block."
   ]
  },
  {
   "cell_type": "code",
   "execution_count": 1,
   "metadata": {
    "collapsed": false
   },
   "outputs": [
    {
     "name": "stdout",
     "output_type": "stream",
     "text": [
      "100\n"
     ]
    }
   ],
   "source": [
    "a = 100\n",
    "\n",
    "if a > 10:\n",
    "    print(a)"
   ]
  },
  {
   "cell_type": "code",
   "execution_count": 2,
   "metadata": {
    "collapsed": false
   },
   "outputs": [
    {
     "name": "stdout",
     "output_type": "stream",
     "text": [
      "100\n"
     ]
    }
   ],
   "source": [
    "a = 100\n",
    "\n",
    "if a > 10 or c > 5:\n",
    "    print(a)"
   ]
  },
  {
   "cell_type": "code",
   "execution_count": 3,
   "metadata": {
    "collapsed": false
   },
   "outputs": [
    {
     "name": "stdout",
     "output_type": "stream",
     "text": [
      "name 'c' is not defined\n"
     ]
    }
   ],
   "source": [
    "a = 100\n",
    "\n",
    "try:\n",
    "    if a > 10 and c > 5:\n",
    "        print(a)\n",
    "except NameError as e:\n",
    "    print(e)"
   ]
  },
  {
   "cell_type": "code",
   "execution_count": 4,
   "metadata": {
    "collapsed": false
   },
   "outputs": [
    {
     "name": "stdout",
     "output_type": "stream",
     "text": [
      "100 200\n"
     ]
    }
   ],
   "source": [
    "a = 100\n",
    "b = 200\n",
    "\n",
    "if a > 10 and b > 5:\n",
    "    print(a, b)"
   ]
  },
  {
   "cell_type": "code",
   "execution_count": 5,
   "metadata": {
    "collapsed": false
   },
   "outputs": [
    {
     "name": "stdout",
     "output_type": "stream",
     "text": [
      "a is small\n"
     ]
    }
   ],
   "source": [
    "a = 5\n",
    "\n",
    "if a > 10:\n",
    "    print(a)\n",
    "else:\n",
    "    print('a is small')\n",
    "    \n",
    "    "
   ]
  },
  {
   "cell_type": "code",
   "execution_count": 6,
   "metadata": {
    "collapsed": false
   },
   "outputs": [
    {
     "name": "stdout",
     "output_type": "stream",
     "text": [
      "6\n"
     ]
    }
   ],
   "source": [
    "a = 5\n",
    "b = 6\n",
    "\n",
    "if a > 10:\n",
    "    print(a)\n",
    "elif b > 5:\n",
    "    print(b)\n",
    "else:\n",
    "    print('a is small')"
   ]
  },
  {
   "cell_type": "code",
   "execution_count": 7,
   "metadata": {
    "collapsed": false
   },
   "outputs": [
    {
     "name": "stdout",
     "output_type": "stream",
     "text": [
      "100\n"
     ]
    }
   ],
   "source": [
    "a = 5\n",
    "b = 100\n",
    "\n",
    "if a > 10:\n",
    "    print(a)\n",
    "else:\n",
    "    if b > 10:\n",
    "        print(b)\n",
    "    else:\n",
    "        print('Both b and a are small')\n",
    "    "
   ]
  },
  {
   "cell_type": "markdown",
   "metadata": {},
   "source": [
    "### 3.1.2. For loops"
   ]
  },
  {
   "cell_type": "code",
   "execution_count": 8,
   "metadata": {
    "collapsed": false
   },
   "outputs": [
    {
     "name": "stdout",
     "output_type": "stream",
     "text": [
      "a 0\n",
      "b 1\n",
      "c 2\n",
      "d 3\n",
      "e 4\n"
     ]
    }
   ],
   "source": [
    "elements = ['a', 'b', 'c', 'd', 'e']\n",
    "iterationsNum = 0\n",
    "for e in elements:\n",
    "    print(e, iterationsNum)\n",
    "    iterationsNum += 1"
   ]
  },
  {
   "cell_type": "code",
   "execution_count": 9,
   "metadata": {
    "collapsed": false
   },
   "outputs": [
    {
     "name": "stdout",
     "output_type": "stream",
     "text": [
      "<enumerate object at 0x7f27d80451f8>\n",
      "a 0\n",
      "b 1\n",
      "c 2\n",
      "d 3\n",
      "e 4\n"
     ]
    }
   ],
   "source": [
    "elements = ['a', 'b', 'c', 'd', 'e']\n",
    "print(enumerate(elements))\n",
    "for num, e in enumerate(elements):\n",
    "    print(e, num)"
   ]
  },
  {
   "cell_type": "code",
   "execution_count": 10,
   "metadata": {
    "collapsed": false
   },
   "outputs": [
    {
     "name": "stdout",
     "output_type": "stream",
     "text": [
      "<enumerate object at 0x7f27d804b4c8>\n",
      "a 0\n",
      "b 1\n",
      "c 2\n",
      "d 3\n"
     ]
    }
   ],
   "source": [
    "elements = ['a', 'b', 'c', 'd', 'e']\n",
    "print(enumerate(elements))\n",
    "for num, e in enumerate(elements):\n",
    "    if num > 3:\n",
    "        break\n",
    "    print(e, num)\n",
    "else:\n",
    "    print('All elements have been processed')"
   ]
  },
  {
   "cell_type": "code",
   "execution_count": 11,
   "metadata": {
    "collapsed": false
   },
   "outputs": [
    {
     "name": "stdout",
     "output_type": "stream",
     "text": [
      "a 0\n",
      "b 1\n",
      "d 3\n",
      "e 4\n",
      "All elements have been processed\n"
     ]
    }
   ],
   "source": [
    "elements = ['a', 'b', 'c', 'd', 'e']\n",
    "for num, e in enumerate(elements):\n",
    "    if num == 2:\n",
    "        continue\n",
    "    print(e, num)\n",
    "else:\n",
    "    print('All elements have been processed')"
   ]
  },
  {
   "cell_type": "code",
   "execution_count": 12,
   "metadata": {
    "collapsed": false
   },
   "outputs": [
    {
     "name": "stdout",
     "output_type": "stream",
     "text": [
      "List is empty\n"
     ]
    }
   ],
   "source": [
    "emptyList = []\n",
    "for num, e in enumerate(emptyList):\n",
    "    print(e, num)\n",
    "else:\n",
    "    print('List is empty')"
   ]
  },
  {
   "cell_type": "markdown",
   "metadata": {},
   "source": [
    "### 3.1.3. While loop"
   ]
  },
  {
   "cell_type": "code",
   "execution_count": 13,
   "metadata": {
    "collapsed": false
   },
   "outputs": [
    {
     "name": "stdout",
     "output_type": "stream",
     "text": [
      "0\n",
      "1\n",
      "2\n",
      "3\n",
      "4\n"
     ]
    }
   ],
   "source": [
    "a = 0\n",
    "while a < 5:\n",
    "    print(a)\n",
    "    a += 1"
   ]
  },
  {
   "cell_type": "code",
   "execution_count": 14,
   "metadata": {
    "collapsed": false
   },
   "outputs": [
    {
     "name": "stdout",
     "output_type": "stream",
     "text": [
      "0\n",
      "1\n",
      "2\n",
      "3\n",
      "4\n",
      "5\n"
     ]
    }
   ],
   "source": [
    "a = 0\n",
    "while True:\n",
    "    print(a)\n",
    "    a += 1\n",
    "    if a > 5:\n",
    "        break"
   ]
  },
  {
   "cell_type": "code",
   "execution_count": 15,
   "metadata": {
    "collapsed": false
   },
   "outputs": [
    {
     "name": "stdout",
     "output_type": "stream",
     "text": [
      "False condition\n"
     ]
    }
   ],
   "source": [
    "a = 0\n",
    "while False:\n",
    "    print(a)\n",
    "    a += 1\n",
    "    if a > 5:\n",
    "        break\n",
    "else:\n",
    "    print('False condition')"
   ]
  },
  {
   "cell_type": "markdown",
   "metadata": {},
   "source": [
    "## 3.2. Functions"
   ]
  },
  {
   "cell_type": "markdown",
   "metadata": {},
   "source": [
    "### 3.2.1. Fixed number of arguments"
   ]
  },
  {
   "cell_type": "code",
   "execution_count": 16,
   "metadata": {
    "collapsed": false
   },
   "outputs": [
    {
     "name": "stdout",
     "output_type": "stream",
     "text": [
      "5.5\n"
     ]
    }
   ],
   "source": [
    "def AverageOfTwo(a, b):\n",
    "    average = 0.5 * (a + b)\n",
    "    return average\n",
    "\n",
    "print(AverageOfTwo(5, 6))"
   ]
  },
  {
   "cell_type": "markdown",
   "metadata": {},
   "source": [
    "You can specify types in function declaration (Python 3.5+). See: https://docs.python.org/3/library/typing.html"
   ]
  },
  {
   "cell_type": "code",
   "execution_count": 17,
   "metadata": {
    "collapsed": false
   },
   "outputs": [
    {
     "name": "stdout",
     "output_type": "stream",
     "text": [
      "4.5\n",
      "4.5\n",
      "AverageOfTwo('a', 6.0) resulted an error\n"
     ]
    }
   ],
   "source": [
    "def AverageOfTwo(a: float, b: float) -> float:\n",
    "    average = 0.5 * (a + b)\n",
    "    return average\n",
    "\n",
    "print(AverageOfTwo(3, 6)) # OK\n",
    "print(AverageOfTwo(3.0, 6.0)) # OK\n",
    "\n",
    "try:\n",
    "    print(AverageOfTwo('a', 6.0)) # error\n",
    "except TypeError:\n",
    "    print('AverageOfTwo(\\'a\\', 6.0) resulted an error')"
   ]
  },
  {
   "cell_type": "markdown",
   "metadata": {},
   "source": [
    "### 3.2.2. Default arguments"
   ]
  },
  {
   "cell_type": "code",
   "execution_count": 18,
   "metadata": {
    "collapsed": false
   },
   "outputs": [
    {
     "name": "stdout",
     "output_type": "stream",
     "text": [
      "4.5\n"
     ]
    }
   ],
   "source": [
    "def AverageOfTwo(a, b=6):\n",
    "    average = 0.5 * (a + b)\n",
    "    return average\n",
    "\n",
    "print(AverageOfTwo(3))"
   ]
  },
  {
   "cell_type": "markdown",
   "metadata": {},
   "source": [
    "Do **not** use mutable objects as default values, it will cause undesired behaviour. See example below."
   ]
  },
  {
   "cell_type": "code",
   "execution_count": 19,
   "metadata": {
    "collapsed": false
   },
   "outputs": [
    {
     "name": "stdout",
     "output_type": "stream",
     "text": [
      "[10]\n"
     ]
    }
   ],
   "source": [
    "def AddToList(value, container=list()):\n",
    "    container.append(value)\n",
    "    return container\n",
    "\n",
    "v, c = 10, []\n",
    "r = AddToList(10, c)\n",
    "print(r)"
   ]
  },
  {
   "cell_type": "code",
   "execution_count": 20,
   "metadata": {
    "collapsed": false
   },
   "outputs": [
    {
     "name": "stdout",
     "output_type": "stream",
     "text": [
      "[3]\n"
     ]
    }
   ],
   "source": [
    "c = AddToList(3)\n",
    "print(c)"
   ]
  },
  {
   "cell_type": "code",
   "execution_count": 21,
   "metadata": {
    "collapsed": false
   },
   "outputs": [
    {
     "name": "stdout",
     "output_type": "stream",
     "text": [
      "[3, 3]\n"
     ]
    }
   ],
   "source": [
    "d = AddToList(3)\n",
    "print(d)"
   ]
  },
  {
   "cell_type": "markdown",
   "metadata": {},
   "source": [
    "### 3.2.3. Variable number of arguments"
   ]
  },
  {
   "cell_type": "code",
   "execution_count": 22,
   "metadata": {
    "collapsed": false
   },
   "outputs": [
    {
     "name": "stdout",
     "output_type": "stream",
     "text": [
      "4.5\n",
      "4.5\n"
     ]
    }
   ],
   "source": [
    "def Average(a, b, *args):\n",
    "    total = a + b + sum(args)\n",
    "    average = total / (2 + len(args))\n",
    "    return average\n",
    "\n",
    "print(Average(3, 6))\n",
    "print(Average(3, 6, 6, 3))"
   ]
  },
  {
   "cell_type": "code",
   "execution_count": 23,
   "metadata": {
    "collapsed": false
   },
   "outputs": [
    {
     "name": "stdout",
     "output_type": "stream",
     "text": [
      "1.0\n",
      "4.0\n"
     ]
    }
   ],
   "source": [
    "def Average(*args):\n",
    "    average = sum(args) / len(args)\n",
    "    return average\n",
    "\n",
    "print(Average(1))\n",
    "print(Average(3, 4, 5))"
   ]
  },
  {
   "cell_type": "markdown",
   "metadata": {},
   "source": [
    "The full function definition with all variable types:"
   ]
  },
  {
   "cell_type": "code",
   "execution_count": 24,
   "metadata": {
    "collapsed": false
   },
   "outputs": [
    {
     "name": "stdout",
     "output_type": "stream",
     "text": [
      "1 3 f\n",
      "('new', 10.8)\n",
      "{'test': True, 'table': 'home'}\n"
     ]
    }
   ],
   "source": [
    "def Func(a, b, c, *args, **kwargs):\n",
    "    print(a, b, c)\n",
    "    print(args)\n",
    "    print(kwargs)\n",
    "    \n",
    "Func(1, 3, 'f', 'new', 10.8, test=True, table='home')"
   ]
  },
  {
   "cell_type": "markdown",
   "metadata": {},
   "source": [
    "### 3.2.4. Decorators"
   ]
  },
  {
   "cell_type": "markdown",
   "metadata": {
    "collapsed": true
   },
   "source": [
    "Functions in Python are objects. That means that you can assign function to a variable, bypass it as argument."
   ]
  },
  {
   "cell_type": "code",
   "execution_count": 25,
   "metadata": {
    "collapsed": false
   },
   "outputs": [
    {
     "name": "stdout",
     "output_type": "stream",
     "text": [
      "[0, 1, 2, 3, 4, 5, 6, 7, 8, 9]\n",
      "[0, 1, 4, 9, 16, 25, 36, 49, 64, 81]\n"
     ]
    }
   ],
   "source": [
    "def ApplyFunc(func, container):\n",
    "    result = []\n",
    "    for value in container:\n",
    "        result.append(func(value))\n",
    "    return result\n",
    "\n",
    "def Square(value):\n",
    "    return value * value\n",
    "\n",
    "a = list(range(10))\n",
    "print(a)\n",
    "b = ApplyFunc(Square, a)\n",
    "print(b)"
   ]
  },
  {
   "cell_type": "markdown",
   "metadata": {
    "collapsed": true
   },
   "source": [
    "Standart function map does the same:"
   ]
  },
  {
   "cell_type": "code",
   "execution_count": 26,
   "metadata": {
    "collapsed": false
   },
   "outputs": [
    {
     "name": "stdout",
     "output_type": "stream",
     "text": [
      "[0, 1, 4, 9, 16, 25, 36, 49, 64, 81]\n"
     ]
    }
   ],
   "source": [
    "print(list(map(Square, a)))"
   ]
  },
  {
   "cell_type": "markdown",
   "metadata": {},
   "source": [
    "Decorator is a function, that gets function as argument and returns function."
   ]
  },
  {
   "cell_type": "code",
   "execution_count": 27,
   "metadata": {
    "collapsed": false
   },
   "outputs": [
    {
     "name": "stdout",
     "output_type": "stream",
     "text": [
      "SimpleDecorator start\n",
      "1.0\n"
     ]
    }
   ],
   "source": [
    "def SimpleDecorator(func):\n",
    "    print('SimpleDecorator start')\n",
    "    return func\n",
    "\n",
    "@SimpleDecorator\n",
    "def Average(*kwargs):\n",
    "    average = sum(kwargs) / len(kwargs)\n",
    "    return average\n",
    "\n",
    "print(Average(1))"
   ]
  },
  {
   "cell_type": "code",
   "execution_count": 28,
   "metadata": {
    "collapsed": false
   },
   "outputs": [
    {
     "name": "stdout",
     "output_type": "stream",
     "text": [
      "Elapsed time is 5.0067901611328125e-06\n",
      "3.0\n"
     ]
    }
   ],
   "source": [
    "def TimingDecorator(func):\n",
    "    import time\n",
    "    def wrapper(*args):\n",
    "        start = time.time()\n",
    "        result = func(*args)\n",
    "        stop = time.time()\n",
    "        print(\"Elapsed time is {}\".format(stop - start))\n",
    "        return result\n",
    "    return wrapper\n",
    "\n",
    "@TimingDecorator\n",
    "def Average(*args):\n",
    "    average = sum(args) / len(args)\n",
    "    return average\n",
    "\n",
    "print(Average(1, 2, 3, 4, 5))"
   ]
  },
  {
   "cell_type": "code",
   "execution_count": 29,
   "metadata": {
    "collapsed": false
   },
   "outputs": [
    {
     "name": "stdout",
     "output_type": "stream",
     "text": [
      "SimpleDecorator start\n",
      "Elapsed time is 2.6226043701171875e-06\n",
      "3.0\n"
     ]
    }
   ],
   "source": [
    "@SimpleDecorator\n",
    "@TimingDecorator\n",
    "def Average(*kwargs):\n",
    "    average = sum(kwargs) / len(kwargs)\n",
    "    return average\n",
    "\n",
    "print(Average(1, 2, 3, 4, 5))"
   ]
  },
  {
   "cell_type": "markdown",
   "metadata": {},
   "source": [
    "Decorators are syntaxic sugar. You could write instead the following code:"
   ]
  },
  {
   "cell_type": "code",
   "execution_count": 30,
   "metadata": {
    "collapsed": false
   },
   "outputs": [
    {
     "name": "stdout",
     "output_type": "stream",
     "text": [
      "Elapsed time is 3.814697265625e-06\n",
      "3.0\n"
     ]
    }
   ],
   "source": [
    "def TimingDecorator(func):\n",
    "    import time\n",
    "    def wrapper(*args):\n",
    "        start = time.time()\n",
    "        result = func(*args)\n",
    "        stop = time.time()\n",
    "        print(\"Elapsed time is {}\".format(stop - start))\n",
    "        return result\n",
    "    return wrapper\n",
    "\n",
    "def Average(*kwargs):\n",
    "    average = sum(kwargs) / len(kwargs)\n",
    "    return average\n",
    "\n",
    "DecoratedAverage = TimingDecorator(Average)\n",
    "\n",
    "print(DecoratedAverage(1, 2, 3, 4, 5))"
   ]
  },
  {
   "cell_type": "markdown",
   "metadata": {},
   "source": [
    "### 3.2.5. Generators"
   ]
  },
  {
   "cell_type": "markdown",
   "metadata": {
    "collapsed": true
   },
   "source": [
    "Generator is a function, that maintains state between values produced. In ordinary functions you use **return** keyword to produce one value. In generators **yield** used instead.\n"
   ]
  },
  {
   "cell_type": "code",
   "execution_count": 31,
   "metadata": {
    "collapsed": false
   },
   "outputs": [
    {
     "name": "stdout",
     "output_type": "stream",
     "text": [
      "call 1 one\n",
      "call 2 two\n"
     ]
    }
   ],
   "source": [
    "def GeneratorFunc():\n",
    "    yield 'one'\n",
    "    yield 'two'\n",
    "    yield 'three'\n",
    "    \n",
    "gen = GeneratorFunc()\n",
    "print('call 1', next(gen))\n",
    "print('call 2', next(gen))"
   ]
  },
  {
   "cell_type": "markdown",
   "metadata": {},
   "source": [
    "It is possible to use generators in for loops:"
   ]
  },
  {
   "cell_type": "code",
   "execution_count": 32,
   "metadata": {
    "collapsed": false
   },
   "outputs": [
    {
     "name": "stdout",
     "output_type": "stream",
     "text": [
      "one\n",
      "two\n",
      "three\n"
     ]
    }
   ],
   "source": [
    "for st in GeneratorFunc():\n",
    "    print(st)"
   ]
  },
  {
   "cell_type": "code",
   "execution_count": 33,
   "metadata": {
    "collapsed": false
   },
   "outputs": [
    {
     "name": "stdout",
     "output_type": "stream",
     "text": [
      "1 1 2 3 5 8 13 21 34 55 89 144 233 377 610 987 1597 2584 4181 6765 10946 "
     ]
    }
   ],
   "source": [
    "def Fibonacci():\n",
    "    a, b = 1, 1\n",
    "    yield a\n",
    "    yield b\n",
    "    while True:\n",
    "        a, b = b, a + b\n",
    "        yield b\n",
    "        \n",
    "for n, x in enumerate(Fibonacci()):\n",
    "    print(x, end=' ')\n",
    "    if n == 20:\n",
    "        break"
   ]
  },
  {
   "cell_type": "markdown",
   "metadata": {},
   "source": [
    "[Generator expressions](https://www.python.org/dev/peps/pep-0289/) are high performance, memory efficient generalization of list comprehensions. Syntax is the same, except for brackets:"
   ]
  },
  {
   "cell_type": "code",
   "execution_count": 34,
   "metadata": {
    "collapsed": false
   },
   "outputs": [
    {
     "name": "stdout",
     "output_type": "stream",
     "text": [
      "<generator object <genexpr> at 0x7f27d807fe08>\n",
      "Size: 88\n",
      "0 1 4 9 16 25 36 49 64 81 "
     ]
    }
   ],
   "source": [
    "import sys\n",
    "\n",
    "gen = (x**2 for x in range(10))\n",
    "print(gen)\n",
    "print(\"Size:\", sys.getsizeof(gen))\n",
    "for i in gen:\n",
    "    print(i, end=' ')"
   ]
  },
  {
   "cell_type": "markdown",
   "metadata": {},
   "source": [
    "And the same example, but with [list comprehension](https://www.python.org/dev/peps/pep-0202/):"
   ]
  },
  {
   "cell_type": "code",
   "execution_count": 35,
   "metadata": {
    "collapsed": false
   },
   "outputs": [
    {
     "name": "stdout",
     "output_type": "stream",
     "text": [
      "[0, 1, 4, 9, 16, 25, 36, 49, 64, 81]\n",
      "Size: 192\n",
      "0 1 4 9 16 25 36 49 64 81 "
     ]
    }
   ],
   "source": [
    "import sys\n",
    "\n",
    "gen = [x**2 for x in range(10)]\n",
    "print(gen)\n",
    "print(\"Size:\", sys.getsizeof(gen))\n",
    "for i in gen:\n",
    "    print(i, end=' ')"
   ]
  },
  {
   "cell_type": "markdown",
   "metadata": {},
   "source": [
    "### 3.2.6. Lambda-functions"
   ]
  },
  {
   "cell_type": "markdown",
   "metadata": {
    "collapsed": true
   },
   "source": [
    "Lambda-functions are nameless one-line (mostly) functions."
   ]
  },
  {
   "cell_type": "code",
   "execution_count": 36,
   "metadata": {
    "collapsed": false
   },
   "outputs": [
    {
     "name": "stdout",
     "output_type": "stream",
     "text": [
      "10\n"
     ]
    }
   ],
   "source": [
    "MyLambda = lambda: 10\n",
    "print(MyLambda())"
   ]
  },
  {
   "cell_type": "code",
   "execution_count": 37,
   "metadata": {
    "collapsed": false
   },
   "outputs": [
    {
     "name": "stdout",
     "output_type": "stream",
     "text": [
      "81\n"
     ]
    }
   ],
   "source": [
    "Square = lambda x: x ** 2\n",
    "print(Square(9))"
   ]
  },
  {
   "cell_type": "code",
   "execution_count": 38,
   "metadata": {
    "collapsed": false
   },
   "outputs": [
    {
     "name": "stdout",
     "output_type": "stream",
     "text": [
      "[0, 1, 4, 9, 16, 25, 36, 49, 64, 81]\n"
     ]
    }
   ],
   "source": [
    "a = list(range(10))\n",
    "b = map(lambda x: x**2, a)\n",
    "print(list(b))"
   ]
  },
  {
   "cell_type": "markdown",
   "metadata": {},
   "source": [
    "## 3.3. Classes"
   ]
  },
  {
   "cell_type": "markdown",
   "metadata": {},
   "source": [
    "Class is a user-defined type with data members (class and instance variables) and methods, accessed via dot notation.\n",
    "\n",
    "See details in [documentation](https://docs.python.org/3/tutorial/classes.html)."
   ]
  },
  {
   "cell_type": "markdown",
   "metadata": {},
   "source": [
    "### 3.3.1. Methods and variables"
   ]
  },
  {
   "cell_type": "code",
   "execution_count": 39,
   "metadata": {
    "collapsed": false
   },
   "outputs": [
    {
     "name": "stdout",
     "output_type": "stream",
     "text": [
      "Documentation: Class description and help\n",
      "<__main__.Point object at 0x7f27d8059ac8>\n",
      "1.4142135623730951\n"
     ]
    }
   ],
   "source": [
    "import math\n",
    "\n",
    "class Point:\n",
    "    \"\"\"Class description and help\"\"\"\n",
    "    def __init__(self, x, y):\n",
    "        self.x = x\n",
    "        self.y = y\n",
    "    \n",
    "    def Dist(self, xx, yy):\n",
    "        l2 = (self.x - xx)**2 + (self.y - yy)**2\n",
    "        return math.sqrt(l2)\n",
    "    \n",
    "a = Point(2, 3)\n",
    "\n",
    "print(\"Documentation:\", Point.__doc__)\n",
    "print(a)\n",
    "print(a.Dist(3, 4))"
   ]
  },
  {
   "cell_type": "markdown",
   "metadata": {},
   "source": [
    "You can assign method objects to a variable to call them later:"
   ]
  },
  {
   "cell_type": "code",
   "execution_count": 40,
   "metadata": {
    "collapsed": false
   },
   "outputs": [
    {
     "name": "stdout",
     "output_type": "stream",
     "text": [
      "1.4142135623730951\n"
     ]
    }
   ],
   "source": [
    "f = a.Dist\n",
    "\n",
    "print(f(3, 4))"
   ]
  },
  {
   "cell_type": "markdown",
   "metadata": {},
   "source": [
    "Class variable `word` (do not use mutable types as class variables, you will have the same problems as for default values in functions):"
   ]
  },
  {
   "cell_type": "code",
   "execution_count": 41,
   "metadata": {
    "collapsed": false
   },
   "outputs": [
    {
     "name": "stdout",
     "output_type": "stream",
     "text": [
      "Hello\n"
     ]
    }
   ],
   "source": [
    "class B:\n",
    "    word = \"Hello\"\n",
    "\n",
    "c = B()\n",
    "\n",
    "print(c.word)"
   ]
  },
  {
   "cell_type": "markdown",
   "metadata": {},
   "source": [
    "Instance variable `word`:"
   ]
  },
  {
   "cell_type": "code",
   "execution_count": 42,
   "metadata": {
    "collapsed": false
   },
   "outputs": [
    {
     "name": "stdout",
     "output_type": "stream",
     "text": [
      "Hello\n"
     ]
    }
   ],
   "source": [
    "class B:\n",
    "    def __init__(self):\n",
    "        self.word = \"Hello\"\n",
    "\n",
    "c = B()\n",
    "\n",
    "print(c.word)"
   ]
  },
  {
   "cell_type": "markdown",
   "metadata": {},
   "source": [
    "### 3.3.2. Private methods"
   ]
  },
  {
   "cell_type": "markdown",
   "metadata": {
    "collapsed": true
   },
   "source": [
    "All methods in Python are public. But there is a coding convetion about naming of 'private' methods: at least two leading underscores and at most one trailing underscore. See https://docs.python.org/3/tutorial/classes.html#private-variables-and-class-local-references"
   ]
  },
  {
   "cell_type": "code",
   "execution_count": 43,
   "metadata": {
    "collapsed": true
   },
   "outputs": [],
   "source": [
    "class Foo:\n",
    "    def __PrivateFunc(self):\n",
    "        return 42"
   ]
  },
  {
   "cell_type": "code",
   "execution_count": 44,
   "metadata": {
    "collapsed": false
   },
   "outputs": [
    {
     "name": "stdout",
     "output_type": "stream",
     "text": [
      "['_Foo__PrivateFunc', '__class__', '__delattr__', '__dict__', '__dir__', '__doc__', '__eq__', '__format__', '__ge__', '__getattribute__', '__gt__', '__hash__', '__init__', '__init_subclass__', '__le__', '__lt__', '__module__', '__ne__', '__new__', '__reduce__', '__reduce_ex__', '__repr__', '__setattr__', '__sizeof__', '__str__', '__subclasshook__', '__weakref__']\n"
     ]
    }
   ],
   "source": [
    "print(dir(Foo))"
   ]
  },
  {
   "cell_type": "markdown",
   "metadata": {},
   "source": [
    "But you can call it anyway:"
   ]
  },
  {
   "cell_type": "code",
   "execution_count": 45,
   "metadata": {
    "collapsed": false
   },
   "outputs": [
    {
     "name": "stdout",
     "output_type": "stream",
     "text": [
      "42\n"
     ]
    }
   ],
   "source": [
    "a = Foo()\n",
    "print(a._Foo__PrivateFunc())"
   ]
  },
  {
   "cell_type": "markdown",
   "metadata": {},
   "source": [
    "### 3.3.3. Inheritance"
   ]
  },
  {
   "cell_type": "markdown",
   "metadata": {},
   "source": [
    "Read more on `super`: https://docs.python.org/3/library/functions.html#super"
   ]
  },
  {
   "cell_type": "code",
   "execution_count": 46,
   "metadata": {
    "collapsed": false
   },
   "outputs": [
    {
     "name": "stdout",
     "output_type": "stream",
     "text": [
      "__init__ from Derived\n",
      "__init__ from Base\n"
     ]
    }
   ],
   "source": [
    "class Base:\n",
    "    def __init__(self):\n",
    "        print('__init__ from Base')\n",
    "        super().__init__()\n",
    "        \n",
    "class Derived(Base):\n",
    "    def __init__(self):\n",
    "        print('__init__ from Derived')\n",
    "        super().__init__()\n",
    "        \n",
    "b = Derived()"
   ]
  },
  {
   "cell_type": "markdown",
   "metadata": {},
   "source": [
    "In case of multiple base classes, `super()` allows you to use cooperative inheritance and call all base classes constructors in order, defined by MRO (see http://www.artima.com/weblogs/viewpost.jsp?thread=281127). Here be the dragons."
   ]
  },
  {
   "cell_type": "code",
   "execution_count": 47,
   "metadata": {
    "collapsed": false
   },
   "outputs": [
    {
     "name": "stdout",
     "output_type": "stream",
     "text": [
      "__init__ from Derived\n",
      "__init__ from BaseOne\n",
      "__init__ from BaseTwo\n",
      "[<class '__main__.Derived'>, <class '__main__.BaseOne'>, <class '__main__.BaseTwo'>, <class 'object'>]\n"
     ]
    }
   ],
   "source": [
    "class BaseOne:\n",
    "    def __init__(self):\n",
    "        print('__init__ from BaseOne')\n",
    "        super().__init__()\n",
    "\n",
    "class BaseTwo:\n",
    "    def __init__(self):\n",
    "        print('__init__ from BaseTwo')\n",
    "        super().__init__()\n",
    "        \n",
    "class Derived(BaseOne, BaseTwo):\n",
    "    def __init__(self):\n",
    "        print('__init__ from Derived')\n",
    "        super().__init__()\n",
    "\n",
    "d = Derived()\n",
    "\n",
    "print(Derived.mro())"
   ]
  },
  {
   "cell_type": "markdown",
   "metadata": {},
   "source": [
    "### 3.3.4. Magic method"
   ]
  },
  {
   "cell_type": "markdown",
   "metadata": {},
   "source": [
    "Magic methods are special methods with predefined names: https://docs.python.org/3/reference/datamodel.html#specialnames\n",
    "\n",
    "Examples of some of them are below."
   ]
  },
  {
   "cell_type": "code",
   "execution_count": 48,
   "metadata": {
    "collapsed": false
   },
   "outputs": [
    {
     "name": "stdout",
     "output_type": "stream",
     "text": [
      "(1, 2, 3)\n"
     ]
    }
   ],
   "source": [
    "class Point:\n",
    "    def __init__(self, x, y, z):\n",
    "        self.x = x\n",
    "        self.y = y\n",
    "        self.z = z\n",
    "    \n",
    "    def __str__(self):\n",
    "        return '({}, {}, {})'.format(self.x, self.y, self.z)\n",
    "    \n",
    "    def __add__(self, other):\n",
    "        return Point(\n",
    "            self.x + other.x,\n",
    "            self.y + other.y,\n",
    "            self.z + other.z\n",
    "        )\n",
    "\n",
    "p = Point(1, 2, 3)\n",
    "print(p)"
   ]
  },
  {
   "cell_type": "code",
   "execution_count": 49,
   "metadata": {
    "collapsed": false
   },
   "outputs": [
    {
     "name": "stdout",
     "output_type": "stream",
     "text": [
      "(3, 5, 7)\n"
     ]
    }
   ],
   "source": [
    "a = Point(1, 2, 3)\n",
    "b = Point(2, 3, 4)\n",
    "\n",
    "print(a + b)"
   ]
  },
  {
   "cell_type": "markdown",
   "metadata": {},
   "source": [
    "## 3.4. Input and output"
   ]
  },
  {
   "cell_type": "markdown",
   "metadata": {},
   "source": [
    "### 3.4.1. Console"
   ]
  },
  {
   "cell_type": "code",
   "execution_count": 50,
   "metadata": {
    "collapsed": false
   },
   "outputs": [
    {
     "name": "stdout",
     "output_type": "stream",
     "text": [
      "print(value, ..., sep=' ', end='\\n', file=sys.stdout, flush=False)\n",
      "\n",
      "Prints the values to a stream, or to sys.stdout by default.\n",
      "Optional keyword arguments:\n",
      "file:  a file-like object (stream); defaults to the current sys.stdout.\n",
      "sep:   string inserted between values, default a space.\n",
      "end:   string appended after the last value, default a newline.\n",
      "flush: whether to forcibly flush the stream.\n"
     ]
    }
   ],
   "source": [
    "print(print.__doc__)"
   ]
  },
  {
   "cell_type": "code",
   "execution_count": 51,
   "metadata": {
    "collapsed": false
   },
   "outputs": [
    {
     "name": "stdout",
     "output_type": "stream",
     "text": [
      "1\n"
     ]
    }
   ],
   "source": [
    "a = 1\n",
    "print(1)"
   ]
  },
  {
   "cell_type": "code",
   "execution_count": 52,
   "metadata": {
    "collapsed": false
   },
   "outputs": [
    {
     "name": "stdout",
     "output_type": "stream",
     "text": [
      "строка\n"
     ]
    }
   ],
   "source": [
    "b = 'строка'\n",
    "print(b)"
   ]
  },
  {
   "cell_type": "code",
   "execution_count": 53,
   "metadata": {
    "collapsed": false
   },
   "outputs": [
    {
     "name": "stdout",
     "output_type": "stream",
     "text": [
      "1 строка\n"
     ]
    }
   ],
   "source": [
    "print(a, b)"
   ]
  },
  {
   "cell_type": "code",
   "execution_count": 54,
   "metadata": {
    "collapsed": false
   },
   "outputs": [
    {
     "name": "stdout",
     "output_type": "stream",
     "text": [
      "1;строка\n"
     ]
    }
   ],
   "source": [
    "print(a, b, sep=';')"
   ]
  },
  {
   "cell_type": "code",
   "execution_count": 55,
   "metadata": {
    "collapsed": false
   },
   "outputs": [
    {
     "name": "stdout",
     "output_type": "stream",
     "text": [
      "1 строка\n",
      "Бэтмен!\n"
     ]
    }
   ],
   "source": [
    "print(a, b, end='\\nБэтмен!\\n')"
   ]
  },
  {
   "cell_type": "markdown",
   "metadata": {},
   "source": [
    "### 3.4.2. File"
   ]
  },
  {
   "cell_type": "code",
   "execution_count": 56,
   "metadata": {
    "collapsed": false
   },
   "outputs": [],
   "source": [
    "with open('file_sem03.txt', 'w') as fout:\n",
    "    print('hello\\nworld', file=fout)"
   ]
  },
  {
   "cell_type": "code",
   "execution_count": 57,
   "metadata": {
    "collapsed": false
   },
   "outputs": [
    {
     "name": "stdout",
     "output_type": "stream",
     "text": [
      "<_io.TextIOWrapper name='file_sem03.txt' mode='r' encoding='UTF-8'>\n"
     ]
    }
   ],
   "source": [
    "f = open('file_sem03.txt')\n",
    "print(f)\n",
    "f.close()"
   ]
  },
  {
   "cell_type": "code",
   "execution_count": 58,
   "metadata": {
    "collapsed": false
   },
   "outputs": [
    {
     "name": "stdout",
     "output_type": "stream",
     "text": [
      "hello\n",
      "world\n",
      "\n"
     ]
    }
   ],
   "source": [
    "f = open('file_sem03.txt')\n",
    "print(f.read())\n",
    "f.close()"
   ]
  },
  {
   "cell_type": "code",
   "execution_count": 59,
   "metadata": {
    "collapsed": false
   },
   "outputs": [
    {
     "name": "stdout",
     "output_type": "stream",
     "text": [
      "['hello\\n', 'world\\n']\n"
     ]
    }
   ],
   "source": [
    "with open('file_sem03.txt') as fin:\n",
    "    a = fin.readlines()\n",
    "    print(a)"
   ]
  },
  {
   "cell_type": "code",
   "execution_count": 60,
   "metadata": {
    "collapsed": false
   },
   "outputs": [
    {
     "name": "stdout",
     "output_type": "stream",
     "text": [
      "hello\n"
     ]
    }
   ],
   "source": [
    "print(a[0].strip())"
   ]
  },
  {
   "cell_type": "code",
   "execution_count": 61,
   "metadata": {
    "collapsed": false
   },
   "outputs": [
    {
     "name": "stdout",
     "output_type": "stream",
     "text": [
      "['hello', 'world']\n",
      "False\n"
     ]
    }
   ],
   "source": [
    "f = open('file_sem03.txt')\n",
    "a = f.read().splitlines()\n",
    "print(a)\n",
    "print(f.closed)\n",
    "f.close()"
   ]
  },
  {
   "cell_type": "code",
   "execution_count": 62,
   "metadata": {
    "collapsed": false
   },
   "outputs": [
    {
     "name": "stdout",
     "output_type": "stream",
     "text": [
      "['hello\\n', 'world\\n']\n"
     ]
    }
   ],
   "source": [
    "with open('file_sem03.txt') as f:\n",
    "    a = f.readlines()\n",
    "    print(a)"
   ]
  },
  {
   "cell_type": "markdown",
   "metadata": {},
   "source": [
    "## 3.5. Exceptions"
   ]
  },
  {
   "cell_type": "markdown",
   "metadata": {},
   "source": [
    "[Exceptions](https://docs.python.org/3.5/library/exceptions.html) are thrown in case of errors detected during execution."
   ]
  },
  {
   "cell_type": "code",
   "execution_count": 63,
   "metadata": {
    "collapsed": false
   },
   "outputs": [
    {
     "name": "stdout",
     "output_type": "stream",
     "text": [
      "division by zero\n",
      "done\n"
     ]
    }
   ],
   "source": [
    "try:\n",
    "    a = 1 / 0\n",
    "except TypeError as e:\n",
    "    print(e)\n",
    "except ZeroDivisionError as e:\n",
    "    print(e)\n",
    "else:\n",
    "    print('we are allowed to divide ny zero somehow')\n",
    "finally:\n",
    "    print('done')\n",
    "    "
   ]
  },
  {
   "cell_type": "markdown",
   "metadata": {
    "collapsed": true
   },
   "source": [
    "Or you cat handle all exceptions (not recommended):"
   ]
  },
  {
   "cell_type": "code",
   "execution_count": 64,
   "metadata": {
    "collapsed": false
   },
   "outputs": [
    {
     "name": "stdout",
     "output_type": "stream",
     "text": [
      "Some error\n"
     ]
    }
   ],
   "source": [
    "try:\n",
    "    a = 1 / 0\n",
    "except:\n",
    "    print('Some error')"
   ]
  },
  {
   "cell_type": "markdown",
   "metadata": {},
   "source": [
    "It is good practice to define own exception classes for different errors:"
   ]
  },
  {
   "cell_type": "code",
   "execution_count": 65,
   "metadata": {
    "collapsed": false
   },
   "outputs": [
    {
     "name": "stdout",
     "output_type": "stream",
     "text": [
      "Error message\n"
     ]
    }
   ],
   "source": [
    "class MySomeError(Exception):\n",
    "    pass\n",
    "\n",
    "# some code here\n",
    "\n",
    "try:\n",
    "    raise MySomeError(\"Error message\")\n",
    "except MySomeError as e:\n",
    "    print(e)"
   ]
  },
  {
   "cell_type": "markdown",
   "metadata": {},
   "source": [
    "## 3.6. Context managers"
   ]
  },
  {
   "cell_type": "markdown",
   "metadata": {},
   "source": [
    "Context managers allow to work with resources safely. They garantee that `__exit__` will be called. See https://jeffknupp.com/blog/2016/03/07/python-with-context-managers/ "
   ]
  },
  {
   "cell_type": "code",
   "execution_count": 66,
   "metadata": {
    "collapsed": false
   },
   "outputs": [
    {
     "name": "stdout",
     "output_type": "stream",
     "text": [
      "__init__\n",
      "__enter__\n",
      "[10, 10]\n",
      "__exit__\n",
      "[]\n"
     ]
    }
   ],
   "source": [
    "class Manager():\n",
    "\n",
    "    def __init__(self):\n",
    "        print('__init__')\n",
    "\n",
    "    def __enter__(self):\n",
    "        self.data = []\n",
    "        print('__enter__')\n",
    "        return self.data\n",
    "\n",
    "    def __exit__(self, *args):\n",
    "        print('__exit__')\n",
    "        self.data.clear()\n",
    "        \n",
    "with Manager() as l:\n",
    "    l.append(10)\n",
    "    l.append(10)\n",
    "    print(l)\n",
    "    \n",
    "print(l)"
   ]
  },
  {
   "cell_type": "code",
   "execution_count": 67,
   "metadata": {
    "collapsed": false
   },
   "outputs": [
    {
     "name": "stdout",
     "output_type": "stream",
     "text": [
      "__init__\n",
      "__enter__\n",
      "__exit__\n",
      "[]\n"
     ]
    }
   ],
   "source": [
    "try:\n",
    "    with Manager() as l:\n",
    "        l.append(10)\n",
    "        a = 1 / 0\n",
    "        l.append(10)\n",
    "except:\n",
    "    pass\n",
    "print(l)"
   ]
  },
  {
   "cell_type": "markdown",
   "metadata": {},
   "source": [
    "## 3.7. Modules and packages"
   ]
  },
  {
   "cell_type": "markdown",
   "metadata": {},
   "source": [
    "A module is a python file with extension .py, containing definitions and statements. For example, lets create module helpers.py."
   ]
  },
  {
   "cell_type": "code",
   "execution_count": 68,
   "metadata": {
    "collapsed": false
   },
   "outputs": [
    {
     "name": "stdout",
     "output_type": "stream",
     "text": [
      "Overwriting helpers.py\n"
     ]
    }
   ],
   "source": [
    "%%writefile helpers.py\n",
    "#!/usrb/bin/env python3\n",
    "\"\"\"Module with helper functions\n",
    "GetHost return hostname\"\"\"\n",
    "\n",
    "def GetHost(url):\n",
    "    \"Returns hostname for a given url\"\n",
    "    scheme, urlNoScheme = url.split('://')\n",
    "    host = urlNoScheme.split('/')[0]\n",
    "    return host"
   ]
  },
  {
   "cell_type": "code",
   "execution_count": 69,
   "metadata": {
    "collapsed": true
   },
   "outputs": [],
   "source": [
    "import helpers"
   ]
  },
  {
   "cell_type": "code",
   "execution_count": 70,
   "metadata": {
    "collapsed": false
   },
   "outputs": [
    {
     "name": "stdout",
     "output_type": "stream",
     "text": [
      "yandex.ru\n"
     ]
    }
   ],
   "source": [
    "print(helpers.GetHost('http://yandex.ru/maps'))"
   ]
  },
  {
   "cell_type": "markdown",
   "metadata": {},
   "source": [
    "It is possible to import only one function from module:\n",
    "\n",
    "```python\n",
    "from helpers import GetHost\n",
    "```\n",
    "\n",
    "or all functions from module (bad practice):\n",
    "\n",
    "```python\n",
    "from helpers import *\n",
    "```\n",
    "\n",
    "In both cases function is called directly, without naming module:\n",
    "\n",
    "```python\n",
    "print(GetHost('http://yandex.ru/maps'))\n",
    "```"
   ]
  },
  {
   "cell_type": "markdown",
   "metadata": {},
   "source": [
    "Sometimes it is useful if module can work in case it is called directly as a file. For such tasks use recipe (if script is called directly, special variable `__name__` is \"`__main__`\"):\n",
    "\n",
    "\n",
    "```python\n",
    "if __name__ == \"__main__\":\n",
    "    # Do something\n",
    "```"
   ]
  },
  {
   "cell_type": "code",
   "execution_count": 71,
   "metadata": {
    "collapsed": false
   },
   "outputs": [
    {
     "name": "stdout",
     "output_type": "stream",
     "text": [
      "Overwriting helpers.py\n"
     ]
    }
   ],
   "source": [
    "%%writefile helpers.py\n",
    "#!/usrb/bin/env python3\n",
    "\"\"\"Module with helper functions\n",
    "GetHost return hostname\"\"\"\n",
    "\n",
    "def GetHost(url):\n",
    "    \"Returns hostname for a given url\"\n",
    "    scheme, urlNoScheme = url.split('://')\n",
    "    host = urlNoScheme.split('/')[0]\n",
    "    return host\n",
    "\n",
    "if __name__ == '__main__':\n",
    "    import sys\n",
    "    print(GetHost(sys.argv[1]))"
   ]
  },
  {
   "cell_type": "code",
   "execution_count": 72,
   "metadata": {
    "collapsed": false
   },
   "outputs": [
    {
     "name": "stdout",
     "output_type": "stream",
     "text": [
      "yandex.ru\n"
     ]
    }
   ],
   "source": [
    "%%bash\n",
    "python helpers.py 'http://yandex.ru/maps'"
   ]
  },
  {
   "cell_type": "markdown",
   "metadata": {},
   "source": [
    "Documentation line is the first noncomment line in class, function or module. It will be returned by help:"
   ]
  },
  {
   "cell_type": "code",
   "execution_count": 73,
   "metadata": {
    "collapsed": false
   },
   "outputs": [
    {
     "name": "stdout",
     "output_type": "stream",
     "text": [
      "Help on module helpers:\n",
      "\n",
      "NAME\n",
      "    helpers\n",
      "\n",
      "DESCRIPTION\n",
      "    Module with helper functions\n",
      "    GetHost return hostname\n",
      "\n",
      "FUNCTIONS\n",
      "    GetHost(url)\n",
      "        Returns hostname for a given url\n",
      "\n",
      "FILE\n",
      "    /home/bikulov/Projects/pycourse/helpers.py\n",
      "\n",
      "\n"
     ]
    }
   ],
   "source": [
    "help(helpers)"
   ]
  },
  {
   "cell_type": "markdown",
   "metadata": {},
   "source": [
    "Python looks for modules in order:\n",
    "\n",
    "1. working directory or directory with script file\n",
    "2. PYTHONPATH\n",
    "3. standart paths, depends on python distribution"
   ]
  },
  {
   "cell_type": "markdown",
   "metadata": {},
   "source": [
    "[Packages](https://docs.python.org/3/tutorial/modules.html#packages) are a way of structuring Python’s module namespace."
   ]
  },
  {
   "cell_type": "markdown",
   "metadata": {},
   "source": [
    "Example structure:\n",
    "\n",
    "* helpers/\n",
    " * \\_\\_init\\_\\_.py\n",
    " * url/\n",
    "   * \\_\\_init\\_\\_.py\n",
    "   * host.py\n",
    " * cuda/\n",
    "   * \\_\\_init\\_\\_.py\n",
    "   * device.py"
   ]
  },
  {
   "cell_type": "markdown",
   "metadata": {},
   "source": [
    "The `__init__.py` files are required to make Python treat the directories as containing packages."
   ]
  },
  {
   "cell_type": "markdown",
   "metadata": {},
   "source": [
    "Let the function GetHost is defined in host.py. You can use it:\n",
    "    \n",
    "```python\n",
    "import helpers.url.host\n",
    "print(helpers.url.host.GetHost('https://yandex.ru/weather'))\n",
    "```\n",
    "\n",
    "or:\n",
    "\n",
    "```python\n",
    "from helpers.url import host\n",
    "print(host.GetHost('https://yandex.ru/weather'))\n",
    "```\n",
    "\n",
    "or:\n",
    "\n",
    "```python\n",
    "import helpers.url.host as huh\n",
    "print(huh.GetHost('https://yandex.ru/weather'))\n",
    "```"
   ]
  }
 ],
 "metadata": {
  "kernelspec": {
   "display_name": "Python 3",
   "language": "python",
   "name": "python3"
  },
  "language_info": {
   "codemirror_mode": {
    "name": "ipython",
    "version": 3
   },
   "file_extension": ".py",
   "mimetype": "text/x-python",
   "name": "python",
   "nbconvert_exporter": "python",
   "pygments_lexer": "ipython3",
   "version": "3.6.0"
  }
 },
 "nbformat": 4,
 "nbformat_minor": 0
}
