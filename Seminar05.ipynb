{
 "cells": [
  {
   "cell_type": "markdown",
   "metadata": {},
   "source": [
    "# 5. `numpy`, `scipy` and `pandas` modules"
   ]
  },
  {
   "cell_type": "markdown",
   "metadata": {},
   "source": [
    "## 5.1. `numpy`\n",
    "http://www.numpy.org/\n",
    "\n",
    "\n",
    "NumPy is Python module for scientific computations. It specializes in multi-dimensional data arrays processing and linear algebra. It includes:\n",
    "\n",
    "* n-dimensional arrays (numpy.ndarray) with specifiable types (numpy.dtype)\n",
    "* universal vectorized functions\n",
    "* Discrete Fourier Transform (numpy.fft)\n",
    "* linear algebra\n",
    "* utilites for reading and writing data files\n",
    "* and much more, see [official documentation](https://docs.scipy.org/doc/numpy/reference/)\n",
    "\n",
    "Installation:\n",
    "\n",
    "    conda install numpy\n",
    "    apt-get install python3-numpy\n",
    "    pip install numpy\n",
    "    \n",
    "Import:\n",
    "\n",
    "```python\n",
    "import numpy\n",
    "```"
   ]
  },
  {
   "cell_type": "markdown",
   "metadata": {},
   "source": [
    "### 5.1.1 N-dimensional arrays"
   ]
  },
  {
   "cell_type": "markdown",
   "metadata": {},
   "source": [
    "#### 5.1.1.1 Basic Usage"
   ]
  },
  {
   "cell_type": "code",
   "execution_count": 1,
   "metadata": {
    "collapsed": false
   },
   "outputs": [
    {
     "name": "stdout",
     "output_type": "stream",
     "text": [
      "[1 2 3 4 5 6 7 8]\n",
      "<class 'numpy.ndarray'>\n",
      "2\n"
     ]
    }
   ],
   "source": [
    "import numpy\n",
    "\n",
    "a = numpy.array([1, 2, 3, 4, 5, 6, 7, 8])\n",
    "\n",
    "print(a, type(a), a[1], sep='\\n')"
   ]
  },
  {
   "cell_type": "code",
   "execution_count": 2,
   "metadata": {
    "collapsed": false
   },
   "outputs": [
    {
     "data": {
      "text/plain": [
       "array([[1, 2, 3, 4],\n",
       "       [5, 6, 7, 8]])"
      ]
     },
     "execution_count": 2,
     "metadata": {},
     "output_type": "execute_result"
    }
   ],
   "source": [
    "a.reshape(2, 4)"
   ]
  },
  {
   "cell_type": "markdown",
   "metadata": {},
   "source": [
    "In case reshape tries to change initial array size you will get an error\n",
    "\n",
    "    ValueError: total size of new array must be unchanged"
   ]
  },
  {
   "cell_type": "code",
   "execution_count": 3,
   "metadata": {
    "collapsed": false
   },
   "outputs": [
    {
     "name": "stdout",
     "output_type": "stream",
     "text": [
      "[[[1 2]\n",
      "  [3 4]]\n",
      "\n",
      " [[5 6]\n",
      "  [7 8]]]\n"
     ]
    }
   ],
   "source": [
    "a = a.reshape(2, 2, 2)\n",
    "print(a)"
   ]
  },
  {
   "cell_type": "code",
   "execution_count": 4,
   "metadata": {
    "collapsed": false
   },
   "outputs": [
    {
     "name": "stdout",
     "output_type": "stream",
     "text": [
      "[[[  1   2]\n",
      "  [  3   4]]\n",
      "\n",
      " [[  5   6]\n",
      "  [100   8]]]\n"
     ]
    }
   ],
   "source": [
    "a[1, 1, 0] = 100.7\n",
    "print(a) # NB: 100.7 is rounded up to 100"
   ]
  },
  {
   "cell_type": "code",
   "execution_count": 5,
   "metadata": {
    "collapsed": false
   },
   "outputs": [
    {
     "name": "stdout",
     "output_type": "stream",
     "text": [
      "[[[   1.     2. ]\n",
      "  [   3.     4. ]]\n",
      "\n",
      " [[   5.     6. ]\n",
      "  [ 100.7    8. ]]]\n"
     ]
    }
   ],
   "source": [
    "a = numpy.array([1, 2, 3, 4, 5, 6, 7, 8], numpy.float).reshape(2, 2, 2)\n",
    "a[1, 1, 0] = 100.7\n",
    "print(a) # NB: 100.7 is rounded up to 100"
   ]
  },
  {
   "cell_type": "code",
   "execution_count": 6,
   "metadata": {
    "collapsed": false
   },
   "outputs": [
    {
     "name": "stdout",
     "output_type": "stream",
     "text": [
      "[[ 1.  2.]\n",
      " [ 3.  4.]]\n",
      "[[   5.     6. ]\n",
      " [ 100.7    8. ]]\n"
     ]
    }
   ],
   "source": [
    "for z in a:\n",
    "    print(z)"
   ]
  },
  {
   "cell_type": "markdown",
   "metadata": {},
   "source": [
    "Serialized array as a string by dumps:"
   ]
  },
  {
   "cell_type": "code",
   "execution_count": 7,
   "metadata": {
    "collapsed": false
   },
   "outputs": [
    {
     "name": "stdout",
     "output_type": "stream",
     "text": [
      "b'\\x80\\x02cnumpy.core.multiarray\\n_reconstruct\\nq\\x00cnumpy\\nndarray\\nq\\x01K\\x00\\x85q\\x02c_codecs\\nencode\\nq\\x03X\\x01\\x00\\x00\\x00bq\\x04X\\x06\\x00\\x00\\x00latin1q\\x05\\x86q\\x06Rq\\x07\\x87q\\x08Rq\\t(K\\x01K\\x02K\\x02K\\x02\\x87q\\ncnumpy\\ndtype\\nq\\x0bX\\x02\\x00\\x00\\x00f8q\\x0cK\\x00K\\x01\\x87q\\rRq\\x0e(K\\x03X\\x01\\x00\\x00\\x00<q\\x0fNNNJ\\xff\\xff\\xff\\xffJ\\xff\\xff\\xff\\xffK\\x00tq\\x10b\\x89h\\x03XF\\x00\\x00\\x00\\x00\\x00\\x00\\x00\\x00\\x00\\xc3\\xb0?\\x00\\x00\\x00\\x00\\x00\\x00\\x00@\\x00\\x00\\x00\\x00\\x00\\x00\\x08@\\x00\\x00\\x00\\x00\\x00\\x00\\x10@\\x00\\x00\\x00\\x00\\x00\\x00\\x14@\\x00\\x00\\x00\\x00\\x00\\x00\\x18@\\xc3\\x8d\\xc3\\x8c\\xc3\\x8c\\xc3\\x8c\\xc3\\x8c,Y@\\x00\\x00\\x00\\x00\\x00\\x00 @q\\x11h\\x05\\x86q\\x12Rq\\x13tq\\x14b.'\n"
     ]
    }
   ],
   "source": [
    "print(a.dumps())"
   ]
  },
  {
   "cell_type": "markdown",
   "metadata": {},
   "source": [
    "Copy just copies pointer, as for lists. So use `copy`:"
   ]
  },
  {
   "cell_type": "code",
   "execution_count": 8,
   "metadata": {
    "collapsed": false
   },
   "outputs": [
    {
     "name": "stdout",
     "output_type": "stream",
     "text": [
      "[[[   9.     2. ]\n",
      "  [   3.     4. ]]\n",
      "\n",
      " [[   5.     6. ]\n",
      "  [ 100.7    8. ]]]\n"
     ]
    }
   ],
   "source": [
    "b = a\n",
    "b[0, 0, 0] = 9\n",
    "print(a)"
   ]
  },
  {
   "cell_type": "code",
   "execution_count": 9,
   "metadata": {
    "collapsed": false
   },
   "outputs": [
    {
     "name": "stdout",
     "output_type": "stream",
     "text": [
      "[[[   9.     2. ]\n",
      "  [   3.     4. ]]\n",
      "\n",
      " [[   5.     6. ]\n",
      "  [ 100.7    8. ]]]\n"
     ]
    }
   ],
   "source": [
    "b = a.copy()\n",
    "b[0, 0, 0] = 1000\n",
    "print(a)"
   ]
  },
  {
   "cell_type": "markdown",
   "metadata": {},
   "source": [
    "Get a new a flattened array:"
   ]
  },
  {
   "cell_type": "code",
   "execution_count": 10,
   "metadata": {
    "collapsed": false
   },
   "outputs": [
    {
     "name": "stdout",
     "output_type": "stream",
     "text": [
      "[   9.     2.     3.     4.     5.     6.   100.7    8. ]\n"
     ]
    }
   ],
   "source": [
    "print(a.ravel())"
   ]
  },
  {
   "cell_type": "code",
   "execution_count": 11,
   "metadata": {
    "collapsed": false
   },
   "outputs": [
    {
     "name": "stdout",
     "output_type": "stream",
     "text": [
      "2 8 (2, 2, 2)\n"
     ]
    }
   ],
   "source": [
    "print(len(a), a.size, a.shape)"
   ]
  },
  {
   "cell_type": "code",
   "execution_count": 12,
   "metadata": {
    "collapsed": false
   },
   "outputs": [
    {
     "name": "stdout",
     "output_type": "stream",
     "text": [
      "[[  14.     8. ]\n",
      " [ 103.7   12. ]]\n",
      "\n",
      "[[  12.     6. ]\n",
      " [ 105.7   14. ]]\n",
      "\n",
      "[[  11.     7. ]\n",
      " [  11.   108.7]]\n"
     ]
    }
   ],
   "source": [
    "print(a.sum(0), a.sum(1), a.sum(2), sep='\\n\\n')"
   ]
  },
  {
   "cell_type": "code",
   "execution_count": 13,
   "metadata": {
    "collapsed": false
   },
   "outputs": [
    {
     "name": "stdout",
     "output_type": "stream",
     "text": [
      "[[[  9.   2.]\n",
      "  [  3.   4.]]\n",
      "\n",
      " [[  5.   6.]\n",
      "  [ 10.   8.]]]\n"
     ]
    }
   ],
   "source": [
    "print(a.clip(0, 10))"
   ]
  },
  {
   "cell_type": "code",
   "execution_count": 14,
   "metadata": {
    "collapsed": false
   },
   "outputs": [
    {
     "name": "stdout",
     "output_type": "stream",
     "text": [
      "[   9.     2.     3.     4.     5.     6.   100.7    8. ]\n",
      "[   9.     2.     3.     4.     5.     6.   100.7    8. ]\n",
      "[[[   9.     2. ]\n",
      "  [   3.     4. ]]\n",
      "\n",
      " [[   5.     6. ]\n",
      "  [ 100.7    8. ]]]\n"
     ]
    }
   ],
   "source": [
    "print(a.flatten())\n",
    "print(a.reshape(-1))\n",
    "print(a)"
   ]
  },
  {
   "cell_type": "code",
   "execution_count": 15,
   "metadata": {
    "collapsed": false
   },
   "outputs": [
    {
     "name": "stdout",
     "output_type": "stream",
     "text": [
      "[   9.     2.     3.     4.     5.     6.   100.7    8. ]\n"
     ]
    }
   ],
   "source": [
    "print(a.flatten(order='C'))"
   ]
  },
  {
   "cell_type": "code",
   "execution_count": 16,
   "metadata": {
    "collapsed": false
   },
   "outputs": [
    {
     "name": "stdout",
     "output_type": "stream",
     "text": [
      "[   9.     5.     3.   100.7    2.     6.     4.     8. ]\n"
     ]
    }
   ],
   "source": [
    "print(a.flatten(order='F'))"
   ]
  },
  {
   "cell_type": "code",
   "execution_count": 17,
   "metadata": {
    "collapsed": false
   },
   "outputs": [
    {
     "name": "stdout",
     "output_type": "stream",
     "text": [
      "137.7\n"
     ]
    }
   ],
   "source": [
    "print(a.sum())"
   ]
  },
  {
   "cell_type": "code",
   "execution_count": 18,
   "metadata": {
    "collapsed": false
   },
   "outputs": [
    {
     "name": "stdout",
     "output_type": "stream",
     "text": [
      "[[  14.     8. ]\n",
      " [ 103.7   12. ]]\n",
      "137.7\n"
     ]
    }
   ],
   "source": [
    "print(sum(a))\n",
    "print(numpy.sum(a))"
   ]
  },
  {
   "cell_type": "markdown",
   "metadata": {},
   "source": [
    "#### 5.1.1.2 Operations with ndarrays"
   ]
  },
  {
   "cell_type": "code",
   "execution_count": 19,
   "metadata": {
    "collapsed": false
   },
   "outputs": [
    {
     "name": "stdout",
     "output_type": "stream",
     "text": [
      "A:\n",
      " [[ 3.  3.  3.  3.]\n",
      " [ 3.  3.  3.  3.]\n",
      " [ 3.  3.  3.  3.]\n",
      " [ 3.  3.  3.  3.]]\n",
      "B:\n",
      " [[ 3.  0.  0.  0.]\n",
      " [ 0.  3.  0.  0.]\n",
      " [ 0.  0.  3.  0.]\n",
      " [ 0.  0.  0.  3.]]\n"
     ]
    }
   ],
   "source": [
    "import numpy as np\n",
    "A = 3 / np.ones([4, 4])\n",
    "B = 3 * np.eye(4)\n",
    "print(\"A:\\n\", A)\n",
    "print(\"B:\\n\", B)"
   ]
  },
  {
   "cell_type": "code",
   "execution_count": 20,
   "metadata": {
    "collapsed": false
   },
   "outputs": [
    {
     "name": "stdout",
     "output_type": "stream",
     "text": [
      "[[ 6.  3.  3.  3.]\n",
      " [ 3.  6.  3.  3.]\n",
      " [ 3.  3.  6.  3.]\n",
      " [ 3.  3.  3.  6.]]\n"
     ]
    }
   ],
   "source": [
    "C = A + B\n",
    "print(C)"
   ]
  },
  {
   "cell_type": "code",
   "execution_count": 21,
   "metadata": {
    "collapsed": false
   },
   "outputs": [
    {
     "name": "stdout",
     "output_type": "stream",
     "text": [
      "[[ 9.  0.  0.  0.]\n",
      " [ 0.  9.  0.  0.]\n",
      " [ 0.  0.  9.  0.]\n",
      " [ 0.  0.  0.  9.]]\n"
     ]
    }
   ],
   "source": [
    "C = A * B\n",
    "print(C)"
   ]
  },
  {
   "cell_type": "code",
   "execution_count": 22,
   "metadata": {
    "collapsed": false
   },
   "outputs": [
    {
     "name": "stdout",
     "output_type": "stream",
     "text": [
      "[[ 9.  9.  9.  9.]\n",
      " [ 9.  9.  9.  9.]\n",
      " [ 9.  9.  9.  9.]\n",
      " [ 9.  9.  9.  9.]]\n"
     ]
    }
   ],
   "source": [
    "C = A.dot(B)\n",
    "print(C)"
   ]
  },
  {
   "cell_type": "markdown",
   "metadata": {},
   "source": [
    "`@` is equivalent to .dot:"
   ]
  },
  {
   "cell_type": "code",
   "execution_count": 23,
   "metadata": {
    "collapsed": false
   },
   "outputs": [
    {
     "name": "stdout",
     "output_type": "stream",
     "text": [
      "[[ 9.  9.  9.  9.]\n",
      " [ 9.  9.  9.  9.]\n",
      " [ 9.  9.  9.  9.]\n",
      " [ 9.  9.  9.  9.]]\n"
     ]
    }
   ],
   "source": [
    "C = A @ B # доступна с Python 3.5\n",
    "print(C)"
   ]
  },
  {
   "cell_type": "markdown",
   "metadata": {},
   "source": [
    "### 5.1.2 Matrixes"
   ]
  },
  {
   "cell_type": "markdown",
   "metadata": {},
   "source": [
    "A [matrix](https://docs.scipy.org/doc/numpy/reference/generated/numpy.matrix.html#numpy.matrix) is a specialized 2-D array that retains its 2-D nature through operations.\n",
    "\n",
    "It has certain special operators, such as `*` (matrix multiplication) and `**` (matrix power)."
   ]
  },
  {
   "cell_type": "code",
   "execution_count": 24,
   "metadata": {
    "collapsed": false
   },
   "outputs": [
    {
     "name": "stdout",
     "output_type": "stream",
     "text": [
      "[[1 2 3]\n",
      " [5 5 6]\n",
      " [8 8 9]] \n",
      "\n"
     ]
    }
   ],
   "source": [
    "D = np.matrix([[1, 2, 3], [5, 5, 6], [8, 8, 9]])\n",
    "print(D, '\\n')"
   ]
  },
  {
   "cell_type": "code",
   "execution_count": 25,
   "metadata": {
    "collapsed": false
   },
   "outputs": [
    {
     "name": "stdout",
     "output_type": "stream",
     "text": [
      "[[ 35  36  42]\n",
      " [ 78  83  99]\n",
      " [120 128 153]]\n"
     ]
    }
   ],
   "source": [
    "C = D * D\n",
    "print(C)"
   ]
  },
  {
   "cell_type": "code",
   "execution_count": 26,
   "metadata": {
    "collapsed": false
   },
   "outputs": [
    {
     "name": "stdout",
     "output_type": "stream",
     "text": [
      "[[ 1  4  9]\n",
      " [25 25 36]\n",
      " [64 64 81]]\n"
     ]
    }
   ],
   "source": [
    "C = np.array(D) * np.array(D)\n",
    "print(C)"
   ]
  },
  {
   "cell_type": "code",
   "execution_count": 27,
   "metadata": {
    "collapsed": false
   },
   "outputs": [
    {
     "name": "stdout",
     "output_type": "stream",
     "text": [
      "[[1 5 8]\n",
      " [2 5 8]\n",
      " [3 6 9]]\n"
     ]
    }
   ],
   "source": [
    "C = D.transpose()\n",
    "print(C)"
   ]
  },
  {
   "cell_type": "code",
   "execution_count": 28,
   "metadata": {
    "collapsed": false
   },
   "outputs": [
    {
     "name": "stdout",
     "output_type": "stream",
     "text": [
      "[[-1.          2.         -1.        ]\n",
      " [ 1.         -5.          3.        ]\n",
      " [ 0.          2.66666667 -1.66666667]]\n",
      "[[  1.00000000e+00   0.00000000e+00   0.00000000e+00]\n",
      " [  0.00000000e+00   1.00000000e+00   0.00000000e+00]\n",
      " [ -1.77635684e-15  -1.77635684e-15   1.00000000e+00]]\n"
     ]
    }
   ],
   "source": [
    "C = D ** -1\n",
    "print(C)\n",
    "print(C * D)"
   ]
  },
  {
   "cell_type": "code",
   "execution_count": 29,
   "metadata": {
    "collapsed": false
   },
   "outputs": [
    {
     "name": "stdout",
     "output_type": "stream",
     "text": [
      "[[ 2.+3.j  2.+3.j  2.+3.j]\n",
      " [ 2.+3.j  2.+3.j  2.+3.j]\n",
      " [ 2.+3.j  2.+3.j  2.+3.j]] \n",
      "\n",
      "[ 2.+3.j  2.+3.j  2.+3.j  2.+3.j  2.+3.j  2.+3.j  2.+3.j  2.+3.j  2.+3.j] \n",
      "\n",
      "[[ 2.-3.j  2.-3.j  2.-3.j]\n",
      " [ 2.-3.j  2.-3.j  2.-3.j]\n",
      " [ 2.-3.j  2.-3.j  2.-3.j]] \n",
      "\n",
      "[[ 2.  2.  2.]\n",
      " [ 2.  2.  2.]\n",
      " [ 2.  2.  2.]] \n",
      " + i * \n",
      " [[ 3.  3.  3.]\n",
      " [ 3.  3.  3.]\n",
      " [ 3.  3.  3.]] \n",
      "\n"
     ]
    }
   ],
   "source": [
    "E = np.matrix(complex(2, 3) * np.ones((3, 3)))\n",
    "\n",
    "print(E.A, '\\n') # Return self as an ndarray object.\n",
    "print(E.A1, '\\n') # Return self as a flattened ndarray.\n",
    "print(E.H, '\\n') # Returns the (complex) conjugate transpose of self.\n",
    "print(E.real, '\\n + i * \\n', E.imag, '\\n') # The real and imaginary parts of the array."
   ]
  },
  {
   "cell_type": "code",
   "execution_count": 30,
   "metadata": {
    "collapsed": false
   },
   "outputs": [
    {
     "data": {
      "text/plain": [
       "1.0"
      ]
     },
     "execution_count": 30,
     "metadata": {},
     "output_type": "execute_result"
    }
   ],
   "source": [
    "np.linalg.det(np.eye(70))"
   ]
  },
  {
   "cell_type": "code",
   "execution_count": 31,
   "metadata": {
    "collapsed": false
   },
   "outputs": [
    {
     "name": "stdout",
     "output_type": "stream",
     "text": [
      "[[ 1.  0.  0.]\n",
      " [ 0.  1.  0.]\n",
      " [ 0.  0.  1.]]\n"
     ]
    }
   ],
   "source": [
    "A = np.matrix([[1, 0, 3], [4, 7, 9], [1, 2, 3]])\n",
    "B = np.linalg.inv(A)\n",
    "C = B * A\n",
    "print(C.round(1))"
   ]
  },
  {
   "cell_type": "markdown",
   "metadata": {},
   "source": [
    "### 5.1.3. Matrix functions"
   ]
  },
  {
   "cell_type": "code",
   "execution_count": 32,
   "metadata": {
    "collapsed": false
   },
   "outputs": [
    {
     "data": {
      "text/plain": [
       "array([ 0.        ,  0.06275873,  0.12527003,  0.18728745,  0.24856648,\n",
       "        0.30886552,  0.36794685,  0.42557753,  0.48153035,  0.53558472,\n",
       "        0.58752753,  0.63715398,  0.68426842,  0.7286851 ,  0.77022891,\n",
       "        0.80873606,  0.84405473,  0.87604568,  0.90458278,  0.92955352,\n",
       "        0.95085946,  0.96841659,  0.9821557 ,  0.99202261,  0.99797844,\n",
       "        0.99999968,  0.99807839,  0.99222213,  0.98245398,  0.96881247,\n",
       "        0.95135138,  0.93013954,  0.90526058,  0.87681259,  0.84490773,\n",
       "        0.80967179,  0.77124368,  0.7297749 ,  0.68542896,  0.63838068,\n",
       "        0.58881556,  0.53692901,  0.48292559,  0.42701822,  0.36942731,\n",
       "        0.31037991,  0.25010883,  0.18885168,  0.12684998,  0.06434816,\n",
       "        0.00159265, -0.06116914, -0.12368976, -0.18572274, -0.24702349,\n",
       "       -0.30735035, -0.36646546, -0.42413576, -0.4801339 , -0.53423908,\n",
       "       -0.586238  , -0.63592565, -0.68310614, -0.72759345, -0.76921219,\n",
       "       -0.80779828, -0.84319959, -0.87527655, -0.90390269, -0.92896515,\n",
       "       -0.95036513, -0.96801826, -0.98185492, -0.99182059, -0.99787595,\n",
       "       -0.99999715, -0.99817581, -0.99241912, -0.98274977, -0.9692059 ,\n",
       "       -0.95184088, -0.93072319, -0.90593608, -0.87757728, -0.84575859,\n",
       "       -0.81060546, -0.77225649, -0.73086285, -0.68658776, -0.63960577,\n",
       "       -0.5901021 , -0.53827193, -0.4843196 , -0.42845782, -0.37090682,\n",
       "       -0.31189351, -0.25165055, -0.19041544, -0.1284296 , -0.06593743])"
      ]
     },
     "execution_count": 32,
     "metadata": {},
     "output_type": "execute_result"
    }
   ],
   "source": [
    "x = 6.28 * np.arange(100) / 100\n",
    "np.sin(x)"
   ]
  },
  {
   "cell_type": "markdown",
   "metadata": {},
   "source": [
    "* **sin**, **cos**, **tan**, **arcsin** и др.\n",
    "* **sinh**, **cosh**, **tanh** и др.\n",
    "* **around**, **round**, **floor**, **ceil** и др.\n",
    "* **prod**, **cumsum**, **sum** и др.\n",
    "* **exp**, **log10**, **log** и др.\n",
    "* etc: http://docs.scipy.org/doc/numpy/reference/routines.math.html"
   ]
  },
  {
   "cell_type": "code",
   "execution_count": 33,
   "metadata": {
    "collapsed": false
   },
   "outputs": [
    {
     "data": {
      "text/plain": [
       "array([ 1.,  4.,  5.,  8.])"
      ]
     },
     "execution_count": 33,
     "metadata": {},
     "output_type": "execute_result"
    }
   ],
   "source": [
    "np.ceil([0.5, 3.5, 4.5, 7.5])"
   ]
  },
  {
   "cell_type": "code",
   "execution_count": 34,
   "metadata": {
    "collapsed": false
   },
   "outputs": [
    {
     "data": {
      "text/plain": [
       "60"
      ]
     },
     "execution_count": 34,
     "metadata": {},
     "output_type": "execute_result"
    }
   ],
   "source": [
    "np.prod([1, 2, 3, 10])"
   ]
  },
  {
   "cell_type": "code",
   "execution_count": 35,
   "metadata": {
    "collapsed": false
   },
   "outputs": [
    {
     "data": {
      "text/plain": [
       "16"
      ]
     },
     "execution_count": 35,
     "metadata": {},
     "output_type": "execute_result"
    }
   ],
   "source": [
    "np.sum([1, 2, 3, 10])"
   ]
  },
  {
   "cell_type": "markdown",
   "metadata": {},
   "source": [
    "Vectorization allows to turn ordinary function into universal one: https://docs.scipy.org/doc/numpy/reference/generated/numpy.vectorize.html"
   ]
  },
  {
   "cell_type": "code",
   "execution_count": 36,
   "metadata": {
    "collapsed": false
   },
   "outputs": [
    {
     "name": "stdout",
     "output_type": "stream",
     "text": [
      "[[1 2 3]\n",
      " [5 5 6]\n",
      " [8 8 9]]\n"
     ]
    },
    {
     "data": {
      "text/plain": [
       "matrix([[103, 204, 305],\n",
       "        [507, 507, 608],\n",
       "        [810, 810, 911]])"
      ]
     },
     "execution_count": 36,
     "metadata": {},
     "output_type": "execute_result"
    }
   ],
   "source": [
    "def Changer(a, b):\n",
    "    return a * 100 + (a + 15) % b\n",
    "\n",
    "VectorizedChanger = np.vectorize(Changer, doc='Vectorized version of the Changer function.')\n",
    "\n",
    "print(D)\n",
    "VectorizedChanger(D, 13)"
   ]
  },
  {
   "cell_type": "code",
   "execution_count": 37,
   "metadata": {
    "collapsed": false
   },
   "outputs": [
    {
     "name": "stdout",
     "output_type": "stream",
     "text": [
      "[[1 2 3]\n",
      " [5 5 6]\n",
      " [8 8 9]]\n"
     ]
    },
    {
     "data": {
      "text/plain": [
       "matrix([[103, 204, 305],\n",
       "        [507, 507, 608],\n",
       "        [810, 810, 911]])"
      ]
     },
     "execution_count": 37,
     "metadata": {},
     "output_type": "execute_result"
    }
   ],
   "source": [
    "@np.vectorize\n",
    "def Changer(a, b):\n",
    "    return a * 100 + (a + 15) % b\n",
    "\n",
    "print(D)\n",
    "Changer(D, 13)"
   ]
  },
  {
   "cell_type": "markdown",
   "metadata": {},
   "source": [
    "### 5.1.4. Random arrays"
   ]
  },
  {
   "cell_type": "markdown",
   "metadata": {},
   "source": [
    "Full list: http://docs.scipy.org/doc/numpy/reference/routines.random.html"
   ]
  },
  {
   "cell_type": "code",
   "execution_count": 38,
   "metadata": {
    "collapsed": false
   },
   "outputs": [
    {
     "data": {
      "text/plain": [
       "array([15,  5,  8, 17, 11, 13, 27, 11, 17, 22, 12,  1,  0, 20,  3, 12, 19,\n",
       "        8,  0, 19, 14, 17, 21,  0,  6, 14, 18,  1, 19, 24, 14, 16, 21, 15,\n",
       "       11,  3, 22,  7, 28,  8,  4, 26, 21, 14, 25, 11, 21, 22,  6,  7])"
      ]
     },
     "execution_count": 38,
     "metadata": {},
     "output_type": "execute_result"
    }
   ],
   "source": [
    "np.random.randint(30,  size=50)"
   ]
  },
  {
   "cell_type": "code",
   "execution_count": 39,
   "metadata": {
    "collapsed": false
   },
   "outputs": [
    {
     "data": {
      "text/plain": [
       "array([[82, 51, 89, 72, 75, 76, 57],\n",
       "       [99, 95, 61, 81, 75, 58, 73],\n",
       "       [94, 59, 83, 86, 66, 87, 58]])"
      ]
     },
     "execution_count": 39,
     "metadata": {},
     "output_type": "execute_result"
    }
   ],
   "source": [
    "np.random.randint(low=50, high=100, size=(3, 7))"
   ]
  },
  {
   "cell_type": "code",
   "execution_count": 40,
   "metadata": {
    "collapsed": false
   },
   "outputs": [
    {
     "data": {
      "text/plain": [
       "array([[[-0.21598992,  0.04395959,  0.20718446],\n",
       "        [-0.75603421,  1.50052049,  0.98600301]],\n",
       "\n",
       "       [[ 0.63008444, -0.50828446,  0.64513066],\n",
       "        [-0.41226522, -1.11219664,  0.3603762 ]],\n",
       "\n",
       "       [[-2.04482717,  0.09125466,  0.07645233],\n",
       "        [ 1.33227103,  1.5445413 ,  1.20734747]]])"
      ]
     },
     "execution_count": 40,
     "metadata": {},
     "output_type": "execute_result"
    }
   ],
   "source": [
    "np.random.randn(3, 2, 3)"
   ]
  },
  {
   "cell_type": "code",
   "execution_count": 41,
   "metadata": {
    "collapsed": false
   },
   "outputs": [
    {
     "name": "stdout",
     "output_type": "stream",
     "text": [
      "[32 53 22 24 74 28 57 72 35 34  0  4 95 16  1 83 82 86 19 26 89 47 90 17 71\n",
      " 68 29 41 69 70 73 42 44 23 52 25  2 37 92 97 88 21 18 66 99 96  5 87 30 63\n",
      " 78 79  7 98 46 10 12  8 11 55 75 91 27 76 94 39 40  6 31 54 20 49 93 43 13\n",
      " 15 62 81 65 45 61 51 60 85 38 59  3 64 50 84 58 77 48 33  9 80 67 14 36 56] \n",
      "\n",
      "[14 19 89 16 66 15 74 24 50 87 80 46 97 40 88 57  5 54 75 31 55 95 92 91 59\n",
      " 99 41 86  2 30 27 63 12  0 58 13 93 33 17 62 82 73 85 48 61  9  7 56 90 35\n",
      " 72 29 23 49 60 81 11 69 77 44 34 65 32 21 38 79  6 94 47 78  8 70 39 96 98\n",
      " 42  3 18  1 53 20 25 71 67 45 37 83 10 43 52 68 28 51 26 36  4 76 64 22 84] \n",
      "\n",
      "[72 99 57 22 31 14 90 37 43 49 77 96 51 70 80 52 75 68 26 12 85 25 28 58 47\n",
      " 34 78 93 69 67 86 91 73  1 79 74 19 30 54 18 38  0  8 87 76 33 81  9 23 35\n",
      " 45 53 40 46 56 63 83  7 82 62 13 44 84 55  2 71  6 89 61 27 66  5 59  3 16\n",
      " 11 97 48 32 39  4 17 92 15 94 10 95 98 41 42 21 60 64 36 65 88 50 24 20 29] \n",
      "\n"
     ]
    }
   ],
   "source": [
    "a = np.arange(100)\n",
    "for i in range(3):\n",
    "    np.random.shuffle(a)\n",
    "    print(a, '\\n')"
   ]
  },
  {
   "cell_type": "markdown",
   "metadata": {},
   "source": [
    "### 5.1.5. Various stats"
   ]
  },
  {
   "cell_type": "code",
   "execution_count": 42,
   "metadata": {
    "collapsed": false
   },
   "outputs": [
    {
     "name": "stdout",
     "output_type": "stream",
     "text": [
      "mean 0.000701956742297\n",
      "median 0.000723865853343\n",
      "std 0.99917043134\n",
      "amin -5.08075291344\n",
      "amax 5.03410432441\n"
     ]
    }
   ],
   "source": [
    "a = np.random.randn(1000000)\n",
    "print(\"mean\", np.mean(a))\n",
    "print(\"median\", np.median(a))\n",
    "print(\"std\", np.std(a))\n",
    "print(\"amin\", np.amin(a))\n",
    "print(\"amax\", np.amax(a))"
   ]
  },
  {
   "cell_type": "code",
   "execution_count": 43,
   "metadata": {
    "collapsed": false
   },
   "outputs": [
    {
     "data": {
      "image/png": "[encoded data removed]",
      "text/plain": [
       "<matplotlib.figure.Figure at 0x7fc3731a55c0>"
      ]
     },
     "metadata": {},
     "output_type": "display_data"
    }
   ],
   "source": [
    "y, x = np.histogram(a, bins=100)\n",
    "x = [0.5 * (x[i] + x[i + 1]) for i in range(len(y))]\n",
    "\n",
    "\n",
    "%matplotlib inline\n",
    "import matplotlib, seaborn\n",
    "_ = matplotlib.pyplot.plot(x, y)"
   ]
  },
  {
   "cell_type": "markdown",
   "metadata": {},
   "source": [
    "### 5.1.6. Input and output"
   ]
  },
  {
   "cell_type": "code",
   "execution_count": 44,
   "metadata": {
    "collapsed": false
   },
   "outputs": [],
   "source": [
    "a = np.random.randn(1000)\n",
    "np.savetxt('data.txt', a)"
   ]
  },
  {
   "cell_type": "markdown",
   "metadata": {},
   "source": [
    "Plain text files:"
   ]
  },
  {
   "cell_type": "code",
   "execution_count": 45,
   "metadata": {
    "collapsed": false
   },
   "outputs": [
    {
     "name": "stdout",
     "output_type": "stream",
     "text": [
      "-7.623325544972360257e-01\n",
      "2.502633310303558067e-01\n",
      "-6.793064540279194485e-01\n",
      "-2.928019337082924944e-01\n",
      "1.065070353414561799e+00\n",
      "1.413668902462524718e-03\n",
      "1.348655958546461697e+00\n",
      "-1.869073527010832181e-01\n",
      "7.060319448853709101e-01\n",
      "1.326895071081112931e+00\n"
     ]
    }
   ],
   "source": [
    "%%bash\n",
    "head data.txt"
   ]
  },
  {
   "cell_type": "code",
   "execution_count": 46,
   "metadata": {
    "collapsed": false
   },
   "outputs": [
    {
     "name": "stdout",
     "output_type": "stream",
     "text": [
      "[-0.76233255  0.25026333 -0.67930645 -0.29280193  1.06507035]\n"
     ]
    }
   ],
   "source": [
    "b = np.loadtxt('data.txt')\n",
    "print(b[:5])"
   ]
  },
  {
   "cell_type": "markdown",
   "metadata": {},
   "source": [
    "Binary files:"
   ]
  },
  {
   "cell_type": "code",
   "execution_count": 47,
   "metadata": {
    "collapsed": false
   },
   "outputs": [],
   "source": [
    "np.savez_compressed('data.npz', a)"
   ]
  },
  {
   "cell_type": "code",
   "execution_count": 48,
   "metadata": {
    "collapsed": false
   },
   "outputs": [
    {
     "name": "stdout",
     "output_type": "stream",
     "text": [
      "-rw-rw-r-- 1 bikulov bikulov 7,8K марта 17 09:04 data.npz\n",
      "-rw-rw-r-- 1 bikulov bikulov  25K марта 17 09:04 data.txt\n"
     ]
    }
   ],
   "source": [
    "%%bash\n",
    "ls -lh data.{npz,txt}"
   ]
  },
  {
   "cell_type": "code",
   "execution_count": 49,
   "metadata": {
    "collapsed": false
   },
   "outputs": [
    {
     "name": "stdout",
     "output_type": "stream",
     "text": [
      "[-0.76233255  0.25026333 -0.67930645 -0.29280193  1.06507035]\n"
     ]
    }
   ],
   "source": [
    "b = np.load('data.npz')['arr_0']\n",
    "print(b[:5])"
   ]
  },
  {
   "cell_type": "markdown",
   "metadata": {},
   "source": [
    "## 5.2. scipy"
   ]
  },
  {
   "cell_type": "markdown",
   "metadata": {
    "collapsed": true
   },
   "source": [
    "scipy is set of mathematical algorithm, built on top of numpy. It contains several parts:\n",
    "\n",
    "* **constants**: mathematical and physical constants\n",
    "* **cluster**: clustering algorithms\n",
    "* **interpolate**: interpolation and smoothing\n",
    "* **io**: input/output helpers (MATLAB files, wav sound files, [etc](https://docs.scipy.org/doc/scipy/reference/tutorial/io.html))\n",
    "* and more: http://docs.scipy.org/doc/scipy/reference/tutorial/general.html#scipy-organization"
   ]
  },
  {
   "cell_type": "code",
   "execution_count": 50,
   "metadata": {
    "collapsed": false
   },
   "outputs": [
    {
     "name": "stdout",
     "output_type": "stream",
     "text": [
      "All constants: Avogadro, Boltzmann, Btu, Btu_IT, Btu_th, C2F, C2K, ConstantWarning, F2C, F2K, G, Julian_year, K2C, K2F, N_A, Planck, R, Rydberg, Stefan_Boltzmann, Tester, Wien, _obsolete_constants, absolute_import, acre, alpha, angstrom, arcmin, arcminute, arcsec, arcsecond, astronomical_unit, atm, atmosphere, atomic_mass, atto, au, bar, barrel, bbl, c, calorie, calorie_IT, calorie_th, carat, centi, codata, constants, convert_temperature, day, deci, degree, degree_Fahrenheit, deka, division, dyn, dyne, e, eV, electron_mass, electron_volt, elementary_charge, epsilon_0, erg, exa, exbi, femto, fermi, find, fine_structure, fluid_ounce, fluid_ounce_US, fluid_ounce_imp, foot, g, gallon, gallon_US, gallon_imp, gas_constant, gibi, giga, golden, golden_ratio, grain, gram, gravitational_constant, h, hbar, hectare, hecto, horsepower, hour, hp, inch, k, kgf, kibi, kilo, kilogram_force, kmh, knot, lambda2nu, lb, lbf, light_year, liter, litre, long_ton, m_e, m_n, m_p, m_u, mach, mebi, mega, metric_ton, micro, micron, mil, mile, milli, minute, mmHg, mph, mu_0, nano, nautical_mile, neutron_mass, nu2lambda, ounce, oz, parsec, pebi, peta, physical_constants, pi, pico, point, pound, pound_force, precision, print_function, proton_mass, psi, pt, short_ton, sigma, speed_of_light, speed_of_sound, stone, survey_foot, survey_mile, tebi, tera, test, ton_TNT, torr, troy_ounce, troy_pound, u, unit, value, week, yard, year, yobi, yotta, zebi, zepto, zero_Celsius, zetta\n"
     ]
    }
   ],
   "source": [
    "from scipy import constants\n",
    "print(\"All constants:\",  \", \".join(sorted([c for c in dir(constants) if not c.startswith('__')])))"
   ]
  },
  {
   "cell_type": "code",
   "execution_count": 51,
   "metadata": {
    "collapsed": false
   },
   "outputs": [
    {
     "name": "stdout",
     "output_type": "stream",
     "text": [
      "g 9.80665\n",
      "barrel 0.15898729492799998\n",
      "acre 4046.8564223999992\n"
     ]
    }
   ],
   "source": [
    "print('g', constants.g)\n",
    "print('barrel', constants.barrel)\n",
    "print('acre', constants.acre)"
   ]
  },
  {
   "cell_type": "markdown",
   "metadata": {
    "collapsed": true
   },
   "source": [
    "### 5.2.1. cluster\n",
    "\n",
    "Original: https://joernhees.de/blog/2015/08/26/scipy-hierarchical-clustering-and-dendrogram-tutorial/"
   ]
  },
  {
   "cell_type": "code",
   "execution_count": 52,
   "metadata": {
    "collapsed": false
   },
   "outputs": [
    {
     "data": {
      "image/png": "[encoded data removed]",
      "text/plain": [
       "<matplotlib.figure.Figure at 0x7fc379960ac8>"
      ]
     },
     "metadata": {},
     "output_type": "display_data"
    }
   ],
   "source": [
    "%matplotlib inline\n",
    "from matplotlib import pyplot as plt\n",
    "import numpy as np\n",
    "\n",
    "a = np.random.randn(100, 2)\n",
    "b = np.random.randn(100, 2)\n",
    "X = np.concatenate((a, b))\n",
    "_ = plt.scatter(X[:,0], X[:,1])"
   ]
  },
  {
   "cell_type": "code",
   "execution_count": 53,
   "metadata": {
    "collapsed": false
   },
   "outputs": [
    {
     "data": {
      "image/png": "[encoded data removed]",
      "text/plain": [
       "<matplotlib.figure.Figure at 0x7fc37a695f28>"
      ]
     },
     "metadata": {},
     "output_type": "display_data"
    }
   ],
   "source": [
    "from scipy.cluster.hierarchy import fcluster, linkage\n",
    "Z = linkage(X, 'ward')\n",
    "clusters = fcluster(Z, 8, depth=10)\n",
    "_ = plt.scatter(X[:,0], X[:,1], c=clusters)"
   ]
  },
  {
   "cell_type": "markdown",
   "metadata": {
    "collapsed": true
   },
   "source": [
    "### 5.2.2. interpolate"
   ]
  },
  {
   "cell_type": "code",
   "execution_count": 54,
   "metadata": {
    "collapsed": false
   },
   "outputs": [
    {
     "data": {
      "image/png": "[encoded data removed]",
      "text/plain": [
       "<matplotlib.figure.Figure at 0x7fc37a55f208>"
      ]
     },
     "metadata": {},
     "output_type": "display_data"
    }
   ],
   "source": [
    "import matplotlib.pyplot as plt\n",
    "from scipy import interpolate\n",
    "\n",
    "x = np.arange(0, 11, 1)\n",
    "y = np.exp(-x / 3.0)\n",
    "f = interpolate.interp1d(x, y)\n",
    "\n",
    "xnew = np.arange(0.1, 9.9, 0.1)\n",
    "ynew = f(xnew)\n",
    "plt.plot(x, y, 'rd', xnew, ynew, 'c.')\n",
    "plt.show()"
   ]
  },
  {
   "cell_type": "markdown",
   "metadata": {},
   "source": [
    "## 5.3 pandas"
   ]
  },
  {
   "cell_type": "markdown",
   "metadata": {
    "collapsed": true
   },
   "source": [
    "Module for data manipulation and analysis. Doc: http://pandas.pydata.org/pandas-docs/stable/io.html"
   ]
  },
  {
   "cell_type": "code",
   "execution_count": 55,
   "metadata": {
    "collapsed": false
   },
   "outputs": [
    {
     "name": "stdout",
     "output_type": "stream",
     "text": [
      "Overwriting data.csv\n"
     ]
    }
   ],
   "source": [
    "%%writefile data.csv\n",
    "Name,Nx,Ny,Nz,Res (mcm),Lab porosity,Mean perm (mD)\n",
    "A1,300,300,300,3.85,0.429,7220\n",
    "Berea,400,400,400,5.345,0.196,1286\n",
    "C1,400,400,400,2.85,0.233,1102\n",
    "C2,400,400,400,5.345,0.168,72.333\n",
    "F42A,450,450,450,9.996,0.33,59000\n",
    "F42B,450,450,450,10.002,0.333,52300\n",
    "F42C,450,450,450,10.002,0.331,50400\n",
    "S1,300,300,300,8.683,0.141,1678\n",
    "S2,300,300,300,4.956,0.246,3898\n",
    "S3,300,300,300,9.1,0.169,224"
   ]
  },
  {
   "cell_type": "code",
   "execution_count": 56,
   "metadata": {
    "collapsed": false
   },
   "outputs": [
    {
     "data": {
      "text/html": [
       "<div>\n",
       "<table border=\"1\" class=\"dataframe\">\n",
       "  <thead>\n",
       "    <tr style=\"text-align: right;\">\n",
       "      <th></th>\n",
       "      <th>Name</th>\n",
       "      <th>Nx</th>\n",
       "      <th>Ny</th>\n",
       "      <th>Nz</th>\n",
       "      <th>Res (mcm)</th>\n",
       "      <th>Lab porosity</th>\n",
       "      <th>Mean perm (mD)</th>\n",
       "    </tr>\n",
       "  </thead>\n",
       "  <tbody>\n",
       "    <tr>\n",
       "      <th>0</th>\n",
       "      <td>A1</td>\n",
       "      <td>300</td>\n",
       "      <td>300</td>\n",
       "      <td>300</td>\n",
       "      <td>3.850</td>\n",
       "      <td>0.429</td>\n",
       "      <td>7220.000</td>\n",
       "    </tr>\n",
       "    <tr>\n",
       "      <th>1</th>\n",
       "      <td>Berea</td>\n",
       "      <td>400</td>\n",
       "      <td>400</td>\n",
       "      <td>400</td>\n",
       "      <td>5.345</td>\n",
       "      <td>0.196</td>\n",
       "      <td>1286.000</td>\n",
       "    </tr>\n",
       "    <tr>\n",
       "      <th>2</th>\n",
       "      <td>C1</td>\n",
       "      <td>400</td>\n",
       "      <td>400</td>\n",
       "      <td>400</td>\n",
       "      <td>2.850</td>\n",
       "      <td>0.233</td>\n",
       "      <td>1102.000</td>\n",
       "    </tr>\n",
       "    <tr>\n",
       "      <th>3</th>\n",
       "      <td>C2</td>\n",
       "      <td>400</td>\n",
       "      <td>400</td>\n",
       "      <td>400</td>\n",
       "      <td>5.345</td>\n",
       "      <td>0.168</td>\n",
       "      <td>72.333</td>\n",
       "    </tr>\n",
       "    <tr>\n",
       "      <th>4</th>\n",
       "      <td>F42A</td>\n",
       "      <td>450</td>\n",
       "      <td>450</td>\n",
       "      <td>450</td>\n",
       "      <td>9.996</td>\n",
       "      <td>0.330</td>\n",
       "      <td>59000.000</td>\n",
       "    </tr>\n",
       "    <tr>\n",
       "      <th>5</th>\n",
       "      <td>F42B</td>\n",
       "      <td>450</td>\n",
       "      <td>450</td>\n",
       "      <td>450</td>\n",
       "      <td>10.002</td>\n",
       "      <td>0.333</td>\n",
       "      <td>52300.000</td>\n",
       "    </tr>\n",
       "    <tr>\n",
       "      <th>6</th>\n",
       "      <td>F42C</td>\n",
       "      <td>450</td>\n",
       "      <td>450</td>\n",
       "      <td>450</td>\n",
       "      <td>10.002</td>\n",
       "      <td>0.331</td>\n",
       "      <td>50400.000</td>\n",
       "    </tr>\n",
       "    <tr>\n",
       "      <th>7</th>\n",
       "      <td>S1</td>\n",
       "      <td>300</td>\n",
       "      <td>300</td>\n",
       "      <td>300</td>\n",
       "      <td>8.683</td>\n",
       "      <td>0.141</td>\n",
       "      <td>1678.000</td>\n",
       "    </tr>\n",
       "    <tr>\n",
       "      <th>8</th>\n",
       "      <td>S2</td>\n",
       "      <td>300</td>\n",
       "      <td>300</td>\n",
       "      <td>300</td>\n",
       "      <td>4.956</td>\n",
       "      <td>0.246</td>\n",
       "      <td>3898.000</td>\n",
       "    </tr>\n",
       "    <tr>\n",
       "      <th>9</th>\n",
       "      <td>S3</td>\n",
       "      <td>300</td>\n",
       "      <td>300</td>\n",
       "      <td>300</td>\n",
       "      <td>9.100</td>\n",
       "      <td>0.169</td>\n",
       "      <td>224.000</td>\n",
       "    </tr>\n",
       "  </tbody>\n",
       "</table>\n",
       "</div>"
      ],
      "text/plain": [
       "    Name   Nx   Ny   Nz  Res (mcm)  Lab porosity  Mean perm (mD)\n",
       "0     A1  300  300  300      3.850         0.429        7220.000\n",
       "1  Berea  400  400  400      5.345         0.196        1286.000\n",
       "2     C1  400  400  400      2.850         0.233        1102.000\n",
       "3     C2  400  400  400      5.345         0.168          72.333\n",
       "4   F42A  450  450  450      9.996         0.330       59000.000\n",
       "5   F42B  450  450  450     10.002         0.333       52300.000\n",
       "6   F42C  450  450  450     10.002         0.331       50400.000\n",
       "7     S1  300  300  300      8.683         0.141        1678.000\n",
       "8     S2  300  300  300      4.956         0.246        3898.000\n",
       "9     S3  300  300  300      9.100         0.169         224.000"
      ]
     },
     "execution_count": 56,
     "metadata": {},
     "output_type": "execute_result"
    }
   ],
   "source": [
    "import pandas as pd\n",
    "df = pd.read_csv(\"data.csv\")\n",
    "df"
   ]
  },
  {
   "cell_type": "code",
   "execution_count": 57,
   "metadata": {
    "collapsed": false
   },
   "outputs": [
    {
     "data": {
      "text/html": [
       "<div>\n",
       "<table border=\"1\" class=\"dataframe\">\n",
       "  <thead>\n",
       "    <tr style=\"text-align: right;\">\n",
       "      <th></th>\n",
       "      <th>Name</th>\n",
       "      <th>Nx</th>\n",
       "      <th>Ny</th>\n",
       "      <th>Nz</th>\n",
       "      <th>Res (mcm)</th>\n",
       "      <th>Lab porosity</th>\n",
       "      <th>Mean perm (mD)</th>\n",
       "    </tr>\n",
       "  </thead>\n",
       "  <tbody>\n",
       "    <tr>\n",
       "      <th>4</th>\n",
       "      <td>F42A</td>\n",
       "      <td>450</td>\n",
       "      <td>450</td>\n",
       "      <td>450</td>\n",
       "      <td>9.996</td>\n",
       "      <td>0.33</td>\n",
       "      <td>59000.0</td>\n",
       "    </tr>\n",
       "  </tbody>\n",
       "</table>\n",
       "</div>"
      ],
      "text/plain": [
       "   Name   Nx   Ny   Nz  Res (mcm)  Lab porosity  Mean perm (mD)\n",
       "4  F42A  450  450  450      9.996          0.33         59000.0"
      ]
     },
     "execution_count": 57,
     "metadata": {},
     "output_type": "execute_result"
    }
   ],
   "source": [
    "df[df.Name == 'F42A']"
   ]
  },
  {
   "cell_type": "code",
   "execution_count": 58,
   "metadata": {
    "collapsed": false
   },
   "outputs": [
    {
     "data": {
      "text/plain": [
       "array([['A1', 300, 300, 300, 3.85, 0.429, 7220.0],\n",
       "       ['Berea', 400, 400, 400, 5.345, 0.196, 1286.0],\n",
       "       ['C1', 400, 400, 400, 2.85, 0.233, 1102.0],\n",
       "       ['C2', 400, 400, 400, 5.345, 0.168, 72.333],\n",
       "       ['F42A', 450, 450, 450, 9.996, 0.33, 59000.0],\n",
       "       ['F42B', 450, 450, 450, 10.002, 0.33299999999999996, 52300.0],\n",
       "       ['F42C', 450, 450, 450, 10.002, 0.331, 50400.0],\n",
       "       ['S1', 300, 300, 300, 8.683, 0.141, 1678.0],\n",
       "       ['S2', 300, 300, 300, 4.956, 0.24600000000000002, 3898.0],\n",
       "       ['S3', 300, 300, 300, 9.1, 0.16899999999999998, 224.0]], dtype=object)"
      ]
     },
     "execution_count": 58,
     "metadata": {},
     "output_type": "execute_result"
    }
   ],
   "source": [
    "df.values"
   ]
  },
  {
   "cell_type": "code",
   "execution_count": 59,
   "metadata": {
    "collapsed": false
   },
   "outputs": [
    {
     "data": {
      "text/html": [
       "<div>\n",
       "<table border=\"1\" class=\"dataframe\">\n",
       "  <thead>\n",
       "    <tr style=\"text-align: right;\">\n",
       "      <th></th>\n",
       "      <th>Nx</th>\n",
       "      <th>Ny</th>\n",
       "      <th>Nz</th>\n",
       "      <th>Res (mcm)</th>\n",
       "      <th>Lab porosity</th>\n",
       "      <th>Mean perm (mD)</th>\n",
       "    </tr>\n",
       "  </thead>\n",
       "  <tbody>\n",
       "    <tr>\n",
       "      <th>count</th>\n",
       "      <td>10.00000</td>\n",
       "      <td>10.00000</td>\n",
       "      <td>10.00000</td>\n",
       "      <td>10.000000</td>\n",
       "      <td>10.000000</td>\n",
       "      <td>10.000000</td>\n",
       "    </tr>\n",
       "    <tr>\n",
       "      <th>mean</th>\n",
       "      <td>375.00000</td>\n",
       "      <td>375.00000</td>\n",
       "      <td>375.00000</td>\n",
       "      <td>7.012900</td>\n",
       "      <td>0.257600</td>\n",
       "      <td>17718.033300</td>\n",
       "    </tr>\n",
       "    <tr>\n",
       "      <th>std</th>\n",
       "      <td>67.70032</td>\n",
       "      <td>67.70032</td>\n",
       "      <td>67.70032</td>\n",
       "      <td>2.809544</td>\n",
       "      <td>0.094104</td>\n",
       "      <td>25144.526809</td>\n",
       "    </tr>\n",
       "    <tr>\n",
       "      <th>min</th>\n",
       "      <td>300.00000</td>\n",
       "      <td>300.00000</td>\n",
       "      <td>300.00000</td>\n",
       "      <td>2.850000</td>\n",
       "      <td>0.141000</td>\n",
       "      <td>72.333000</td>\n",
       "    </tr>\n",
       "    <tr>\n",
       "      <th>25%</th>\n",
       "      <td>300.00000</td>\n",
       "      <td>300.00000</td>\n",
       "      <td>300.00000</td>\n",
       "      <td>5.053250</td>\n",
       "      <td>0.175750</td>\n",
       "      <td>1148.000000</td>\n",
       "    </tr>\n",
       "    <tr>\n",
       "      <th>50%</th>\n",
       "      <td>400.00000</td>\n",
       "      <td>400.00000</td>\n",
       "      <td>400.00000</td>\n",
       "      <td>7.014000</td>\n",
       "      <td>0.239500</td>\n",
       "      <td>2788.000000</td>\n",
       "    </tr>\n",
       "    <tr>\n",
       "      <th>75%</th>\n",
       "      <td>437.50000</td>\n",
       "      <td>437.50000</td>\n",
       "      <td>437.50000</td>\n",
       "      <td>9.772000</td>\n",
       "      <td>0.330750</td>\n",
       "      <td>39605.000000</td>\n",
       "    </tr>\n",
       "    <tr>\n",
       "      <th>max</th>\n",
       "      <td>450.00000</td>\n",
       "      <td>450.00000</td>\n",
       "      <td>450.00000</td>\n",
       "      <td>10.002000</td>\n",
       "      <td>0.429000</td>\n",
       "      <td>59000.000000</td>\n",
       "    </tr>\n",
       "  </tbody>\n",
       "</table>\n",
       "</div>"
      ],
      "text/plain": [
       "              Nx         Ny         Nz  Res (mcm)  Lab porosity  \\\n",
       "count   10.00000   10.00000   10.00000  10.000000     10.000000   \n",
       "mean   375.00000  375.00000  375.00000   7.012900      0.257600   \n",
       "std     67.70032   67.70032   67.70032   2.809544      0.094104   \n",
       "min    300.00000  300.00000  300.00000   2.850000      0.141000   \n",
       "25%    300.00000  300.00000  300.00000   5.053250      0.175750   \n",
       "50%    400.00000  400.00000  400.00000   7.014000      0.239500   \n",
       "75%    437.50000  437.50000  437.50000   9.772000      0.330750   \n",
       "max    450.00000  450.00000  450.00000  10.002000      0.429000   \n",
       "\n",
       "       Mean perm (mD)  \n",
       "count       10.000000  \n",
       "mean     17718.033300  \n",
       "std      25144.526809  \n",
       "min         72.333000  \n",
       "25%       1148.000000  \n",
       "50%       2788.000000  \n",
       "75%      39605.000000  \n",
       "max      59000.000000  "
      ]
     },
     "execution_count": 59,
     "metadata": {},
     "output_type": "execute_result"
    }
   ],
   "source": [
    "df.describe()"
   ]
  },
  {
   "cell_type": "code",
   "execution_count": 60,
   "metadata": {
    "collapsed": false
   },
   "outputs": [
    {
     "data": {
      "text/html": [
       "<div>\n",
       "<table border=\"1\" class=\"dataframe\">\n",
       "  <thead>\n",
       "    <tr style=\"text-align: right;\">\n",
       "      <th></th>\n",
       "      <th>Name</th>\n",
       "      <th>Nx</th>\n",
       "      <th>Ny</th>\n",
       "      <th>Nz</th>\n",
       "      <th>Res (mcm)</th>\n",
       "      <th>Lab porosity</th>\n",
       "      <th>Mean perm (mD)</th>\n",
       "    </tr>\n",
       "  </thead>\n",
       "  <tbody>\n",
       "    <tr>\n",
       "      <th>2</th>\n",
       "      <td>C1</td>\n",
       "      <td>400</td>\n",
       "      <td>400</td>\n",
       "      <td>400</td>\n",
       "      <td>2.850</td>\n",
       "      <td>0.233</td>\n",
       "      <td>1102.000</td>\n",
       "    </tr>\n",
       "    <tr>\n",
       "      <th>0</th>\n",
       "      <td>A1</td>\n",
       "      <td>300</td>\n",
       "      <td>300</td>\n",
       "      <td>300</td>\n",
       "      <td>3.850</td>\n",
       "      <td>0.429</td>\n",
       "      <td>7220.000</td>\n",
       "    </tr>\n",
       "    <tr>\n",
       "      <th>8</th>\n",
       "      <td>S2</td>\n",
       "      <td>300</td>\n",
       "      <td>300</td>\n",
       "      <td>300</td>\n",
       "      <td>4.956</td>\n",
       "      <td>0.246</td>\n",
       "      <td>3898.000</td>\n",
       "    </tr>\n",
       "    <tr>\n",
       "      <th>1</th>\n",
       "      <td>Berea</td>\n",
       "      <td>400</td>\n",
       "      <td>400</td>\n",
       "      <td>400</td>\n",
       "      <td>5.345</td>\n",
       "      <td>0.196</td>\n",
       "      <td>1286.000</td>\n",
       "    </tr>\n",
       "    <tr>\n",
       "      <th>3</th>\n",
       "      <td>C2</td>\n",
       "      <td>400</td>\n",
       "      <td>400</td>\n",
       "      <td>400</td>\n",
       "      <td>5.345</td>\n",
       "      <td>0.168</td>\n",
       "      <td>72.333</td>\n",
       "    </tr>\n",
       "  </tbody>\n",
       "</table>\n",
       "</div>"
      ],
      "text/plain": [
       "    Name   Nx   Ny   Nz  Res (mcm)  Lab porosity  Mean perm (mD)\n",
       "2     C1  400  400  400      2.850         0.233        1102.000\n",
       "0     A1  300  300  300      3.850         0.429        7220.000\n",
       "8     S2  300  300  300      4.956         0.246        3898.000\n",
       "1  Berea  400  400  400      5.345         0.196        1286.000\n",
       "3     C2  400  400  400      5.345         0.168          72.333"
      ]
     },
     "execution_count": 60,
     "metadata": {},
     "output_type": "execute_result"
    }
   ],
   "source": [
    "df.sort_values(by=\"Res (mcm)\").head()"
   ]
  },
  {
   "cell_type": "code",
   "execution_count": 61,
   "metadata": {
    "collapsed": false
   },
   "outputs": [
    {
     "data": {
      "text/html": [
       "<div>\n",
       "<table border=\"1\" class=\"dataframe\">\n",
       "  <thead>\n",
       "    <tr style=\"text-align: right;\">\n",
       "      <th></th>\n",
       "      <th>Name</th>\n",
       "      <th>Mean perm (mD)</th>\n",
       "    </tr>\n",
       "  </thead>\n",
       "  <tbody>\n",
       "    <tr>\n",
       "      <th>0</th>\n",
       "      <td>A1</td>\n",
       "      <td>7220.0</td>\n",
       "    </tr>\n",
       "  </tbody>\n",
       "</table>\n",
       "</div>"
      ],
      "text/plain": [
       "  Name  Mean perm (mD)\n",
       "0   A1          7220.0"
      ]
     },
     "execution_count": 61,
     "metadata": {},
     "output_type": "execute_result"
    }
   ],
   "source": [
    "df[['Name', 'Mean perm (mD)']][df.Name == 'A1']"
   ]
  },
  {
   "cell_type": "code",
   "execution_count": 62,
   "metadata": {
    "collapsed": false
   },
   "outputs": [
    {
     "data": {
      "text/html": [
       "<div>\n",
       "<table border=\"1\" class=\"dataframe\">\n",
       "  <thead>\n",
       "    <tr style=\"text-align: right;\">\n",
       "      <th></th>\n",
       "      <th>Name</th>\n",
       "      <th>Mean perm (mD)</th>\n",
       "    </tr>\n",
       "  </thead>\n",
       "  <tbody>\n",
       "    <tr>\n",
       "      <th>0</th>\n",
       "      <td>A1</td>\n",
       "      <td>7220.0</td>\n",
       "    </tr>\n",
       "    <tr>\n",
       "      <th>1</th>\n",
       "      <td>Berea</td>\n",
       "      <td>1286.0</td>\n",
       "    </tr>\n",
       "    <tr>\n",
       "      <th>2</th>\n",
       "      <td>C1</td>\n",
       "      <td>1102.0</td>\n",
       "    </tr>\n",
       "    <tr>\n",
       "      <th>4</th>\n",
       "      <td>F42A</td>\n",
       "      <td>59000.0</td>\n",
       "    </tr>\n",
       "    <tr>\n",
       "      <th>5</th>\n",
       "      <td>F42B</td>\n",
       "      <td>52300.0</td>\n",
       "    </tr>\n",
       "    <tr>\n",
       "      <th>6</th>\n",
       "      <td>F42C</td>\n",
       "      <td>50400.0</td>\n",
       "    </tr>\n",
       "    <tr>\n",
       "      <th>7</th>\n",
       "      <td>S1</td>\n",
       "      <td>1678.0</td>\n",
       "    </tr>\n",
       "    <tr>\n",
       "      <th>8</th>\n",
       "      <td>S2</td>\n",
       "      <td>3898.0</td>\n",
       "    </tr>\n",
       "  </tbody>\n",
       "</table>\n",
       "</div>"
      ],
      "text/plain": [
       "    Name  Mean perm (mD)\n",
       "0     A1          7220.0\n",
       "1  Berea          1286.0\n",
       "2     C1          1102.0\n",
       "4   F42A         59000.0\n",
       "5   F42B         52300.0\n",
       "6   F42C         50400.0\n",
       "7     S1          1678.0\n",
       "8     S2          3898.0"
      ]
     },
     "execution_count": 62,
     "metadata": {},
     "output_type": "execute_result"
    }
   ],
   "source": [
    "df[['Name', 'Mean perm (mD)']][df['Mean perm (mD)'] > 1000]"
   ]
  },
  {
   "cell_type": "code",
   "execution_count": 63,
   "metadata": {
    "collapsed": false
   },
   "outputs": [
    {
     "data": {
      "text/html": [
       "<div>\n",
       "<table border=\"1\" class=\"dataframe\">\n",
       "  <thead>\n",
       "    <tr style=\"text-align: right;\">\n",
       "      <th></th>\n",
       "      <th>Name</th>\n",
       "      <th>Nx</th>\n",
       "      <th>Ny</th>\n",
       "      <th>Nz</th>\n",
       "    </tr>\n",
       "  </thead>\n",
       "  <tbody>\n",
       "    <tr>\n",
       "      <th>0</th>\n",
       "      <td>A1</td>\n",
       "      <td>300</td>\n",
       "      <td>300</td>\n",
       "      <td>300</td>\n",
       "    </tr>\n",
       "    <tr>\n",
       "      <th>1</th>\n",
       "      <td>Berea</td>\n",
       "      <td>400</td>\n",
       "      <td>400</td>\n",
       "      <td>400</td>\n",
       "    </tr>\n",
       "    <tr>\n",
       "      <th>2</th>\n",
       "      <td>C1</td>\n",
       "      <td>400</td>\n",
       "      <td>400</td>\n",
       "      <td>400</td>\n",
       "    </tr>\n",
       "  </tbody>\n",
       "</table>\n",
       "</div>"
      ],
      "text/plain": [
       "    Name   Nx   Ny   Nz\n",
       "0     A1  300  300  300\n",
       "1  Berea  400  400  400\n",
       "2     C1  400  400  400"
      ]
     },
     "execution_count": 63,
     "metadata": {},
     "output_type": "execute_result"
    }
   ],
   "source": [
    "df.iloc[0:3, 0:4]"
   ]
  },
  {
   "cell_type": "code",
   "execution_count": 64,
   "metadata": {
    "collapsed": false
   },
   "outputs": [
    {
     "data": {
      "text/html": [
       "<div>\n",
       "<table border=\"1\" class=\"dataframe\">\n",
       "  <thead>\n",
       "    <tr style=\"text-align: right;\">\n",
       "      <th></th>\n",
       "      <th>Name</th>\n",
       "      <th>Column</th>\n",
       "      <th>Nx</th>\n",
       "      <th>Ny</th>\n",
       "      <th>Nz</th>\n",
       "      <th>Res (mcm)</th>\n",
       "      <th>Lab porosity</th>\n",
       "      <th>Mean perm (mD)</th>\n",
       "    </tr>\n",
       "  </thead>\n",
       "  <tbody>\n",
       "    <tr>\n",
       "      <th>0</th>\n",
       "      <td>A1</td>\n",
       "      <td>3</td>\n",
       "      <td>300</td>\n",
       "      <td>300</td>\n",
       "      <td>300</td>\n",
       "      <td>3.850</td>\n",
       "      <td>0.429</td>\n",
       "      <td>7220.000</td>\n",
       "    </tr>\n",
       "    <tr>\n",
       "      <th>1</th>\n",
       "      <td>Berea</td>\n",
       "      <td>3</td>\n",
       "      <td>400</td>\n",
       "      <td>400</td>\n",
       "      <td>400</td>\n",
       "      <td>5.345</td>\n",
       "      <td>0.196</td>\n",
       "      <td>1286.000</td>\n",
       "    </tr>\n",
       "    <tr>\n",
       "      <th>2</th>\n",
       "      <td>C1</td>\n",
       "      <td>3</td>\n",
       "      <td>400</td>\n",
       "      <td>400</td>\n",
       "      <td>400</td>\n",
       "      <td>2.850</td>\n",
       "      <td>0.233</td>\n",
       "      <td>1102.000</td>\n",
       "    </tr>\n",
       "    <tr>\n",
       "      <th>3</th>\n",
       "      <td>C2</td>\n",
       "      <td>3</td>\n",
       "      <td>400</td>\n",
       "      <td>400</td>\n",
       "      <td>400</td>\n",
       "      <td>5.345</td>\n",
       "      <td>0.168</td>\n",
       "      <td>72.333</td>\n",
       "    </tr>\n",
       "    <tr>\n",
       "      <th>4</th>\n",
       "      <td>F42A</td>\n",
       "      <td>3</td>\n",
       "      <td>450</td>\n",
       "      <td>450</td>\n",
       "      <td>450</td>\n",
       "      <td>9.996</td>\n",
       "      <td>0.330</td>\n",
       "      <td>59000.000</td>\n",
       "    </tr>\n",
       "    <tr>\n",
       "      <th>5</th>\n",
       "      <td>F42B</td>\n",
       "      <td>3</td>\n",
       "      <td>450</td>\n",
       "      <td>450</td>\n",
       "      <td>450</td>\n",
       "      <td>10.002</td>\n",
       "      <td>0.333</td>\n",
       "      <td>52300.000</td>\n",
       "    </tr>\n",
       "    <tr>\n",
       "      <th>6</th>\n",
       "      <td>F42C</td>\n",
       "      <td>3</td>\n",
       "      <td>450</td>\n",
       "      <td>450</td>\n",
       "      <td>450</td>\n",
       "      <td>10.002</td>\n",
       "      <td>0.331</td>\n",
       "      <td>50400.000</td>\n",
       "    </tr>\n",
       "    <tr>\n",
       "      <th>7</th>\n",
       "      <td>S1</td>\n",
       "      <td>3</td>\n",
       "      <td>300</td>\n",
       "      <td>300</td>\n",
       "      <td>300</td>\n",
       "      <td>8.683</td>\n",
       "      <td>0.141</td>\n",
       "      <td>1678.000</td>\n",
       "    </tr>\n",
       "    <tr>\n",
       "      <th>8</th>\n",
       "      <td>S2</td>\n",
       "      <td>3</td>\n",
       "      <td>300</td>\n",
       "      <td>300</td>\n",
       "      <td>300</td>\n",
       "      <td>4.956</td>\n",
       "      <td>0.246</td>\n",
       "      <td>3898.000</td>\n",
       "    </tr>\n",
       "    <tr>\n",
       "      <th>9</th>\n",
       "      <td>S3</td>\n",
       "      <td>3</td>\n",
       "      <td>300</td>\n",
       "      <td>300</td>\n",
       "      <td>300</td>\n",
       "      <td>9.100</td>\n",
       "      <td>0.169</td>\n",
       "      <td>224.000</td>\n",
       "    </tr>\n",
       "  </tbody>\n",
       "</table>\n",
       "</div>"
      ],
      "text/plain": [
       "    Name  Column   Nx   Ny   Nz  Res (mcm)  Lab porosity  Mean perm (mD)\n",
       "0     A1       3  300  300  300      3.850         0.429        7220.000\n",
       "1  Berea       3  400  400  400      5.345         0.196        1286.000\n",
       "2     C1       3  400  400  400      2.850         0.233        1102.000\n",
       "3     C2       3  400  400  400      5.345         0.168          72.333\n",
       "4   F42A       3  450  450  450      9.996         0.330       59000.000\n",
       "5   F42B       3  450  450  450     10.002         0.333       52300.000\n",
       "6   F42C       3  450  450  450     10.002         0.331       50400.000\n",
       "7     S1       3  300  300  300      8.683         0.141        1678.000\n",
       "8     S2       3  300  300  300      4.956         0.246        3898.000\n",
       "9     S3       3  300  300  300      9.100         0.169         224.000"
      ]
     },
     "execution_count": 64,
     "metadata": {},
     "output_type": "execute_result"
    }
   ],
   "source": [
    "df.insert(1, 'Column', [3] * len(df))\n",
    "df"
   ]
  },
  {
   "cell_type": "code",
   "execution_count": 65,
   "metadata": {
    "collapsed": false
   },
   "outputs": [
    {
     "data": {
      "text/html": [
       "<div>\n",
       "<table border=\"1\" class=\"dataframe\">\n",
       "  <thead>\n",
       "    <tr style=\"text-align: right;\">\n",
       "      <th></th>\n",
       "      <th>Name</th>\n",
       "      <th>Nx</th>\n",
       "      <th>Ny</th>\n",
       "      <th>Nz</th>\n",
       "      <th>Res (mcm)</th>\n",
       "      <th>Lab porosity</th>\n",
       "      <th>Mean perm (mD)</th>\n",
       "    </tr>\n",
       "  </thead>\n",
       "  <tbody>\n",
       "    <tr>\n",
       "      <th>0</th>\n",
       "      <td>A1</td>\n",
       "      <td>300</td>\n",
       "      <td>300</td>\n",
       "      <td>300</td>\n",
       "      <td>3.850</td>\n",
       "      <td>0.429</td>\n",
       "      <td>7220.000</td>\n",
       "    </tr>\n",
       "    <tr>\n",
       "      <th>1</th>\n",
       "      <td>Berea</td>\n",
       "      <td>400</td>\n",
       "      <td>400</td>\n",
       "      <td>400</td>\n",
       "      <td>5.345</td>\n",
       "      <td>0.196</td>\n",
       "      <td>1286.000</td>\n",
       "    </tr>\n",
       "    <tr>\n",
       "      <th>2</th>\n",
       "      <td>C1</td>\n",
       "      <td>400</td>\n",
       "      <td>400</td>\n",
       "      <td>400</td>\n",
       "      <td>2.850</td>\n",
       "      <td>0.233</td>\n",
       "      <td>1102.000</td>\n",
       "    </tr>\n",
       "    <tr>\n",
       "      <th>3</th>\n",
       "      <td>C2</td>\n",
       "      <td>400</td>\n",
       "      <td>400</td>\n",
       "      <td>400</td>\n",
       "      <td>5.345</td>\n",
       "      <td>0.168</td>\n",
       "      <td>72.333</td>\n",
       "    </tr>\n",
       "    <tr>\n",
       "      <th>4</th>\n",
       "      <td>F42A</td>\n",
       "      <td>450</td>\n",
       "      <td>450</td>\n",
       "      <td>450</td>\n",
       "      <td>9.996</td>\n",
       "      <td>0.330</td>\n",
       "      <td>59000.000</td>\n",
       "    </tr>\n",
       "    <tr>\n",
       "      <th>5</th>\n",
       "      <td>F42B</td>\n",
       "      <td>450</td>\n",
       "      <td>450</td>\n",
       "      <td>450</td>\n",
       "      <td>10.002</td>\n",
       "      <td>0.333</td>\n",
       "      <td>52300.000</td>\n",
       "    </tr>\n",
       "    <tr>\n",
       "      <th>6</th>\n",
       "      <td>F42C</td>\n",
       "      <td>450</td>\n",
       "      <td>450</td>\n",
       "      <td>450</td>\n",
       "      <td>10.002</td>\n",
       "      <td>0.331</td>\n",
       "      <td>50400.000</td>\n",
       "    </tr>\n",
       "    <tr>\n",
       "      <th>7</th>\n",
       "      <td>S1</td>\n",
       "      <td>300</td>\n",
       "      <td>300</td>\n",
       "      <td>300</td>\n",
       "      <td>8.683</td>\n",
       "      <td>0.141</td>\n",
       "      <td>1678.000</td>\n",
       "    </tr>\n",
       "    <tr>\n",
       "      <th>8</th>\n",
       "      <td>S2</td>\n",
       "      <td>300</td>\n",
       "      <td>300</td>\n",
       "      <td>300</td>\n",
       "      <td>4.956</td>\n",
       "      <td>0.246</td>\n",
       "      <td>3898.000</td>\n",
       "    </tr>\n",
       "    <tr>\n",
       "      <th>9</th>\n",
       "      <td>S3</td>\n",
       "      <td>300</td>\n",
       "      <td>300</td>\n",
       "      <td>300</td>\n",
       "      <td>9.100</td>\n",
       "      <td>0.169</td>\n",
       "      <td>224.000</td>\n",
       "    </tr>\n",
       "  </tbody>\n",
       "</table>\n",
       "</div>"
      ],
      "text/plain": [
       "    Name   Nx   Ny   Nz  Res (mcm)  Lab porosity  Mean perm (mD)\n",
       "0     A1  300  300  300      3.850         0.429        7220.000\n",
       "1  Berea  400  400  400      5.345         0.196        1286.000\n",
       "2     C1  400  400  400      2.850         0.233        1102.000\n",
       "3     C2  400  400  400      5.345         0.168          72.333\n",
       "4   F42A  450  450  450      9.996         0.330       59000.000\n",
       "5   F42B  450  450  450     10.002         0.333       52300.000\n",
       "6   F42C  450  450  450     10.002         0.331       50400.000\n",
       "7     S1  300  300  300      8.683         0.141        1678.000\n",
       "8     S2  300  300  300      4.956         0.246        3898.000\n",
       "9     S3  300  300  300      9.100         0.169         224.000"
      ]
     },
     "execution_count": 65,
     "metadata": {},
     "output_type": "execute_result"
    }
   ],
   "source": [
    "df = df.drop('Column', 1)\n",
    "df"
   ]
  },
  {
   "cell_type": "code",
   "execution_count": 66,
   "metadata": {
    "collapsed": false
   },
   "outputs": [
    {
     "data": {
      "text/plain": [
       "<matplotlib.axes._subplots.AxesSubplot at 0x7fc37a52b630>"
      ]
     },
     "execution_count": 66,
     "metadata": {},
     "output_type": "execute_result"
    },
    {
     "data": {
      "image/png": "[encoded data removed]",
      "text/plain": [
       "<matplotlib.figure.Figure at 0x7fc37a5d84e0>"
      ]
     },
     "metadata": {},
     "output_type": "display_data"
    }
   ],
   "source": [
    "import matplotlib, seaborn\n",
    "df.plot(x='Name', y='Lab porosity', )"
   ]
  },
  {
   "cell_type": "code",
   "execution_count": 67,
   "metadata": {
    "collapsed": false
   },
   "outputs": [
    {
     "data": {
      "text/plain": [
       "<matplotlib.axes._subplots.AxesSubplot at 0x7fc37a3fdb70>"
      ]
     },
     "execution_count": 67,
     "metadata": {},
     "output_type": "execute_result"
    },
    {
     "data": {
      "image/png": "[encoded data removed]",
      "text/plain": [
       "<matplotlib.figure.Figure at 0x7fc37a51b4e0>"
      ]
     },
     "metadata": {},
     "output_type": "display_data"
    }
   ],
   "source": [
    "df['Lab porosity'].plot.bar()"
   ]
  },
  {
   "cell_type": "markdown",
   "metadata": {},
   "source": [
    "More about visualization: http://pandas.pydata.org/pandas-docs/stable/visualization.html"
   ]
  }
 ],
 "metadata": {
  "kernelspec": {
   "display_name": "Python 3",
   "language": "python",
   "name": "python3"
  },
  "language_info": {
   "codemirror_mode": {
    "name": "ipython",
    "version": 3
   },
   "file_extension": ".py",
   "mimetype": "text/x-python",
   "name": "python",
   "nbconvert_exporter": "python",
   "pygments_lexer": "ipython3",
   "version": "3.6.0"
  }
 },
 "nbformat": 4,
 "nbformat_minor": 0
}
