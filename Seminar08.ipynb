{
 "cells": [
  {
   "cell_type": "markdown",
   "metadata": {},
   "source": [
    "# 8. Совместное использование C++ и Python. Модуль CherryPy для создания веб-приложений."
   ]
  },
  {
   "cell_type": "markdown",
   "metadata": {},
   "source": [
    "## 8.1. Совместное использование с C++\n",
    "### 8.1.1. swig"
   ]
  },
  {
   "cell_type": "code",
   "execution_count": 84,
   "metadata": {
    "collapsed": false
   },
   "outputs": [
    {
     "name": "stdout",
     "output_type": "stream",
     "text": [
      "Overwriting swtest.c\n"
     ]
    }
   ],
   "source": [
    "%%writefile swtest.c\n",
    "\n",
    "int fact(int n) {\n",
    "    if (n <= 1) return 1;\n",
    "    else return n * fact(n-1);\n",
    "}"
   ]
  },
  {
   "cell_type": "code",
   "execution_count": 83,
   "metadata": {
    "collapsed": false
   },
   "outputs": [
    {
     "name": "stdout",
     "output_type": "stream",
     "text": [
      "Overwriting swtest.swig\n"
     ]
    }
   ],
   "source": [
    "%%writefile swtest.swig\n",
    "\n",
    "%module swtest\n",
    "%{\n",
    "    extern int fact(int n);\n",
    "%}\n",
    "\n",
    "extern int fact(int n);"
   ]
  },
  {
   "cell_type": "code",
   "execution_count": 86,
   "metadata": {
    "collapsed": true
   },
   "outputs": [],
   "source": [
    "%%bash\n",
    "swig -python swtest.swig\n",
    "gcc -fPIC -c swtest.c swtest_wrap.c -I/usr/include/python3.4\n",
    "gcc -shared swtest.o swtest_wrap.o -o _swtest.so"
   ]
  },
  {
   "cell_type": "code",
   "execution_count": 20,
   "metadata": {
    "collapsed": false
   },
   "outputs": [
    {
     "name": "stdout",
     "output_type": "stream",
     "text": [
      "3628800\n"
     ]
    }
   ],
   "source": [
    "import swtest\n",
    "print(swtest.fact(10))"
   ]
  },
  {
   "cell_type": "markdown",
   "metadata": {},
   "source": [
    "### 8.1.2. cffi"
   ]
  },
  {
   "cell_type": "code",
   "execution_count": 87,
   "metadata": {
    "collapsed": false
   },
   "outputs": [
    {
     "name": "stdout",
     "output_type": "stream",
     "text": [
      "Writing cftest.cpp\n"
     ]
    }
   ],
   "source": [
    "%%writefile cftest.cpp\n",
    "#include <omp.h>\n",
    "\n",
    "extern \"C\" {\n",
    "    \n",
    "struct DataStruct {\n",
    "  unsigned char *Data;\n",
    "  int Nx, Ny, Nz;\n",
    "};\n",
    "\n",
    "void MarkBoundaries(DataStruct* data) {\n",
    "    int Nx = data->Nx;\n",
    "    int Ny = data->Ny;\n",
    "    int Nz = data->Nz;\n",
    "    unsigned char * const raw = data->Data;\n",
    "\n",
    "    #pragma omp parallel for\n",
    "    for (int x = 1; x < Nx - 1; ++x) {\n",
    "        for (int y = 1; y < Ny - 1; ++y) {\n",
    "            for (int z = 1; z < Nz - 1; ++z) {\n",
    "                if (raw[x + y * Nx + z * Nx * Ny] == 0) {\n",
    "                    for (int xx = x - 1; xx < x + 2; ++xx) {\n",
    "                        for (int yy = y - 1; yy < y + 2; ++yy) {\n",
    "                            for (int zz = z - 1; zz < z + 2; ++zz) {\n",
    "                                if (raw[xx + yy * Nx + zz * Nx * Ny] == 1) {\n",
    "                                    raw[x + y * Nx + z * Nx * Ny] = 3;\n",
    "                                }\n",
    "                            }\n",
    "                        }\n",
    "                    }\n",
    "                }\n",
    "            }\n",
    "        }\n",
    "    }\n",
    "}\n",
    "\n",
    "}"
   ]
  },
  {
   "cell_type": "code",
   "execution_count": 2,
   "metadata": {
    "collapsed": false
   },
   "outputs": [],
   "source": [
    "%%bash\n",
    "g++ -fPIC -c cftest.cpp -fopenmp -O3\n",
    "g++ -fopenmp -shared cftest.o -o _cftest.so"
   ]
  },
  {
   "cell_type": "code",
   "execution_count": 3,
   "metadata": {
    "collapsed": false
   },
   "outputs": [
    {
     "name": "stdout",
     "output_type": "stream",
     "text": [
      "Overwriting cftest.py\n"
     ]
    }
   ],
   "source": [
    "%%writefile cftest.py\n",
    "\n",
    "from cffi import FFI\n",
    "import os\n",
    "_ffi = FFI()\n",
    "_lib = _ffi.dlopen(os.path.join(os.path.dirname(os.path.realpath(__file__)), \"_cftest.so\"))\n",
    "_ffi.cdef(\"\"\"\n",
    "typedef struct {\n",
    "    uint8_t *Data;\n",
    "    int Nx, Ny, Nz;\n",
    "} DataStruct;\n",
    "void MarkBoundaries(struct DataStruct* data);\n",
    "\"\"\")\n",
    "\n",
    "def MarkBoundaries(raw, size):\n",
    "    data = _ffi.new(\"DataStruct[]\", 1)\n",
    "    data[0].Data = _ffi.cast(\"uint8_t *\", raw.ctypes.data)\n",
    "    data[0].Nx, data[0].Ny, data[0].Nz = size\n",
    "    dataPtr = _ffi.cast(\"struct DataStruct *\", data)\n",
    "    \n",
    "    _lib.MarkBoundaries(dataPtr)"
   ]
  },
  {
   "cell_type": "code",
   "execution_count": 4,
   "metadata": {
    "collapsed": false
   },
   "outputs": [
    {
     "name": "stdout",
     "output_type": "stream",
     "text": [
      "[1 1 1 1 1 1 1 1 1 1 1 1 1 1 1 1 1 0 0 0 0 0 0 0 0 0 0 0 0 1 1 1 1 1 1 1 1\n",
      " 1 1 1 1 1 1 1 1 1 1 1 1 1 1 1 1 1 1 1 1 1 1 1 1 1 1 1 1 1 1 1 1 1 1 1 1 1\n",
      " 1 1 1 1 1 1 1 1 1 1 1 1 1 1 1 1 1 1 1 1 1 1 1 1 1 1 1 1 1 1 1 1 1 1 1 1 1\n",
      " 1 1 1 1 1 1 1 1 1 1 1 1 1 1 1 1 1 1 1 1 1 1 1 0 0 0 0 0 0]\n",
      "[1 1 1 1 1 1 1 1 1 1 1 1 1 1 1 1 1 3 3 3 0 0 0 3 3 3 3 3 3 1 1 1 1 1 1 1 1\n",
      " 1 1 1 1 1 1 1 1 1 1 1 1 1 1 1 1 1 1 1 1 1 1 1 1 1 1 1 1 1 1 1 1 1 1 1 1 1\n",
      " 1 1 1 1 1 1 1 1 1 1 1 1 1 1 1 1 1 1 1 1 1 1 1 1 1 1 1 1 1 1 1 1 1 1 1 1 1\n",
      " 1 1 1 1 1 1 1 1 1 1 1 1 1 1 1 1 1 1 1 1 1 1 1 3 3 3 3 3 3]\n"
     ]
    }
   ],
   "source": [
    "import cftest\n",
    "import numpy\n",
    "\n",
    "raw = numpy.fromfile(\"S1_300x300x300.raw\", dtype=numpy.uint8)\n",
    "size = 300, 300, 300\n",
    "\n",
    "print(raw[131450:131590])\n",
    "\n",
    "cftest.MarkBoundaries(raw, size)\n",
    "\n",
    "print(raw[131450:131590])"
   ]
  },
  {
   "cell_type": "markdown",
   "metadata": {},
   "source": [
    "### 8.1.3. ctypes"
   ]
  },
  {
   "cell_type": "code",
   "execution_count": 9,
   "metadata": {
    "collapsed": false
   },
   "outputs": [
    {
     "name": "stdout",
     "output_type": "stream",
     "text": [
      "Writing ctytest.cpp\n"
     ]
    }
   ],
   "source": [
    "%%writefile ctytest.cpp\n",
    "\n",
    "extern \"C\" {\n",
    "    \n",
    "void sum(float *a, float *b, float *c, int size)\n",
    "{\n",
    "    for (int i = 0; i < size; ++i) {\n",
    "        c[i] = a[i] + b[i];\n",
    "    }\n",
    "}\n",
    "    \n",
    "}"
   ]
  },
  {
   "cell_type": "code",
   "execution_count": 10,
   "metadata": {
    "collapsed": false
   },
   "outputs": [],
   "source": [
    "%%bash\n",
    "g++ -fPIC -shared -o _ctytest.so ctytest.cpp"
   ]
  },
  {
   "cell_type": "code",
   "execution_count": 88,
   "metadata": {
    "collapsed": false
   },
   "outputs": [
    {
     "name": "stdout",
     "output_type": "stream",
     "text": [
      "2.0\n"
     ]
    }
   ],
   "source": [
    "import ctypes\n",
    "import numpy as np\n",
    "\n",
    "def build_ctytest_sum():\n",
    "    dll = ctypes.CDLL('./_ctytest.so', mode=ctypes.RTLD_GLOBAL)\n",
    "    func = dll.sum\n",
    "    func.argtypes = [ctypes.POINTER(ctypes.c_float),\n",
    "                     ctypes.POINTER(ctypes.c_float),\n",
    "                     ctypes.POINTER(ctypes.c_float),\n",
    "                     ctypes.c_size_t\n",
    "                    ]\n",
    "    return func\n",
    "\n",
    "def ctytest_sum(a, b, c, size):\n",
    "    ctytest_sum_impl = build_ctytest_sum()\n",
    "    a_p = a.ctypes.data_as(ctypes.POINTER(ctypes.c_float))\n",
    "    b_p = b.ctypes.data_as(ctypes.POINTER(ctypes.c_float))\n",
    "    c_p = c.ctypes.data_as(ctypes.POINTER(ctypes.c_float))\n",
    "\n",
    "    ctytest_sum_impl(a_p, b_p, c_p, size)\n",
    "\n",
    "size = int(1024*1024)\n",
    "\n",
    "a = np.ones(size).astype('float32')\n",
    "b = np.ones(size).astype('float32')\n",
    "c = np.zeros(size).astype('float32')\n",
    "\n",
    "ctytest_sum(a, b, c, size)\n",
    "\n",
    "print(c[10])"
   ]
  },
  {
   "cell_type": "markdown",
   "metadata": {},
   "source": [
    "## 8.2. Python для создания веб-приложений\n",
    "\n",
    "Фреймворки:\n",
    "1. Flask\n",
    "2. Django\n",
    "3. Tornado\n",
    "4. CherryPy\n",
    "\n",
    "Шаблонные движки:\n",
    "1. Jinja2\n",
    "2. Mako"
   ]
  },
  {
   "cell_type": "markdown",
   "metadata": {
    "collapsed": true
   },
   "source": [
    "### 8.2.1. Шаблонный движок jinja2\n",
    "\n",
    "Установка:\n",
    "\n",
    "    conda install jinja2\n",
    "    pip install jinja2\n",
    "\n",
    "Документация: http://jinja.pocoo.org/docs/dev/"
   ]
  },
  {
   "cell_type": "code",
   "execution_count": 30,
   "metadata": {
    "collapsed": false
   },
   "outputs": [
    {
     "name": "stdout",
     "output_type": "stream",
     "text": [
      "Overwriting base.html\n"
     ]
    }
   ],
   "source": [
    "%%writefile base.html\n",
    "\n",
    "<!DOCTYPE html>\n",
    "<html>\n",
    "  <head>\n",
    "    <meta charset=\"utf-8\">\n",
    "      <title> {{ title }} </title>\n",
    "  </head>\n",
    "  <body>\n",
    "    {% block body %}Некоторый текст{% endblock %}\n",
    "  </body>\n",
    "</html>"
   ]
  },
  {
   "cell_type": "code",
   "execution_count": 90,
   "metadata": {
    "collapsed": false
   },
   "outputs": [
    {
     "name": "stdout",
     "output_type": "stream",
     "text": [
      "\n",
      "<!DOCTYPE html>\n",
      "<html>\n",
      "  <head>\n",
      "    <meta charset=\"utf-8\">\n",
      "      <title> Имя блога </title>\n",
      "  </head>\n",
      "  <body>\n",
      "    Некоторый текст  </body>\n",
      "</html>\n"
     ]
    }
   ],
   "source": [
    "import jinja2\n",
    "\n",
    "j2env = jinja2.Environment(loader=jinja2.FileSystemLoader('.'), trim_blocks=True)\n",
    "print(j2env.get_template('base.html').render(title='Имя блога'))"
   ]
  },
  {
   "cell_type": "code",
   "execution_count": 91,
   "metadata": {
    "collapsed": false
   },
   "outputs": [
    {
     "name": "stdout",
     "output_type": "stream",
     "text": [
      "Overwriting body.html\n"
     ]
    }
   ],
   "source": [
    "%%writefile body.html\n",
    "{% extends \"base.html\" %}\n",
    "\n",
    "{% block body %}\n",
    "    {{ super() }}\n",
    "    <ol>\n",
    "    {% for item in items %}\n",
    "      <li>{{ item }}</li>\n",
    "    {% endfor %}\n",
    "    </ol>\n",
    "{% endblock %}"
   ]
  },
  {
   "cell_type": "code",
   "execution_count": 92,
   "metadata": {
    "collapsed": false
   },
   "outputs": [
    {
     "name": "stdout",
     "output_type": "stream",
     "text": [
      "\n",
      "<!DOCTYPE html>\n",
      "<html>\n",
      "  <head>\n",
      "    <meta charset=\"utf-8\">\n",
      "      <title> Имя блога 3 </title>\n",
      "  </head>\n",
      "  <body>\n",
      "        Некоторый текст\n",
      "    <ol>\n",
      "          <li>яблоко</li>\n",
      "          <li>персик</li>\n",
      "          <li>ананас</li>\n",
      "        </ol>\n",
      "  </body>\n",
      "</html>\n"
     ]
    }
   ],
   "source": [
    "print(j2env.get_template('body.html').render(title='Имя блога 3', items=['яблоко', 'персик', 'ананас']))"
   ]
  },
  {
   "cell_type": "markdown",
   "metadata": {},
   "source": [
    "### 8.2.2. Модуль CherryPy\n",
    "\n",
    "Установка:\n",
    "    \n",
    "    conda install cherrypy\n",
    "    pip install cherrypy\n",
    "    \n",
    "Документация: http://docs.cherrypy.org/en/latest/index.html"
   ]
  },
  {
   "cell_type": "code",
   "execution_count": 59,
   "metadata": {
    "collapsed": false
   },
   "outputs": [
    {
     "name": "stdout",
     "output_type": "stream",
     "text": [
      "Overwriting app.py\n"
     ]
    }
   ],
   "source": [
    "%%writefile app.py\n",
    "#!/usr/bin/env python\n",
    "# coding: utf-8\n",
    "import cherrypy\n",
    "import jinja2\n",
    "import os\n",
    "\n",
    "class Application():\n",
    "    def __init__(self, blog_name):\n",
    "        self.blog_name = blog_name\n",
    "        current_dir = os.path.dirname(os.path.abspath(__file__))\n",
    "        self.j2env = jinja2.Environment(loader=jinja2.FileSystemLoader(current_dir), trim_blocks=True)\n",
    "    \n",
    "    @cherrypy.expose\n",
    "    def index(self):\n",
    "        return self.j2env.get_template('base.html').render(title=self.blog_name)\n",
    "    \n",
    "    @cherrypy.expose\n",
    "    def make_list(self, items):\n",
    "        encoded_items = (x.encode('ISO-8859-1').decode('utf-8') for x in items.split(','))\n",
    "        return self.j2env.get_template('body.html').render(title=self.blog_name, items=encoded_items)\n",
    "\n",
    "if __name__ == '__main__':\n",
    "   cherrypy.quickstart(Application('Тестовый блог'), '/')\n"
   ]
  },
  {
   "cell_type": "markdown",
   "metadata": {},
   "source": [
    "При загрузке урла http://127.0.0.1:8080/make_list/яблоко,дорога,кран\n",
    "\n",
    "Выдаст страницу:\n",
    "\n",
    "Некоторый текст\n",
    "\n",
    "1. яблоко\n",
    "2. дорога\n",
    "3. кран"
   ]
  },
  {
   "cell_type": "markdown",
   "metadata": {},
   "source": [
    "### 8.2.3. Модуль CherryPy с Ajax, пример из официальной документации\n",
    "\n",
    "http://docs.cherrypy.org/en/latest/tutorials.html#tutorial-8-make-it-smoother-with-ajax"
   ]
  },
  {
   "cell_type": "code",
   "execution_count": 81,
   "metadata": {
    "collapsed": false
   },
   "outputs": [
    {
     "name": "stdout",
     "output_type": "stream",
     "text": [
      "Overwriting index.html\n"
     ]
    }
   ],
   "source": [
    "%%writefile index.html\n",
    "<!DOCTYPE html>\n",
    "<html>\n",
    "   <head>\n",
    "     <script src=\"http://code.jquery.com/jquery-2.0.3.min.js\"></script>\n",
    "     <script type=\"text/javascript\">\n",
    "       $(document).ready(function() {\n",
    "\n",
    "         $(\"#generate-string\").click(function(e) {\n",
    "           $.post(\"/generator\", {\"length\": $(\"input[name='length']\").val()})\n",
    "            .done(function(string) {\n",
    "               $(\"#the-string\").show();\n",
    "               $(\"#the-string input\").val(string);\n",
    "            });\n",
    "           e.preventDefault();\n",
    "         });\n",
    "\n",
    "         $(\"#replace-string\").click(function(e) {\n",
    "           $.ajax({\n",
    "              type: \"PUT\",\n",
    "              url: \"/generator\",\n",
    "              data: {\"another_string\": $(\"#the-string input\").val()}\n",
    "           })\n",
    "           e.preventDefault();\n",
    "         });\n",
    "\n",
    "         $(\"#delete-string\").click(function(e) {\n",
    "           $.ajax({\n",
    "              type: \"DELETE\",\n",
    "              url: \"/generator\"\n",
    "           })\n",
    "           .done(function() {\n",
    "              $(\"#the-string\").hide();\n",
    "           });\n",
    "           e.preventDefault();\n",
    "         });\n",
    "                \n",
    "         $.ajax({\n",
    "           type: \"GET\",\n",
    "           url: \"/generator\"\n",
    "         }).done(function(string) {\n",
    "            $(\"#the-string input\").val(string);\n",
    "        }\n",
    "         );\n",
    "       });\n",
    "     </script>\n",
    "   </head>\n",
    "   <body>\n",
    "     <input type=\"text\" value=\"20\" name=\"length\" />\n",
    "     <button id=\"generate-string\">Generate string</button>\n",
    "     <div id=\"the-string\">\n",
    "         <input type=\"text\" />\n",
    "         <button id=\"replace-string\">Replace</button>\n",
    "         <button id=\"delete-string\">Delete it</button>\n",
    "     </div>\n",
    "   </body>\n",
    "</html>"
   ]
  },
  {
   "cell_type": "code",
   "execution_count": 79,
   "metadata": {
    "collapsed": false
   },
   "outputs": [
    {
     "name": "stdout",
     "output_type": "stream",
     "text": [
      "Overwriting tut8.py\n"
     ]
    }
   ],
   "source": [
    "%%writefile tut8.py\n",
    "import os, os.path\n",
    "import random\n",
    "import string\n",
    "\n",
    "import cherrypy\n",
    "\n",
    "class StringGenerator(object):\n",
    "   @cherrypy.expose\n",
    "   def index(self):\n",
    "       return open('index.html')\n",
    "\n",
    "class StringGeneratorWebService(object):\n",
    "    exposed = True\n",
    "\n",
    "    @cherrypy.tools.accept(media='text/plain')\n",
    "    def GET(self):\n",
    "        return cherrypy.session['mystring']\n",
    "\n",
    "    def POST(self, length=8):\n",
    "        some_string = ''.join(random.sample(string.hexdigits, int(length)))\n",
    "        cherrypy.session['mystring'] = some_string\n",
    "        return some_string\n",
    "\n",
    "    def PUT(self, another_string):\n",
    "        cherrypy.session['mystring'] = another_string\n",
    "\n",
    "    def DELETE(self):\n",
    "        cherrypy.session.pop('mystring', None)\n",
    "\n",
    "if __name__ == '__main__':\n",
    "    conf = {\n",
    "        '/': {\n",
    "            'tools.sessions.on': True,\n",
    "            'tools.staticdir.root': os.path.abspath(os.getcwd())\n",
    "        },\n",
    "        '/generator': {\n",
    "            'request.dispatch': cherrypy.dispatch.MethodDispatcher(),\n",
    "            'tools.response_headers.on': True,\n",
    "            'tools.response_headers.headers': [('Content-Type', 'text/plain')],\n",
    "        },\n",
    "    }\n",
    "    webapp = StringGenerator()\n",
    "    webapp.generator = StringGeneratorWebService()\n",
    "    cherrypy.quickstart(webapp, '/', conf)"
   ]
  }
 ],
 "metadata": {
  "kernelspec": {
   "display_name": "Python 3",
   "language": "python",
   "name": "python3"
  },
  "language_info": {
   "codemirror_mode": {
    "name": "ipython",
    "version": 3
   },
   "file_extension": ".py",
   "mimetype": "text/x-python",
   "name": "python",
   "nbconvert_exporter": "python",
   "pygments_lexer": "ipython3",
   "version": "3.6.0"
  }
 },
 "nbformat": 4,
 "nbformat_minor": 0
}
