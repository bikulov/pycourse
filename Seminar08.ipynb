{
 "cells": [
  {
   "cell_type": "markdown",
   "metadata": {},
   "source": [
    "# Семинар 10. Стиль кодирования. Юнит-тестирование."
   ]
  },
  {
   "cell_type": "markdown",
   "metadata": {},
   "source": [
    "## Стиль кодирования pep8"
   ]
  },
  {
   "cell_type": "markdown",
   "metadata": {},
   "source": [
    "Полный текст есть в документации: https://www.python.org/dev/peps/pep-0008/\n",
    "По сути, представляет собой восьмое предложение по «расширению» Python (Python Enhancement Proposal, PEP)."
   ]
  },
  {
   "cell_type": "markdown",
   "metadata": {},
   "source": [
    "### Внешний вид кода\n",
    "\n",
    "* отступ — 4 пробела\n",
    "* не более 79 символов на строку\n",
    "* определение классов и отельных функций отбиваются двойными новыми строками\n",
    "* определения методов в классе отбиваются одинарными новыми строками\n",
    "* код в UTF-8\n",
    "* каждый `import` на отдельной строчке\n",
    "* следует избегать конструкций вида `import *`\n",
    "* порядок импортирования: модули из стандартной библиотеки, библиотечные модули, модули конкретного проекта\n",
    "\n",
    "**Правильно**:\n",
    "\n",
    "    foo = long_function_name(var_one, var_two,\n",
    "                             var_three, var_four)\n",
    "\n",
    "или\n",
    "\n",
    "    def long_function_name(\n",
    "            var_one, var_two, var_three,\n",
    "            var_four):\n",
    "        print(var_one)\n",
    "\n",
    "\n",
    "или\n",
    "\n",
    "    foo = long_function_name(\n",
    "        var_one, var_two,\n",
    "        var_three, var_four)\n",
    "\n",
    "**Направильно**:\n",
    "\n",
    "    foo = long_function_name(var_one, var_two,\n",
    "        var_three, var_four)\n",
    "\n",
    "или\n",
    "\n",
    "    def long_function_name(\n",
    "        var_one, var_two, var_three,\n",
    "        var_four):\n",
    "        print(var_one)"
   ]
  },
  {
   "cell_type": "markdown",
   "metadata": {},
   "source": [
    "### Кавычки и пробелы\n",
    "\n",
    "Следует использовать одни и те же (одиночные или двойные) кавычки внутри одного файла. Для тройных кавычек всегда следует использовать двойные кавычки.\n",
    "\n",
    "Пробелы следует ставить для повышения читаемости, но не слишком много. Например, это неправильно:\n",
    "\n",
    "    spam( ham[ 1 ], { eggs: 2 } )\n",
    "    ham[1: 9], ham[1 :9], ham[1:9 :3]\n",
    "    dct ['key'] = lst [index]\n",
    "    if x == 4 : print x , y ; x , y = y , x\n",
    "    i=i+1\n",
    "\n",
    "А это правильно:\n",
    "\n",
    "    spam(ham[1], {eggs: 2})\n",
    "    if x == 4: print x, y; x, y = y, x\n",
    "    ham[1:9], ham[1:9:3], ham[:9:3], ham[1::3], ham[1:9:]\n",
    "    dct['key'] = lst[index]\n",
    "    i = i + 1\n",
    "    \n",
    "Висящие пробелы запрещены."
   ]
  },
  {
   "cell_type": "markdown",
   "metadata": {},
   "source": [
    "### Соглашения об именовании"
   ]
  },
  {
   "cell_type": "markdown",
   "metadata": {},
   "source": [
    "Полный текст: https://www.python.org/dev/peps/pep-0008/\n",
    "\n",
    "Особые случаи:\n",
    "* \\_single_leading_underscore — «слабый» идентификатор внутреннего использования\n",
    "* single\\_trailing\\_underscore\\_ — используются, чтобы избегать конфликтов с именами, уже определенными в Python\n",
    "* \\_\\_double_leading_underscore — сильный идентификатор внутреннего использования, в случае аттрибутов класса вызывает преобразование имен\n",
    "* \\_\\_foo\\_bar\\_\\_ — «магические» объекты, новые лучше не создавать, только переопределять существующие\n",
    "\n",
    "Основные правила:\n",
    "* имена модулей должны быть записаны только в нижнем регистре\n",
    "* ИменаКлассов в CamelCase\n",
    "* в именах исключений должен быть суффикс «Error»\n",
    "* имена\\_функций должны быть в нижнем регистре с подчеркиваниями\n",
    "* константы именуются в верхнем регистре с подчеркиваниями: MAX_VALUE"
   ]
  },
  {
   "cell_type": "markdown",
   "metadata": {},
   "source": [
    "### Рекомендации по написанию кода\n",
    "\n",
    "* внимание к публичным и приватным членам классов\n",
    "* сравнение с синглтонами типа `None` всегда долны быть через «is» или «is not», и осторожнее с булевыми значениями\n",
    "* «is not» лучше, чем «not ... is»"
   ]
  },
  {
   "cell_type": "markdown",
   "metadata": {},
   "source": [
    "## Модуль unittest"
   ]
  },
  {
   "cell_type": "markdown",
   "metadata": {},
   "source": [
    "Базовая единица в тестировании — тестовые случаи (Test Cases). Для того, чтобы создать тестовый случай в `unittest`, необходимо определить класс и наследоваться от `unittest.TestCase` или `unittest.FunctionTestCase`. Тестовый случай должен быть абсолютно независимым.\n",
    "\n",
    "Важные методы:\n",
    "  * setUp() — метод, описывающий необходимую подготовку до запуска тестового случая\n",
    "  * tearDown() — запускается после выполнения всех тестов тестового случая\n",
    "  * остальные: https://docs.python.org/3.6/library/unittest.html#test-cases\n",
    "  \n",
    "Варианты assert'ов:\n",
    "  * assertEqual(a, b) проверяет `a == b`\t \n",
    "  * assertNotEqual(a, b) проверяет `a != b`\n",
    "  * assertTrue(x) проверяет bool(x) `is True`\n",
    "  * assertFalse(x) проверяет bool(x) `is False` \n",
    "  * assertIs(a, b) проверяет `a is b`\n",
    "  * assertIsNot(a, b) проверяет `a is not b`\n",
    "  * assertIsNone(x) проверяет `x is None`\n",
    "  * assertIsNotNone(x) проверяет `x is not None`\n",
    "  * assertIn(a, b) проверяет `a in b`\n",
    "  * assertNotIn(a, b) проверяет `a not in b`\n",
    "  * assertIsInstance(a, b) проверяет `isinstance(a, b)`\n",
    "  * assertNotIsInstance(a, b) проверяет `not isinstance(a, b)`\n",
    "\n",
    "В assert можно добавить последний аргумент msg — сообщение, которое будет выведено в случае падения теста."
   ]
  },
  {
   "cell_type": "code",
   "execution_count": 57,
   "metadata": {
    "collapsed": false
   },
   "outputs": [
    {
     "name": "stdout",
     "output_type": "stream",
     "text": [
      "Overwriting mymodule.py\n"
     ]
    }
   ],
   "source": [
    "%%writefile mymodule.py\n",
    "def sum_two_numbers(a, b):\n",
    "    return a + b"
   ]
  },
  {
   "cell_type": "code",
   "execution_count": 58,
   "metadata": {
    "collapsed": false
   },
   "outputs": [
    {
     "name": "stdout",
     "output_type": "stream",
     "text": [
      "Overwriting test_mymodule.py\n"
     ]
    }
   ],
   "source": [
    "%%writefile test_mymodule.py\n",
    "#!/usr/bin/env python\n",
    "import unittest\n",
    "import mymodule\n",
    "\n",
    "class TestMyModule(unittest.TestCase):\n",
    "\n",
    "    def test_sum_two_numbers1(self):\n",
    "        res = mymodule.sum_two_numbers(1, 3)\n",
    "        self.assertEqual(res, 4)\n",
    "    \n",
    "    def test_sum_two_numbers2(self):\n",
    "        res = mymodule.sum_two_numbers(1, 3)\n",
    "        self.assertNotEqual(res, 5)\n",
    "\n",
    "    def test_sum_two_numbers3(self):\n",
    "        with self.assertRaises(TypeError):\n",
    "            mymodule.sum_two_numbers(1, None)\n",
    "\n",
    "if __name__ == '__main__':\n",
    "    unittest.main()"
   ]
  },
  {
   "cell_type": "code",
   "execution_count": 59,
   "metadata": {
    "collapsed": false
   },
   "outputs": [
    {
     "name": "stderr",
     "output_type": "stream",
     "text": [
      "...\n",
      "----------------------------------------------------------------------\n",
      "Ran 3 tests in 0.000s\n",
      "\n",
      "OK\n"
     ]
    }
   ],
   "source": [
    "%%bash\n",
    "\n",
    "python test_mymodule.py"
   ]
  },
  {
   "cell_type": "code",
   "execution_count": 40,
   "metadata": {
    "collapsed": false
   },
   "outputs": [
    {
     "name": "stderr",
     "output_type": "stream",
     "text": [
      ".\n",
      "----------------------------------------------------------------------\n",
      "Ran 1 test in 0.000s\n",
      "\n",
      "OK\n"
     ]
    }
   ],
   "source": [
    "%%bash\n",
    "\n",
    "python -m unittest test_mymodule.TestMyModule.test_sum_two_numbers1"
   ]
  },
  {
   "cell_type": "code",
   "execution_count": 60,
   "metadata": {
    "collapsed": false
   },
   "outputs": [
    {
     "name": "stderr",
     "output_type": "stream",
     "text": [
      "...\n",
      "----------------------------------------------------------------------\n",
      "Ran 3 tests in 0.000s\n",
      "\n",
      "OK\n"
     ]
    }
   ],
   "source": [
    "%%bash\n",
    "\n",
    "python -m unittest discover"
   ]
  },
  {
   "cell_type": "markdown",
   "metadata": {},
   "source": [
    "## Модуль doctest\n",
    "\n",
    "Подробнее: https://docs.python.org/3.5/library/doctest.html"
   ]
  },
  {
   "cell_type": "code",
   "execution_count": 64,
   "metadata": {
    "collapsed": false
   },
   "outputs": [
    {
     "name": "stdout",
     "output_type": "stream",
     "text": [
      "Overwriting doctstex.py\n"
     ]
    }
   ],
   "source": [
    "%%writefile doctstex.py\n",
    "\n",
    "\"\"\"\n",
    "This is the \"example\" module.\n",
    "\n",
    "The example module supplies one function, factorial().  For example,\n",
    "\n",
    ">>> factorial(5)\n",
    "120\n",
    "\"\"\"\n",
    "\n",
    "def factorial(n):\n",
    "    \"\"\"Return the factorial of n, an exact integer >= 0.\n",
    "\n",
    "    If the result is small enough to fit in an int, return an int.\n",
    "    Else return a long.\n",
    "\n",
    "    >>> [factorial(n) for n in range(6)]\n",
    "    [1, 1, 2, 6, 24, 120]\n",
    "    >>> [factorial(int(n)) for n in range(6)]\n",
    "    [1, 1, 2, 6, 24, 120]\n",
    "    >>> factorial(29)\n",
    "    265252859812191058636308480000000\n",
    "    >>> factorial(30)\n",
    "    265252859812191058636308480000000\n",
    "    >>> factorial(-1)\n",
    "    Traceback (most recent call last):\n",
    "        ...\n",
    "    ValueError: n must be >= 0\n",
    "\n",
    "    Factorials of floats are OK, but the float must be an exact integer:\n",
    "    >>> factorial(30.1)\n",
    "    Traceback (most recent call last):\n",
    "        ...\n",
    "    ValueError: n must be exact integer\n",
    "    >>> factorial(30.0)\n",
    "    265252859812191058636308480000000\n",
    "\n",
    "    It must also not be ridiculously large:\n",
    "    >>> factorial(1e100)\n",
    "    Traceback (most recent call last):\n",
    "        ...\n",
    "    OverflowError: n too large\n",
    "    \"\"\"\n",
    "\n",
    "    import math\n",
    "    if not n >= 0:\n",
    "        raise ValueError(\"n must be >= 0\")\n",
    "    if math.floor(n) != n:\n",
    "        raise ValueError(\"n must be exact integer\")\n",
    "    if n+1 == n:  # catch a value like 1e300\n",
    "        raise OverflowError(\"n too large\")\n",
    "    result = 1\n",
    "    factor = 2\n",
    "    while factor <= n:\n",
    "        result *= factor\n",
    "        factor += 1\n",
    "    return result\n",
    "\n",
    "\n",
    "if __name__ == \"__main__\":\n",
    "    import doctest\n",
    "    doctest.testmod()"
   ]
  },
  {
   "cell_type": "code",
   "execution_count": 65,
   "metadata": {
    "collapsed": false
   },
   "outputs": [
    {
     "name": "stdout",
     "output_type": "stream",
     "text": [
      "**********************************************************************\n",
      "File \"doctstex.py\", line 21, in __main__.factorial\n",
      "Failed example:\n",
      "    factorial(29)\n",
      "Expected:\n",
      "    265252859812191058636308480000000\n",
      "Got:\n",
      "    8841761993739701954543616000000\n",
      "**********************************************************************\n",
      "1 items had failures:\n",
      "   1 of   8 in __main__.factorial\n",
      "***Test Failed*** 1 failures.\n"
     ]
    }
   ],
   "source": [
    "%%bash\n",
    "\n",
    "python doctstex.py"
   ]
  },
  {
   "cell_type": "code",
   "execution_count": 66,
   "metadata": {
    "collapsed": false
   },
   "outputs": [
    {
     "name": "stdout",
     "output_type": "stream",
     "text": [
      "Trying:\n",
      "    factorial(5)\n",
      "Expecting:\n",
      "    120\n",
      "ok\n",
      "Trying:\n",
      "    [factorial(n) for n in range(6)]\n",
      "Expecting:\n",
      "    [1, 1, 2, 6, 24, 120]\n",
      "ok\n",
      "Trying:\n",
      "    [factorial(int(n)) for n in range(6)]\n",
      "Expecting:\n",
      "    [1, 1, 2, 6, 24, 120]\n",
      "ok\n",
      "Trying:\n",
      "    factorial(29)\n",
      "Expecting:\n",
      "    265252859812191058636308480000000\n",
      "**********************************************************************\n",
      "File \"doctstex.py\", line 21, in __main__.factorial\n",
      "Failed example:\n",
      "    factorial(29)\n",
      "Expected:\n",
      "    265252859812191058636308480000000\n",
      "Got:\n",
      "    8841761993739701954543616000000\n",
      "Trying:\n",
      "    factorial(30)\n",
      "Expecting:\n",
      "    265252859812191058636308480000000\n",
      "ok\n",
      "Trying:\n",
      "    factorial(-1)\n",
      "Expecting:\n",
      "    Traceback (most recent call last):\n",
      "        ...\n",
      "    ValueError: n must be >= 0\n",
      "ok\n",
      "Trying:\n",
      "    factorial(30.1)\n",
      "Expecting:\n",
      "    Traceback (most recent call last):\n",
      "        ...\n",
      "    ValueError: n must be exact integer\n",
      "ok\n",
      "Trying:\n",
      "    factorial(30.0)\n",
      "Expecting:\n",
      "    265252859812191058636308480000000\n",
      "ok\n",
      "Trying:\n",
      "    factorial(1e100)\n",
      "Expecting:\n",
      "    Traceback (most recent call last):\n",
      "        ...\n",
      "    OverflowError: n too large\n",
      "ok\n",
      "1 items passed all tests:\n",
      "   1 tests in __main__\n",
      "**********************************************************************\n",
      "1 items had failures:\n",
      "   1 of   8 in __main__.factorial\n",
      "9 tests in 2 items.\n",
      "8 passed and 1 failed.\n",
      "***Test Failed*** 1 failures.\n"
     ]
    }
   ],
   "source": [
    "%%bash\n",
    "\n",
    "python doctstex.py -v"
   ]
  },
  {
   "cell_type": "code",
   "execution_count": null,
   "metadata": {
    "collapsed": true
   },
   "outputs": [],
   "source": []
  }
 ],
 "metadata": {
  "kernelspec": {
   "display_name": "Python 3",
   "language": "python",
   "name": "python3"
  },
  "language_info": {
   "codemirror_mode": {
    "name": "ipython",
    "version": 3
   },
   "file_extension": ".py",
   "mimetype": "text/x-python",
   "name": "python",
   "nbconvert_exporter": "python",
   "pygments_lexer": "ipython3",
   "version": "3.6.0"
  }
 },
 "nbformat": 4,
 "nbformat_minor": 0
}
