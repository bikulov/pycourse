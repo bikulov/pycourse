{
 "cells": [
  {
   "cell_type": "markdown",
   "metadata": {},
   "source": [
    "# Программа курса\n",
    "\n",
    "1. Общие сведения о Python. Настройка рабочего окружения. Jupyter Notebook. Документация и ссылки.\n",
    "2. Базовые типы данных. Определение переменных. Строки, списки, кортежи, словари, наборы.\n",
    "3. Циклы. Операции ввода-вывода. Функции, классы.\n",
    "4. Модули. Пакеты модулей. Регулярные выражения. Визуализация данных. Модули matplotlib и seaborn.\n",
    "5. Параллельные вычисления. Модули threading, multiprocessing, subprocess.\n",
    "6. Модули numpy, scipy и pandas.\n",
    "7. Символьные вычисления. Модуль sympy.\n",
    "8. Машинное обучение. Модуль scikit_learn\n",
    "9. Совместное использование с C++. Создание веб-приложений.\n",
    "10. Стиль кодирования, юнит-тестирование."
   ]
  },
  {
   "cell_type": "markdown",
   "metadata": {},
   "source": [
    "# Семинар 1"
   ]
  },
  {
   "cell_type": "markdown",
   "metadata": {},
   "source": [
    "## Общие сведения о Python"
   ]
  },
  {
   "cell_type": "markdown",
   "metadata": {
    "collapsed": true
   },
   "source": [
    "Python — высокоуровневый язык общего назначения с открытым исходным кодом. Существует несколько основных реализаций:\n",
    "* CPython\n",
    "* IronPython\n",
    "* Jython\n",
    "* PyPy\n",
    "\n",
    "Основные характеристики:\n",
    "* динамическая типизация\n",
    "* объектная ориентация\n",
    "* автоматическое управление памятью\n",
    "* развитые встроенная и сторонние библиотеки\n",
    "* модульность\n",
    "* переносимость\n",
    "* высокая скорость разработки\n",
    "\n",
    "Запуск программы состоит из двух шагов:\n",
    "* компиляция в байт-код\n",
    "* выполнение байт-кода на виртуальной машине PVM (Python Virtual Machine)"
   ]
  },
  {
   "cell_type": "markdown",
   "metadata": {
    "collapsed": true
   },
   "source": [
    "## Настройка рабочего окружения"
   ]
  },
  {
   "cell_type": "markdown",
   "metadata": {},
   "source": [
    "Пакет Python и основных модулей Anaconda (под все наиболее популярные платформы): https://www.continuum.io/downloads\n",
    "\n",
    "PyCharm: https://www.jetbrains.com/pycharm/download/"
   ]
  },
  {
   "cell_type": "markdown",
   "metadata": {},
   "source": [
    "## Jupyter Notebook\n",
    "\n",
    "Домашняя страница: http://jupyter.org/\n",
    "\n",
    "Веб-приложение с широкими возможностями обработки, визуализации и представления данных."
   ]
  },
  {
   "cell_type": "code",
   "execution_count": 1,
   "metadata": {
    "collapsed": false
   },
   "outputs": [
    {
     "data": {
      "text/html": [
       "<table>\n",
       "    <tr>\n",
       "        <th>Заголовок</th>\n",
       "        <th>Значение</th>\n",
       "    </tr>\n",
       "    <tr>\n",
       "        <td>ячейка (0, 0)</td>\n",
       "        <td>ячейка (0, 1)</td>\n",
       "    </tr>\n",
       "    <tr>\n",
       "        <td>ячейка (1, 0)</td>\n",
       "        <td>ячейка (1, 1)</td>\n",
       "    </tr>\n",
       "</table>"
      ],
      "text/plain": [
       "<IPython.core.display.HTML object>"
      ]
     },
     "metadata": {},
     "output_type": "display_data"
    }
   ],
   "source": [
    "from IPython import display\n",
    "s = \"\"\"<table>\n",
    "    <tr>\n",
    "        <th>Заголовок</th>\n",
    "        <th>Значение</th>\n",
    "    </tr>\n",
    "    <tr>\n",
    "        <td>ячейка (0, 0)</td>\n",
    "        <td>ячейка (0, 1)</td>\n",
    "    </tr>\n",
    "    <tr>\n",
    "        <td>ячейка (1, 0)</td>\n",
    "        <td>ячейка (1, 1)</td>\n",
    "    </tr>\n",
    "</table>\"\"\"\n",
    "h = display.HTML(s)\n",
    "display.display(h)"
   ]
  },
  {
   "cell_type": "code",
   "execution_count": 2,
   "metadata": {
    "collapsed": false
   },
   "outputs": [
    {
     "data": {
      "text/latex": [
       "$$F(k) = \\int_{-\\infty}^{\\infty} f(x) e^{2\\pi i k} dx$$"
      ],
      "text/plain": [
       "<IPython.core.display.Math object>"
      ]
     },
     "execution_count": 2,
     "metadata": {},
     "output_type": "execute_result"
    }
   ],
   "source": [
    "from IPython.display import Math\n",
    "\n",
    "Math(r'F(k) = \\int_{-\\infty}^{\\infty} f(x) e^{2\\pi i k} dx')"
   ]
  },
  {
   "cell_type": "markdown",
   "metadata": {},
   "source": [
    "Позволяет запускать сторонний код, например, на bash:"
   ]
  },
  {
   "cell_type": "code",
   "execution_count": 3,
   "metadata": {
    "collapsed": false
   },
   "outputs": [
    {
     "name": "stdout",
     "output_type": "stream",
     "text": [
      "hi, stdout\n",
      "    Февраль 2017      \n",
      "Вс Пн Вт Ср Чт Пт Сб  \n",
      "          1  2  3  4  \n",
      " 5  6  7  8  9 _\b1_\b0 11  \n",
      "12 13 14 15 16 17 18  \n",
      "19 20 21 22 23 24 25  \n",
      "26 27 28              \n",
      "                      \n"
     ]
    },
    {
     "name": "stderr",
     "output_type": "stream",
     "text": [
      "hello, stderr\n"
     ]
    }
   ],
   "source": [
    "%%bash\n",
    "echo \"hi, stdout\"\n",
    "echo \"hello, stderr\" >&2\n",
    "cal"
   ]
  },
  {
   "cell_type": "markdown",
   "metadata": {},
   "source": [
    "И записывать содержимое ячеек в файлы:"
   ]
  },
  {
   "cell_type": "code",
   "execution_count": 4,
   "metadata": {
    "collapsed": false
   },
   "outputs": [
    {
     "name": "stdout",
     "output_type": "stream",
     "text": [
      "Overwriting simple_script.py\n"
     ]
    }
   ],
   "source": [
    "%%writefile simple_script.py\n",
    "print('Hello world')"
   ]
  },
  {
   "cell_type": "markdown",
   "metadata": {},
   "source": [
    "Которые потом можно запустить:"
   ]
  },
  {
   "cell_type": "code",
   "execution_count": 5,
   "metadata": {
    "collapsed": false
   },
   "outputs": [
    {
     "name": "stdout",
     "output_type": "stream",
     "text": [
      "simple_script.py\n",
      "Hello world\n"
     ]
    }
   ],
   "source": [
    "%ls simple_script.py\n",
    "%run simple_script"
   ]
  },
  {
   "cell_type": "markdown",
   "metadata": {},
   "source": [
    "Запускать код на Python:"
   ]
  },
  {
   "cell_type": "code",
   "execution_count": 6,
   "metadata": {
    "collapsed": false
   },
   "outputs": [
    {
     "name": "stdout",
     "output_type": "stream",
     "text": [
      "30\n"
     ]
    }
   ],
   "source": [
    "a = 10\n",
    "b = 20\n",
    "print(a + b)"
   ]
  },
  {
   "cell_type": "code",
   "execution_count": 1,
   "metadata": {
    "collapsed": false
   },
   "outputs": [
    {
     "data": {
      "application/javascript": [
       "/* Put everything inside the global mpl namespace */\n",
       "window.mpl = {};\n",
       "\n",
       "\n",
       "mpl.get_websocket_type = function() {\n",
       "    if (typeof(WebSocket) !== 'undefined') {\n",
       "        return WebSocket;\n",
       "    } else if (typeof(MozWebSocket) !== 'undefined') {\n",
       "        return MozWebSocket;\n",
       "    } else {\n",
       "        alert('Your browser does not have WebSocket support.' +\n",
       "              'Please try Chrome, Safari or Firefox ≥ 6. ' +\n",
       "              'Firefox 4 and 5 are also supported but you ' +\n",
       "              'have to enable WebSockets in about:config.');\n",
       "    };\n",
       "}\n",
       "\n",
       "mpl.figure = function(figure_id, websocket, ondownload, parent_element) {\n",
       "    this.id = figure_id;\n",
       "\n",
       "    this.ws = websocket;\n",
       "\n",
       "    this.supports_binary = (this.ws.binaryType != undefined);\n",
       "\n",
       "    if (!this.supports_binary) {\n",
       "        var warnings = document.getElementById(\"mpl-warnings\");\n",
       "        if (warnings) {\n",
       "            warnings.style.display = 'block';\n",
       "            warnings.textContent = (\n",
       "                \"This browser does not support binary websocket messages. \" +\n",
       "                    \"Performance may be slow.\");\n",
       "        }\n",
       "    }\n",
       "\n",
       "    this.imageObj = new Image();\n",
       "\n",
       "    this.context = undefined;\n",
       "    this.message = undefined;\n",
       "    this.canvas = undefined;\n",
       "    this.rubberband_canvas = undefined;\n",
       "    this.rubberband_context = undefined;\n",
       "    this.format_dropdown = undefined;\n",
       "\n",
       "    this.image_mode = 'full';\n",
       "\n",
       "    this.root = $('<div/>');\n",
       "    this._root_extra_style(this.root)\n",
       "    this.root.attr('style', 'display: inline-block');\n",
       "\n",
       "    $(parent_element).append(this.root);\n",
       "\n",
       "    this._init_header(this);\n",
       "    this._init_canvas(this);\n",
       "    this._init_toolbar(this);\n",
       "\n",
       "    var fig = this;\n",
       "\n",
       "    this.waiting = false;\n",
       "\n",
       "    this.ws.onopen =  function () {\n",
       "            fig.send_message(\"supports_binary\", {value: fig.supports_binary});\n",
       "            fig.send_message(\"send_image_mode\", {});\n",
       "            if (mpl.ratio != 1) {\n",
       "                fig.send_message(\"set_dpi_ratio\", {'dpi_ratio': mpl.ratio});\n",
       "            }\n",
       "            fig.send_message(\"refresh\", {});\n",
       "        }\n",
       "\n",
       "    this.imageObj.onload = function() {\n",
       "            if (fig.image_mode == 'full') {\n",
       "                // Full images could contain transparency (where diff images\n",
       "                // almost always do), so we need to clear the canvas so that\n",
       "                // there is no ghosting.\n",
       "                fig.context.clearRect(0, 0, fig.canvas.width, fig.canvas.height);\n",
       "            }\n",
       "            fig.context.drawImage(fig.imageObj, 0, 0);\n",
       "        };\n",
       "\n",
       "    this.imageObj.onunload = function() {\n",
       "        this.ws.close();\n",
       "    }\n",
       "\n",
       "    this.ws.onmessage = this._make_on_message_function(this);\n",
       "\n",
       "    this.ondownload = ondownload;\n",
       "}\n",
       "\n",
       "mpl.figure.prototype._init_header = function() {\n",
       "    var titlebar = $(\n",
       "        '<div class=\"ui-dialog-titlebar ui-widget-header ui-corner-all ' +\n",
       "        'ui-helper-clearfix\"/>');\n",
       "    var titletext = $(\n",
       "        '<div class=\"ui-dialog-title\" style=\"width: 100%; ' +\n",
       "        'text-align: center; padding: 3px;\"/>');\n",
       "    titlebar.append(titletext)\n",
       "    this.root.append(titlebar);\n",
       "    this.header = titletext[0];\n",
       "}\n",
       "\n",
       "\n",
       "\n",
       "mpl.figure.prototype._canvas_extra_style = function(canvas_div) {\n",
       "\n",
       "}\n",
       "\n",
       "\n",
       "mpl.figure.prototype._root_extra_style = function(canvas_div) {\n",
       "\n",
       "}\n",
       "\n",
       "mpl.figure.prototype._init_canvas = function() {\n",
       "    var fig = this;\n",
       "\n",
       "    var canvas_div = $('<div/>');\n",
       "\n",
       "    canvas_div.attr('style', 'position: relative; clear: both; outline: 0');\n",
       "\n",
       "    function canvas_keyboard_event(event) {\n",
       "        return fig.key_event(event, event['data']);\n",
       "    }\n",
       "\n",
       "    canvas_div.keydown('key_press', canvas_keyboard_event);\n",
       "    canvas_div.keyup('key_release', canvas_keyboard_event);\n",
       "    this.canvas_div = canvas_div\n",
       "    this._canvas_extra_style(canvas_div)\n",
       "    this.root.append(canvas_div);\n",
       "\n",
       "    var canvas = $('<canvas/>');\n",
       "    canvas.addClass('mpl-canvas');\n",
       "    canvas.attr('style', \"left: 0; top: 0; z-index: 0; outline: 0\")\n",
       "\n",
       "    this.canvas = canvas[0];\n",
       "    this.context = canvas[0].getContext(\"2d\");\n",
       "\n",
       "    var backingStore = this.context.backingStorePixelRatio ||\n",
       "\tthis.context.webkitBackingStorePixelRatio ||\n",
       "\tthis.context.mozBackingStorePixelRatio ||\n",
       "\tthis.context.msBackingStorePixelRatio ||\n",
       "\tthis.context.oBackingStorePixelRatio ||\n",
       "\tthis.context.backingStorePixelRatio || 1;\n",
       "\n",
       "    mpl.ratio = (window.devicePixelRatio || 1) / backingStore;\n",
       "\n",
       "    var rubberband = $('<canvas/>');\n",
       "    rubberband.attr('style', \"position: absolute; left: 0; top: 0; z-index: 1;\")\n",
       "\n",
       "    var pass_mouse_events = true;\n",
       "\n",
       "    canvas_div.resizable({\n",
       "        start: function(event, ui) {\n",
       "            pass_mouse_events = false;\n",
       "        },\n",
       "        resize: function(event, ui) {\n",
       "            fig.request_resize(ui.size.width, ui.size.height);\n",
       "        },\n",
       "        stop: function(event, ui) {\n",
       "            pass_mouse_events = true;\n",
       "            fig.request_resize(ui.size.width, ui.size.height);\n",
       "        },\n",
       "    });\n",
       "\n",
       "    function mouse_event_fn(event) {\n",
       "        if (pass_mouse_events)\n",
       "            return fig.mouse_event(event, event['data']);\n",
       "    }\n",
       "\n",
       "    rubberband.mousedown('button_press', mouse_event_fn);\n",
       "    rubberband.mouseup('button_release', mouse_event_fn);\n",
       "    // Throttle sequential mouse events to 1 every 20ms.\n",
       "    rubberband.mousemove('motion_notify', mouse_event_fn);\n",
       "\n",
       "    rubberband.mouseenter('figure_enter', mouse_event_fn);\n",
       "    rubberband.mouseleave('figure_leave', mouse_event_fn);\n",
       "\n",
       "    canvas_div.on(\"wheel\", function (event) {\n",
       "        event = event.originalEvent;\n",
       "        event['data'] = 'scroll'\n",
       "        if (event.deltaY < 0) {\n",
       "            event.step = 1;\n",
       "        } else {\n",
       "            event.step = -1;\n",
       "        }\n",
       "        mouse_event_fn(event);\n",
       "    });\n",
       "\n",
       "    canvas_div.append(canvas);\n",
       "    canvas_div.append(rubberband);\n",
       "\n",
       "    this.rubberband = rubberband;\n",
       "    this.rubberband_canvas = rubberband[0];\n",
       "    this.rubberband_context = rubberband[0].getContext(\"2d\");\n",
       "    this.rubberband_context.strokeStyle = \"#000000\";\n",
       "\n",
       "    this._resize_canvas = function(width, height) {\n",
       "        // Keep the size of the canvas, canvas container, and rubber band\n",
       "        // canvas in synch.\n",
       "        canvas_div.css('width', width)\n",
       "        canvas_div.css('height', height)\n",
       "\n",
       "        canvas.attr('width', width * mpl.ratio);\n",
       "        canvas.attr('height', height * mpl.ratio);\n",
       "        canvas.attr('style', 'width: ' + width + 'px; height: ' + height + 'px;');\n",
       "\n",
       "        rubberband.attr('width', width);\n",
       "        rubberband.attr('height', height);\n",
       "    }\n",
       "\n",
       "    // Set the figure to an initial 600x600px, this will subsequently be updated\n",
       "    // upon first draw.\n",
       "    this._resize_canvas(600, 600);\n",
       "\n",
       "    // Disable right mouse context menu.\n",
       "    $(this.rubberband_canvas).bind(\"contextmenu\",function(e){\n",
       "        return false;\n",
       "    });\n",
       "\n",
       "    function set_focus () {\n",
       "        canvas.focus();\n",
       "        canvas_div.focus();\n",
       "    }\n",
       "\n",
       "    window.setTimeout(set_focus, 100);\n",
       "}\n",
       "\n",
       "mpl.figure.prototype._init_toolbar = function() {\n",
       "    var fig = this;\n",
       "\n",
       "    var nav_element = $('<div/>')\n",
       "    nav_element.attr('style', 'width: 100%');\n",
       "    this.root.append(nav_element);\n",
       "\n",
       "    // Define a callback function for later on.\n",
       "    function toolbar_event(event) {\n",
       "        return fig.toolbar_button_onclick(event['data']);\n",
       "    }\n",
       "    function toolbar_mouse_event(event) {\n",
       "        return fig.toolbar_button_onmouseover(event['data']);\n",
       "    }\n",
       "\n",
       "    for(var toolbar_ind in mpl.toolbar_items) {\n",
       "        var name = mpl.toolbar_items[toolbar_ind][0];\n",
       "        var tooltip = mpl.toolbar_items[toolbar_ind][1];\n",
       "        var image = mpl.toolbar_items[toolbar_ind][2];\n",
       "        var method_name = mpl.toolbar_items[toolbar_ind][3];\n",
       "\n",
       "        if (!name) {\n",
       "            // put a spacer in here.\n",
       "            continue;\n",
       "        }\n",
       "        var button = $('<button/>');\n",
       "        button.addClass('ui-button ui-widget ui-state-default ui-corner-all ' +\n",
       "                        'ui-button-icon-only');\n",
       "        button.attr('role', 'button');\n",
       "        button.attr('aria-disabled', 'false');\n",
       "        button.click(method_name, toolbar_event);\n",
       "        button.mouseover(tooltip, toolbar_mouse_event);\n",
       "\n",
       "        var icon_img = $('<span/>');\n",
       "        icon_img.addClass('ui-button-icon-primary ui-icon');\n",
       "        icon_img.addClass(image);\n",
       "        icon_img.addClass('ui-corner-all');\n",
       "\n",
       "        var tooltip_span = $('<span/>');\n",
       "        tooltip_span.addClass('ui-button-text');\n",
       "        tooltip_span.html(tooltip);\n",
       "\n",
       "        button.append(icon_img);\n",
       "        button.append(tooltip_span);\n",
       "\n",
       "        nav_element.append(button);\n",
       "    }\n",
       "\n",
       "    var fmt_picker_span = $('<span/>');\n",
       "\n",
       "    var fmt_picker = $('<select/>');\n",
       "    fmt_picker.addClass('mpl-toolbar-option ui-widget ui-widget-content');\n",
       "    fmt_picker_span.append(fmt_picker);\n",
       "    nav_element.append(fmt_picker_span);\n",
       "    this.format_dropdown = fmt_picker[0];\n",
       "\n",
       "    for (var ind in mpl.extensions) {\n",
       "        var fmt = mpl.extensions[ind];\n",
       "        var option = $(\n",
       "            '<option/>', {selected: fmt === mpl.default_extension}).html(fmt);\n",
       "        fmt_picker.append(option)\n",
       "    }\n",
       "\n",
       "    // Add hover states to the ui-buttons\n",
       "    $( \".ui-button\" ).hover(\n",
       "        function() { $(this).addClass(\"ui-state-hover\");},\n",
       "        function() { $(this).removeClass(\"ui-state-hover\");}\n",
       "    );\n",
       "\n",
       "    var status_bar = $('<span class=\"mpl-message\"/>');\n",
       "    nav_element.append(status_bar);\n",
       "    this.message = status_bar[0];\n",
       "}\n",
       "\n",
       "mpl.figure.prototype.request_resize = function(x_pixels, y_pixels) {\n",
       "    // Request matplotlib to resize the figure. Matplotlib will then trigger a resize in the client,\n",
       "    // which will in turn request a refresh of the image.\n",
       "    this.send_message('resize', {'width': x_pixels, 'height': y_pixels});\n",
       "}\n",
       "\n",
       "mpl.figure.prototype.send_message = function(type, properties) {\n",
       "    properties['type'] = type;\n",
       "    properties['figure_id'] = this.id;\n",
       "    this.ws.send(JSON.stringify(properties));\n",
       "}\n",
       "\n",
       "mpl.figure.prototype.send_draw_message = function() {\n",
       "    if (!this.waiting) {\n",
       "        this.waiting = true;\n",
       "        this.ws.send(JSON.stringify({type: \"draw\", figure_id: this.id}));\n",
       "    }\n",
       "}\n",
       "\n",
       "\n",
       "mpl.figure.prototype.handle_save = function(fig, msg) {\n",
       "    var format_dropdown = fig.format_dropdown;\n",
       "    var format = format_dropdown.options[format_dropdown.selectedIndex].value;\n",
       "    fig.ondownload(fig, format);\n",
       "}\n",
       "\n",
       "\n",
       "mpl.figure.prototype.handle_resize = function(fig, msg) {\n",
       "    var size = msg['size'];\n",
       "    if (size[0] != fig.canvas.width || size[1] != fig.canvas.height) {\n",
       "        fig._resize_canvas(size[0], size[1]);\n",
       "        fig.send_message(\"refresh\", {});\n",
       "    };\n",
       "}\n",
       "\n",
       "mpl.figure.prototype.handle_rubberband = function(fig, msg) {\n",
       "    var x0 = msg['x0'] / mpl.ratio;\n",
       "    var y0 = (fig.canvas.height - msg['y0']) / mpl.ratio;\n",
       "    var x1 = msg['x1'] / mpl.ratio;\n",
       "    var y1 = (fig.canvas.height - msg['y1']) / mpl.ratio;\n",
       "    x0 = Math.floor(x0) + 0.5;\n",
       "    y0 = Math.floor(y0) + 0.5;\n",
       "    x1 = Math.floor(x1) + 0.5;\n",
       "    y1 = Math.floor(y1) + 0.5;\n",
       "    var min_x = Math.min(x0, x1);\n",
       "    var min_y = Math.min(y0, y1);\n",
       "    var width = Math.abs(x1 - x0);\n",
       "    var height = Math.abs(y1 - y0);\n",
       "\n",
       "    fig.rubberband_context.clearRect(\n",
       "        0, 0, fig.canvas.width, fig.canvas.height);\n",
       "\n",
       "    fig.rubberband_context.strokeRect(min_x, min_y, width, height);\n",
       "}\n",
       "\n",
       "mpl.figure.prototype.handle_figure_label = function(fig, msg) {\n",
       "    // Updates the figure title.\n",
       "    fig.header.textContent = msg['label'];\n",
       "}\n",
       "\n",
       "mpl.figure.prototype.handle_cursor = function(fig, msg) {\n",
       "    var cursor = msg['cursor'];\n",
       "    switch(cursor)\n",
       "    {\n",
       "    case 0:\n",
       "        cursor = 'pointer';\n",
       "        break;\n",
       "    case 1:\n",
       "        cursor = 'default';\n",
       "        break;\n",
       "    case 2:\n",
       "        cursor = 'crosshair';\n",
       "        break;\n",
       "    case 3:\n",
       "        cursor = 'move';\n",
       "        break;\n",
       "    }\n",
       "    fig.rubberband_canvas.style.cursor = cursor;\n",
       "}\n",
       "\n",
       "mpl.figure.prototype.handle_message = function(fig, msg) {\n",
       "    fig.message.textContent = msg['message'];\n",
       "}\n",
       "\n",
       "mpl.figure.prototype.handle_draw = function(fig, msg) {\n",
       "    // Request the server to send over a new figure.\n",
       "    fig.send_draw_message();\n",
       "}\n",
       "\n",
       "mpl.figure.prototype.handle_image_mode = function(fig, msg) {\n",
       "    fig.image_mode = msg['mode'];\n",
       "}\n",
       "\n",
       "mpl.figure.prototype.updated_canvas_event = function() {\n",
       "    // Called whenever the canvas gets updated.\n",
       "    this.send_message(\"ack\", {});\n",
       "}\n",
       "\n",
       "// A function to construct a web socket function for onmessage handling.\n",
       "// Called in the figure constructor.\n",
       "mpl.figure.prototype._make_on_message_function = function(fig) {\n",
       "    return function socket_on_message(evt) {\n",
       "        if (evt.data instanceof Blob) {\n",
       "            /* FIXME: We get \"Resource interpreted as Image but\n",
       "             * transferred with MIME type text/plain:\" errors on\n",
       "             * Chrome.  But how to set the MIME type?  It doesn't seem\n",
       "             * to be part of the websocket stream */\n",
       "            evt.data.type = \"image/png\";\n",
       "\n",
       "            /* Free the memory for the previous frames */\n",
       "            if (fig.imageObj.src) {\n",
       "                (window.URL || window.webkitURL).revokeObjectURL(\n",
       "                    fig.imageObj.src);\n",
       "            }\n",
       "\n",
       "            fig.imageObj.src = (window.URL || window.webkitURL).createObjectURL(\n",
       "                evt.data);\n",
       "            fig.updated_canvas_event();\n",
       "            fig.waiting = false;\n",
       "            return;\n",
       "        }\n",
       "        else if (typeof evt.data === 'string' && evt.data.slice(0, 21) == \"data:image/png;base64\") {\n",
       "            fig.imageObj.src = evt.data;\n",
       "            fig.updated_canvas_event();\n",
       "            fig.waiting = false;\n",
       "            return;\n",
       "        }\n",
       "\n",
       "        var msg = JSON.parse(evt.data);\n",
       "        var msg_type = msg['type'];\n",
       "\n",
       "        // Call the  \"handle_{type}\" callback, which takes\n",
       "        // the figure and JSON message as its only arguments.\n",
       "        try {\n",
       "            var callback = fig[\"handle_\" + msg_type];\n",
       "        } catch (e) {\n",
       "            console.log(\"No handler for the '\" + msg_type + \"' message type: \", msg);\n",
       "            return;\n",
       "        }\n",
       "\n",
       "        if (callback) {\n",
       "            try {\n",
       "                // console.log(\"Handling '\" + msg_type + \"' message: \", msg);\n",
       "                callback(fig, msg);\n",
       "            } catch (e) {\n",
       "                console.log(\"Exception inside the 'handler_\" + msg_type + \"' callback:\", e, e.stack, msg);\n",
       "            }\n",
       "        }\n",
       "    };\n",
       "}\n",
       "\n",
       "// from http://stackoverflow.com/questions/1114465/getting-mouse-location-in-canvas\n",
       "mpl.findpos = function(e) {\n",
       "    //this section is from http://www.quirksmode.org/js/events_properties.html\n",
       "    var targ;\n",
       "    if (!e)\n",
       "        e = window.event;\n",
       "    if (e.target)\n",
       "        targ = e.target;\n",
       "    else if (e.srcElement)\n",
       "        targ = e.srcElement;\n",
       "    if (targ.nodeType == 3) // defeat Safari bug\n",
       "        targ = targ.parentNode;\n",
       "\n",
       "    // jQuery normalizes the pageX and pageY\n",
       "    // pageX,Y are the mouse positions relative to the document\n",
       "    // offset() returns the position of the element relative to the document\n",
       "    var x = e.pageX - $(targ).offset().left;\n",
       "    var y = e.pageY - $(targ).offset().top;\n",
       "\n",
       "    return {\"x\": x, \"y\": y};\n",
       "};\n",
       "\n",
       "/*\n",
       " * return a copy of an object with only non-object keys\n",
       " * we need this to avoid circular references\n",
       " * http://stackoverflow.com/a/24161582/3208463\n",
       " */\n",
       "function simpleKeys (original) {\n",
       "  return Object.keys(original).reduce(function (obj, key) {\n",
       "    if (typeof original[key] !== 'object')\n",
       "        obj[key] = original[key]\n",
       "    return obj;\n",
       "  }, {});\n",
       "}\n",
       "\n",
       "mpl.figure.prototype.mouse_event = function(event, name) {\n",
       "    var canvas_pos = mpl.findpos(event)\n",
       "\n",
       "    if (name === 'button_press')\n",
       "    {\n",
       "        this.canvas.focus();\n",
       "        this.canvas_div.focus();\n",
       "    }\n",
       "\n",
       "    var x = canvas_pos.x * mpl.ratio;\n",
       "    var y = canvas_pos.y * mpl.ratio;\n",
       "\n",
       "    this.send_message(name, {x: x, y: y, button: event.button,\n",
       "                             step: event.step,\n",
       "                             guiEvent: simpleKeys(event)});\n",
       "\n",
       "    /* This prevents the web browser from automatically changing to\n",
       "     * the text insertion cursor when the button is pressed.  We want\n",
       "     * to control all of the cursor setting manually through the\n",
       "     * 'cursor' event from matplotlib */\n",
       "    event.preventDefault();\n",
       "    return false;\n",
       "}\n",
       "\n",
       "mpl.figure.prototype._key_event_extra = function(event, name) {\n",
       "    // Handle any extra behaviour associated with a key event\n",
       "}\n",
       "\n",
       "mpl.figure.prototype.key_event = function(event, name) {\n",
       "\n",
       "    // Prevent repeat events\n",
       "    if (name == 'key_press')\n",
       "    {\n",
       "        if (event.which === this._key)\n",
       "            return;\n",
       "        else\n",
       "            this._key = event.which;\n",
       "    }\n",
       "    if (name == 'key_release')\n",
       "        this._key = null;\n",
       "\n",
       "    var value = '';\n",
       "    if (event.ctrlKey && event.which != 17)\n",
       "        value += \"ctrl+\";\n",
       "    if (event.altKey && event.which != 18)\n",
       "        value += \"alt+\";\n",
       "    if (event.shiftKey && event.which != 16)\n",
       "        value += \"shift+\";\n",
       "\n",
       "    value += 'k';\n",
       "    value += event.which.toString();\n",
       "\n",
       "    this._key_event_extra(event, name);\n",
       "\n",
       "    this.send_message(name, {key: value,\n",
       "                             guiEvent: simpleKeys(event)});\n",
       "    return false;\n",
       "}\n",
       "\n",
       "mpl.figure.prototype.toolbar_button_onclick = function(name) {\n",
       "    if (name == 'download') {\n",
       "        this.handle_save(this, null);\n",
       "    } else {\n",
       "        this.send_message(\"toolbar_button\", {name: name});\n",
       "    }\n",
       "};\n",
       "\n",
       "mpl.figure.prototype.toolbar_button_onmouseover = function(tooltip) {\n",
       "    this.message.textContent = tooltip;\n",
       "};\n",
       "mpl.toolbar_items = [[\"Home\", \"Reset original view\", \"fa fa-home icon-home\", \"home\"], [\"Back\", \"Back to  previous view\", \"fa fa-arrow-left icon-arrow-left\", \"back\"], [\"Forward\", \"Forward to next view\", \"fa fa-arrow-right icon-arrow-right\", \"forward\"], [\"\", \"\", \"\", \"\"], [\"Pan\", \"Pan axes with left mouse, zoom with right\", \"fa fa-arrows icon-move\", \"pan\"], [\"Zoom\", \"Zoom to rectangle\", \"fa fa-square-o icon-check-empty\", \"zoom\"], [\"\", \"\", \"\", \"\"], [\"Download\", \"Download plot\", \"fa fa-floppy-o icon-save\", \"download\"]];\n",
       "\n",
       "mpl.extensions = [\"eps\", \"jpeg\", \"pdf\", \"png\", \"ps\", \"raw\", \"svg\", \"tif\"];\n",
       "\n",
       "mpl.default_extension = \"png\";var comm_websocket_adapter = function(comm) {\n",
       "    // Create a \"websocket\"-like object which calls the given IPython comm\n",
       "    // object with the appropriate methods. Currently this is a non binary\n",
       "    // socket, so there is still some room for performance tuning.\n",
       "    var ws = {};\n",
       "\n",
       "    ws.close = function() {\n",
       "        comm.close()\n",
       "    };\n",
       "    ws.send = function(m) {\n",
       "        //console.log('sending', m);\n",
       "        comm.send(m);\n",
       "    };\n",
       "    // Register the callback with on_msg.\n",
       "    comm.on_msg(function(msg) {\n",
       "        //console.log('receiving', msg['content']['data'], msg);\n",
       "        // Pass the mpl event to the overriden (by mpl) onmessage function.\n",
       "        ws.onmessage(msg['content']['data'])\n",
       "    });\n",
       "    return ws;\n",
       "}\n",
       "\n",
       "mpl.mpl_figure_comm = function(comm, msg) {\n",
       "    // This is the function which gets called when the mpl process\n",
       "    // starts-up an IPython Comm through the \"matplotlib\" channel.\n",
       "\n",
       "    var id = msg.content.data.id;\n",
       "    // Get hold of the div created by the display call when the Comm\n",
       "    // socket was opened in Python.\n",
       "    var element = $(\"#\" + id);\n",
       "    var ws_proxy = comm_websocket_adapter(comm)\n",
       "\n",
       "    function ondownload(figure, format) {\n",
       "        window.open(figure.imageObj.src);\n",
       "    }\n",
       "\n",
       "    var fig = new mpl.figure(id, ws_proxy,\n",
       "                           ondownload,\n",
       "                           element.get(0));\n",
       "\n",
       "    // Call onopen now - mpl needs it, as it is assuming we've passed it a real\n",
       "    // web socket which is closed, not our websocket->open comm proxy.\n",
       "    ws_proxy.onopen();\n",
       "\n",
       "    fig.parent_element = element.get(0);\n",
       "    fig.cell_info = mpl.find_output_cell(\"<div id='\" + id + \"'></div>\");\n",
       "    if (!fig.cell_info) {\n",
       "        console.error(\"Failed to find cell for figure\", id, fig);\n",
       "        return;\n",
       "    }\n",
       "\n",
       "    var output_index = fig.cell_info[2]\n",
       "    var cell = fig.cell_info[0];\n",
       "\n",
       "};\n",
       "\n",
       "mpl.figure.prototype.handle_close = function(fig, msg) {\n",
       "    var width = fig.canvas.width/mpl.ratio\n",
       "    fig.root.unbind('remove')\n",
       "\n",
       "    // Update the output cell to use the data from the current canvas.\n",
       "    fig.push_to_output();\n",
       "    var dataURL = fig.canvas.toDataURL();\n",
       "    // Re-enable the keyboard manager in IPython - without this line, in FF,\n",
       "    // the notebook keyboard shortcuts fail.\n",
       "    IPython.keyboard_manager.enable()\n",
       "    $(fig.parent_element).html('<img src=\"' + dataURL + '\" width=\"' + width + '\">');\n",
       "    fig.close_ws(fig, msg);\n",
       "}\n",
       "\n",
       "mpl.figure.prototype.close_ws = function(fig, msg){\n",
       "    fig.send_message('closing', msg);\n",
       "    // fig.ws.close()\n",
       "}\n",
       "\n",
       "mpl.figure.prototype.push_to_output = function(remove_interactive) {\n",
       "    // Turn the data on the canvas into data in the output cell.\n",
       "    var width = this.canvas.width/mpl.ratio\n",
       "    var dataURL = this.canvas.toDataURL();\n",
       "    this.cell_info[1]['text/html'] = '<img src=\"' + dataURL + '\" width=\"' + width + '\">';\n",
       "}\n",
       "\n",
       "mpl.figure.prototype.updated_canvas_event = function() {\n",
       "    // Tell IPython that the notebook contents must change.\n",
       "    IPython.notebook.set_dirty(true);\n",
       "    this.send_message(\"ack\", {});\n",
       "    var fig = this;\n",
       "    // Wait a second, then push the new image to the DOM so\n",
       "    // that it is saved nicely (might be nice to debounce this).\n",
       "    setTimeout(function () { fig.push_to_output() }, 1000);\n",
       "}\n",
       "\n",
       "mpl.figure.prototype._init_toolbar = function() {\n",
       "    var fig = this;\n",
       "\n",
       "    var nav_element = $('<div/>')\n",
       "    nav_element.attr('style', 'width: 100%');\n",
       "    this.root.append(nav_element);\n",
       "\n",
       "    // Define a callback function for later on.\n",
       "    function toolbar_event(event) {\n",
       "        return fig.toolbar_button_onclick(event['data']);\n",
       "    }\n",
       "    function toolbar_mouse_event(event) {\n",
       "        return fig.toolbar_button_onmouseover(event['data']);\n",
       "    }\n",
       "\n",
       "    for(var toolbar_ind in mpl.toolbar_items){\n",
       "        var name = mpl.toolbar_items[toolbar_ind][0];\n",
       "        var tooltip = mpl.toolbar_items[toolbar_ind][1];\n",
       "        var image = mpl.toolbar_items[toolbar_ind][2];\n",
       "        var method_name = mpl.toolbar_items[toolbar_ind][3];\n",
       "\n",
       "        if (!name) { continue; };\n",
       "\n",
       "        var button = $('<button class=\"btn btn-default\" href=\"#\" title=\"' + name + '\"><i class=\"fa ' + image + ' fa-lg\"></i></button>');\n",
       "        button.click(method_name, toolbar_event);\n",
       "        button.mouseover(tooltip, toolbar_mouse_event);\n",
       "        nav_element.append(button);\n",
       "    }\n",
       "\n",
       "    // Add the status bar.\n",
       "    var status_bar = $('<span class=\"mpl-message\" style=\"text-align:right; float: right;\"/>');\n",
       "    nav_element.append(status_bar);\n",
       "    this.message = status_bar[0];\n",
       "\n",
       "    // Add the close button to the window.\n",
       "    var buttongrp = $('<div class=\"btn-group inline pull-right\"></div>');\n",
       "    var button = $('<button class=\"btn btn-mini btn-primary\" href=\"#\" title=\"Stop Interaction\"><i class=\"fa fa-power-off icon-remove icon-large\"></i></button>');\n",
       "    button.click(function (evt) { fig.handle_close(fig, {}); } );\n",
       "    button.mouseover('Stop Interaction', toolbar_mouse_event);\n",
       "    buttongrp.append(button);\n",
       "    var titlebar = this.root.find($('.ui-dialog-titlebar'));\n",
       "    titlebar.prepend(buttongrp);\n",
       "}\n",
       "\n",
       "mpl.figure.prototype._root_extra_style = function(el){\n",
       "    var fig = this\n",
       "    el.on(\"remove\", function(){\n",
       "\tfig.close_ws(fig, {});\n",
       "    });\n",
       "}\n",
       "\n",
       "mpl.figure.prototype._canvas_extra_style = function(el){\n",
       "    // this is important to make the div 'focusable\n",
       "    el.attr('tabindex', 0)\n",
       "    // reach out to IPython and tell the keyboard manager to turn it's self\n",
       "    // off when our div gets focus\n",
       "\n",
       "    // location in version 3\n",
       "    if (IPython.notebook.keyboard_manager) {\n",
       "        IPython.notebook.keyboard_manager.register_events(el);\n",
       "    }\n",
       "    else {\n",
       "        // location in version 2\n",
       "        IPython.keyboard_manager.register_events(el);\n",
       "    }\n",
       "\n",
       "}\n",
       "\n",
       "mpl.figure.prototype._key_event_extra = function(event, name) {\n",
       "    var manager = IPython.notebook.keyboard_manager;\n",
       "    if (!manager)\n",
       "        manager = IPython.keyboard_manager;\n",
       "\n",
       "    // Check for shift+enter\n",
       "    if (event.shiftKey && event.which == 13) {\n",
       "        this.canvas_div.blur();\n",
       "        // select the cell after this one\n",
       "        var index = IPython.notebook.find_cell_index(this.cell_info[0]);\n",
       "        IPython.notebook.select(index + 1);\n",
       "    }\n",
       "}\n",
       "\n",
       "mpl.figure.prototype.handle_save = function(fig, msg) {\n",
       "    fig.ondownload(fig, null);\n",
       "}\n",
       "\n",
       "\n",
       "mpl.find_output_cell = function(html_output) {\n",
       "    // Return the cell and output element which can be found *uniquely* in the notebook.\n",
       "    // Note - this is a bit hacky, but it is done because the \"notebook_saving.Notebook\"\n",
       "    // IPython event is triggered only after the cells have been serialised, which for\n",
       "    // our purposes (turning an active figure into a static one), is too late.\n",
       "    var cells = IPython.notebook.get_cells();\n",
       "    var ncells = cells.length;\n",
       "    for (var i=0; i<ncells; i++) {\n",
       "        var cell = cells[i];\n",
       "        if (cell.cell_type === 'code'){\n",
       "            for (var j=0; j<cell.output_area.outputs.length; j++) {\n",
       "                var data = cell.output_area.outputs[j];\n",
       "                if (data.data) {\n",
       "                    // IPython >= 3 moved mimebundle to data attribute of output\n",
       "                    data = data.data;\n",
       "                }\n",
       "                if (data['text/html'] == html_output) {\n",
       "                    return [cell, data, j];\n",
       "                }\n",
       "            }\n",
       "        }\n",
       "    }\n",
       "}\n",
       "\n",
       "// Register the function which deals with the matplotlib target/channel.\n",
       "// The kernel may be null if the page has been refreshed.\n",
       "if (IPython.notebook.kernel != null) {\n",
       "    IPython.notebook.kernel.comm_manager.register_target('matplotlib', mpl.mpl_figure_comm);\n",
       "}\n"
      ],
      "text/plain": [
       "<IPython.core.display.Javascript object>"
      ]
     },
     "metadata": {},
     "output_type": "display_data"
    },
    {
     "data": {
      "text/html": [
       "<img src=\"data:image/png;base64,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\" width=\"800\">"
      ],
      "text/plain": [
       "<IPython.core.display.HTML object>"
      ]
     },
     "metadata": {},
     "output_type": "display_data"
    }
   ],
   "source": [
    "%matplotlib notebook\n",
    "\n",
    "import numpy as np\n",
    "from matplotlib import pyplot as plt\n",
    "import seaborn as sns\n",
    "\n",
    "x = np.linspace(1, 30, 100)\n",
    "y = np.sin(x)\n",
    "_ = plt.plot(x, y)"
   ]
  },
  {
   "cell_type": "markdown",
   "metadata": {},
   "source": [
    "## Примеры Python"
   ]
  },
  {
   "cell_type": "code",
   "execution_count": 8,
   "metadata": {
    "collapsed": false
   },
   "outputs": [
    {
     "name": "stdout",
     "output_type": "stream",
     "text": [
      "18.0\n"
     ]
    }
   ],
   "source": [
    "a = 3.6\n",
    "b = 5\n",
    "c = a * b\n",
    "print(c)"
   ]
  },
  {
   "cell_type": "code",
   "execution_count": 9,
   "metadata": {
    "collapsed": false
   },
   "outputs": [
    {
     "name": "stdout",
     "output_type": "stream",
     "text": [
      "Hello, world!\n"
     ]
    }
   ],
   "source": [
    "x = 'Hello, {name}!'\n",
    "print(x.format(name='world'))"
   ]
  },
  {
   "cell_type": "code",
   "execution_count": 10,
   "metadata": {
    "collapsed": false
   },
   "outputs": [
    {
     "name": "stdout",
     "output_type": "stream",
     "text": [
      "dig dig cat\n"
     ]
    }
   ],
   "source": [
    "new_string = 'dig dig dog'.replace('dog', 'cat')\n",
    "print(new_string)"
   ]
  },
  {
   "cell_type": "code",
   "execution_count": 11,
   "metadata": {
    "collapsed": false
   },
   "outputs": [
    {
     "name": "stdout",
     "output_type": "stream",
     "text": [
      "['http://msu.ru', '12.7', '23.4', '545.3']\n"
     ]
    }
   ],
   "source": [
    "splitted = 'http://msu.ru 12.7 23.4 545.3'.split()\n",
    "print(splitted)"
   ]
  },
  {
   "cell_type": "code",
   "execution_count": 12,
   "metadata": {
    "collapsed": false
   },
   "outputs": [
    {
     "data": {
      "text/plain": [
       "581.4"
      ]
     },
     "execution_count": 12,
     "metadata": {},
     "output_type": "execute_result"
    }
   ],
   "source": [
    "sum(map(float, splitted[1:]))"
   ]
  },
  {
   "cell_type": "code",
   "execution_count": 13,
   "metadata": {
    "collapsed": false
   },
   "outputs": [
    {
     "data": {
      "text/plain": [
       "[-2, -10]"
      ]
     },
     "execution_count": 13,
     "metadata": {},
     "output_type": "execute_result"
    }
   ],
   "source": [
    "arr = [1, 3, -2, 6, 8, -10, 5, 65]\n",
    "arr2 = [x for x in arr if x < 0]\n",
    "arr2"
   ]
  },
  {
   "cell_type": "code",
   "execution_count": 14,
   "metadata": {
    "collapsed": false
   },
   "outputs": [
    {
     "name": "stdout",
     "output_type": "stream",
     "text": [
      "-20\n",
      "-100\n"
     ]
    }
   ],
   "source": [
    "for v in arr2:\n",
    "    v = v * 10\n",
    "    print(v)"
   ]
  },
  {
   "cell_type": "code",
   "execution_count": 15,
   "metadata": {
    "collapsed": false
   },
   "outputs": [
    {
     "data": {
      "text/plain": [
       "array([[ 1.,  0.],\n",
       "       [ 0.,  4.]])"
      ]
     },
     "execution_count": 15,
     "metadata": {},
     "output_type": "execute_result"
    }
   ],
   "source": [
    "import numpy as np\n",
    "\n",
    "x = np.array([[1,2],[3,4]], dtype=np.float64)\n",
    "y = np.array([[1,0],[0,1]], dtype=np.float64)\n",
    "\n",
    "x * y"
   ]
  },
  {
   "cell_type": "code",
   "execution_count": 16,
   "metadata": {
    "collapsed": false
   },
   "outputs": [
    {
     "data": {
      "text/plain": [
       "array([[ 1.,  2.],\n",
       "       [ 3.,  4.]])"
      ]
     },
     "execution_count": 16,
     "metadata": {},
     "output_type": "execute_result"
    }
   ],
   "source": [
    "x.dot(y)"
   ]
  },
  {
   "cell_type": "code",
   "execution_count": 17,
   "metadata": {
    "collapsed": false
   },
   "outputs": [
    {
     "data": {
      "text/latex": [
       "$$\\left(x + 1\\right) \\left(x + y\\right)^{2}$$"
      ],
      "text/plain": [
       "               2\n",
       "(x + 1)⋅(x + y) "
      ]
     },
     "execution_count": 17,
     "metadata": {},
     "output_type": "execute_result"
    }
   ],
   "source": [
    "from sympy import symbols, expand\n",
    "from sympy.interactive import printing\n",
    "printing.init_printing(use_latex='mathjax')\n",
    "\n",
    "x, y = symbols(\"x y\")\n",
    "eq = ((x+y)**2 * (x+1))\n",
    "eq"
   ]
  },
  {
   "cell_type": "code",
   "execution_count": 18,
   "metadata": {
    "collapsed": false
   },
   "outputs": [
    {
     "data": {
      "text/latex": [
       "$$x^{3} + 2 x^{2} y + x^{2} + x y^{2} + 2 x y + y^{2}$$"
      ],
      "text/plain": [
       " 3      2      2      2            2\n",
       "x  + 2⋅x ⋅y + x  + x⋅y  + 2⋅x⋅y + y "
      ]
     },
     "execution_count": 18,
     "metadata": {},
     "output_type": "execute_result"
    }
   ],
   "source": [
    "expand(eq)"
   ]
  },
  {
   "cell_type": "code",
   "execution_count": 19,
   "metadata": {
    "collapsed": false
   },
   "outputs": [
    {
     "data": {
      "text/plain": [
       "'ALLOW_THREADS BUFSIZE CLIP ComplexWarning DataSource ERR_CALL ERR_DEFAULT ERR_IGNORE ERR_LOG ERR_PRINT ERR_RAISE ERR_WARN FLOATING_POINT_SUPPORT FPE_DIVIDEBYZERO FPE_INVALID FPE_OVERFLOW FPE_UNDERFLOW False_ Inf Infinity MAXDIMS MAY_SHARE_BOUNDS MAY_SHARE_EXACT MachAr ModuleDeprecationWarning NAN NINF NZERO NaN PINF PZERO PackageLoader RAISE RankWarning SHIFT_DIVIDEBYZERO SHIFT_INVALID SHIFT_OVERFLOW SHIFT_UNDERFLOW ScalarType Tester TooHardError True_ UFUNC_BUFSIZE_DEFAULT UFUNC_PYVALS_NAME VisibleDeprecationWarning WRAP _NoValue __NUMPY_SETUP__ __all__ __builtins__ __cached__ __config__ __doc__ __file__ __git_revision__ __loader__ __mkl_version__ __name__ __package__ __path__ __spec__ __version__ _globals _import_tools _mat abs absolute absolute_import add add_docstring add_newdoc add_newdoc_ufunc add_newdocs alen all allclose alltrue alterdot amax amin angle any append apply_along_axis apply_over_axes arange arccos arccosh arcsin arcsinh arctan arctan2 arctanh argmax argmin argpartition argsort argwhere around array array2string array_equal array_equiv array_repr array_split array_str asanyarray asarray asarray_chkfinite ascontiguousarray asfarray asfortranarray asmatrix asscalar atleast_1d atleast_2d atleast_3d average bartlett base_repr bench binary_repr bincount bitwise_and bitwise_not bitwise_or bitwise_xor blackman bmat bool bool8 bool_ broadcast broadcast_arrays broadcast_to busday_count busday_offset busdaycalendar byte byte_bounds bytes0 bytes_ c_ can_cast cast cbrt cdouble ceil cfloat char character chararray choose clip clongdouble clongfloat column_stack common_type compare_chararrays compat complex complex128 complex256 complex64 complex_ complexfloating compress concatenate conj conjugate convolve copy copysign copyto core corrcoef correlate cos cosh count_nonzero cov cross csingle ctypeslib cumprod cumproduct cumsum datetime64 datetime_as_string datetime_data deg2rad degrees delete deprecate deprecate_with_doc diag diag_indices diag_indices_from diagflat diagonal diff digitize disp divide division dot double dsplit dstack dtype dual e ediff1d einsum emath empty empty_like equal errstate euler_gamma exp exp2 expand_dims expm1 extract eye fabs fastCopyAndTranspose fft fill_diagonal find_common_type finfo fix flatiter flatnonzero flexible fliplr flipud float float128 float16 float32 float64 float_ floating floor floor_divide fmax fmin fmod format_parser frexp frombuffer fromfile fromfunction fromiter frompyfunc fromregex fromstring full full_like fv generic genfromtxt get_array_wrap get_include get_printoptions getbufsize geterr geterrcall geterrobj gradient greater greater_equal half hamming hanning histogram histogram2d histogramdd hsplit hstack hypot i0 identity iinfo imag in1d index_exp indices inexact inf info infty inner insert int int0 int16 int32 int64 int8 int_ int_asbuffer intc integer interp intersect1d intp invert ipmt irr is_busday isclose iscomplex iscomplexobj isfinite isfortran isinf isnan isneginf isposinf isreal isrealobj isscalar issctype issubclass_ issubdtype issubsctype iterable ix_ kaiser kron ldexp left_shift less less_equal lexsort lib linalg linspace little_endian load loads loadtxt log log10 log1p log2 logaddexp logaddexp2 logical_and logical_not logical_or logical_xor logspace long longcomplex longdouble longfloat longlong lookfor ma mafromtxt mask_indices mat math matlib matmul matrix matrixlib max maximum maximum_sctype may_share_memory mean median memmap meshgrid mgrid min min_scalar_type minimum mintypecode mirr mod modf moveaxis msort multiply nan nan_to_num nanargmax nanargmin nanmax nanmean nanmedian nanmin nanpercentile nanprod nanstd nansum nanvar nbytes ndarray ndenumerate ndfromtxt ndim ndindex nditer negative nested_iters newaxis nextafter nonzero not_equal nper npv numarray number obj2sctype object object0 object_ ogrid oldnumeric ones ones_like outer packbits pad partition percentile pi piecewise pkgload place pmt poly poly1d polyadd polyder polydiv polyfit polyint polymul polynomial polysub polyval power ppmt print_function prod product promote_types ptp put putmask pv r_ rad2deg radians random rank rate ravel ravel_multi_index real real_if_close rec recarray recfromcsv recfromtxt reciprocal record remainder repeat require reshape resize restoredot result_type right_shift rint roll rollaxis roots rot90 round round_ row_stack s_ safe_eval save savetxt savez savez_compressed sctype2char sctypeDict sctypeNA sctypes searchsorted select set_numeric_ops set_printoptions set_string_function setbufsize setdiff1d seterr seterrcall seterrobj setxor1d shape shares_memory short show_config sign signbit signedinteger sin sinc single singlecomplex sinh size sometrue sort sort_complex source spacing split sqrt square squeeze stack std str str0 str_ string_ subtract sum swapaxes take tan tanh tensordot test testing tile timedelta64 trace transpose trapz tri tril tril_indices tril_indices_from trim_zeros triu triu_indices triu_indices_from true_divide trunc typeDict typeNA typecodes typename ubyte ufunc uint uint0 uint16 uint32 uint64 uint8 uintc uintp ulonglong unicode unicode_ union1d unique unpackbits unravel_index unsignedinteger unwrap ushort vander var vdot vectorize version void void0 vsplit vstack warnings where who zeros zeros_like'"
      ]
     },
     "execution_count": 19,
     "metadata": {},
     "output_type": "execute_result"
    }
   ],
   "source": [
    "\" \".join(dir(np))"
   ]
  },
  {
   "cell_type": "code",
   "execution_count": 20,
   "metadata": {
    "collapsed": false
   },
   "outputs": [
    {
     "name": "stdout",
     "output_type": "stream",
     "text": [
      "Help on function sum in module numpy.core.fromnumeric:\n",
      "\n",
      "sum(a, axis=None, dtype=None, out=None, keepdims=<class 'numpy._globals._NoValue'>)\n",
      "    Sum of array elements over a given axis.\n",
      "    \n",
      "    Parameters\n",
      "    ----------\n",
      "    a : array_like\n",
      "        Elements to sum.\n",
      "    axis : None or int or tuple of ints, optional\n",
      "        Axis or axes along which a sum is performed.  The default,\n",
      "        axis=None, will sum all of the elements of the input array.  If\n",
      "        axis is negative it counts from the last to the first axis.\n",
      "    \n",
      "        .. versionadded:: 1.7.0\n",
      "    \n",
      "        If axis is a tuple of ints, a sum is performed on all of the axes\n",
      "        specified in the tuple instead of a single axis or all the axes as\n",
      "        before.\n",
      "    dtype : dtype, optional\n",
      "        The type of the returned array and of the accumulator in which the\n",
      "        elements are summed.  The dtype of `a` is used by default unless `a`\n",
      "        has an integer dtype of less precision than the default platform\n",
      "        integer.  In that case, if `a` is signed then the platform integer\n",
      "        is used while if `a` is unsigned then an unsigned integer of the\n",
      "        same precision as the platform integer is used.\n",
      "    out : ndarray, optional\n",
      "        Alternative output array in which to place the result. It must have\n",
      "        the same shape as the expected output, but the type of the output\n",
      "        values will be cast if necessary.\n",
      "    keepdims : bool, optional\n",
      "        If this is set to True, the axes which are reduced are left\n",
      "        in the result as dimensions with size one. With this option,\n",
      "        the result will broadcast correctly against the original `arr`.\n",
      "    \n",
      "        If the default value is passed, then `keepdims` will not be\n",
      "        passed through to the `sum` method of sub-classes of\n",
      "        `ndarray`, however any non-default value will be.  If the\n",
      "        sub-classes `sum` method does not implement `keepdims` any\n",
      "        exceptions will be raised.\n",
      "    \n",
      "    Returns\n",
      "    -------\n",
      "    sum_along_axis : ndarray\n",
      "        An array with the same shape as `a`, with the specified\n",
      "        axis removed.   If `a` is a 0-d array, or if `axis` is None, a scalar\n",
      "        is returned.  If an output array is specified, a reference to\n",
      "        `out` is returned.\n",
      "    \n",
      "    See Also\n",
      "    --------\n",
      "    ndarray.sum : Equivalent method.\n",
      "    \n",
      "    cumsum : Cumulative sum of array elements.\n",
      "    \n",
      "    trapz : Integration of array values using the composite trapezoidal rule.\n",
      "    \n",
      "    mean, average\n",
      "    \n",
      "    Notes\n",
      "    -----\n",
      "    Arithmetic is modular when using integer types, and no error is\n",
      "    raised on overflow.\n",
      "    \n",
      "    The sum of an empty array is the neutral element 0:\n",
      "    \n",
      "    >>> np.sum([])\n",
      "    0.0\n",
      "    \n",
      "    Examples\n",
      "    --------\n",
      "    >>> np.sum([0.5, 1.5])\n",
      "    2.0\n",
      "    >>> np.sum([0.5, 0.7, 0.2, 1.5], dtype=np.int32)\n",
      "    1\n",
      "    >>> np.sum([[0, 1], [0, 5]])\n",
      "    6\n",
      "    >>> np.sum([[0, 1], [0, 5]], axis=0)\n",
      "    array([0, 6])\n",
      "    >>> np.sum([[0, 1], [0, 5]], axis=1)\n",
      "    array([1, 5])\n",
      "    \n",
      "    If the accumulator is too small, overflow occurs:\n",
      "    \n",
      "    >>> np.ones(128, dtype=np.int8).sum(dtype=np.int8)\n",
      "    -128\n",
      "\n"
     ]
    }
   ],
   "source": [
    "help(np.sum)"
   ]
  },
  {
   "cell_type": "markdown",
   "metadata": {},
   "source": [
    "## Запуск вне notebook"
   ]
  },
  {
   "cell_type": "code",
   "execution_count": 21,
   "metadata": {
    "collapsed": false
   },
   "outputs": [
    {
     "name": "stdout",
     "output_type": "stream",
     "text": [
      "Overwriting scipy_program.py\n"
     ]
    }
   ],
   "source": [
    "%%writefile scipy_program.py\n",
    "#!/usr/bin/env python3\n",
    "from sympy import symbols, expand\n",
    "from sympy.interactive import printing\n",
    "printing.init_printing(use_latex='mathjax')\n",
    "\n",
    "x, y = symbols(\"x y\")\n",
    "eq = ((x+y)**2 * (x+1))\n",
    "print(eq)"
   ]
  },
  {
   "cell_type": "code",
   "execution_count": 22,
   "metadata": {
    "collapsed": false
   },
   "outputs": [
    {
     "name": "stdout",
     "output_type": "stream",
     "text": [
      "(x + 1)*(x + y)**2\n"
     ]
    }
   ],
   "source": [
    "%run scipy_program.py"
   ]
  },
  {
   "cell_type": "markdown",
   "metadata": {},
   "source": [
    "В консоли запуск выглядел бы так:\n",
    "\n",
    "    python3 scipy_program.py"
   ]
  },
  {
   "cell_type": "markdown",
   "metadata": {},
   "source": [
    "## Литература"
   ]
  },
  {
   "cell_type": "markdown",
   "metadata": {},
   "source": [
    "1. Mark Lutz. Learning Python\n",
    "2. Luciano Ramalho. Fluent Python: Clear, Concise, and Effective Programming\n",
    "3. Allen B. Downey. Think Python"
   ]
  }
 ],
 "metadata": {
  "kernelspec": {
   "display_name": "Python 3",
   "language": "python",
   "name": "python3"
  },
  "language_info": {
   "codemirror_mode": {
    "name": "ipython",
    "version": 3
   },
   "file_extension": ".py",
   "mimetype": "text/x-python",
   "name": "python",
   "nbconvert_exporter": "python",
   "pygments_lexer": "ipython3",
   "version": "3.6.0"
  }
 },
 "nbformat": 4,
 "nbformat_minor": 0
}
