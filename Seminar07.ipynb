{
 "cells": [
  {
   "cell_type": "markdown",
   "metadata": {},
   "source": [
    "# 7. Параллельные вычисления. Модули threading, multiprocessing, subprocess."
   ]
  },
  {
   "cell_type": "markdown",
   "metadata": {},
   "source": [
    "## Параллельные вычисления"
   ]
  },
  {
   "cell_type": "markdown",
   "metadata": {},
   "source": [
    "* потоки\n",
    "* процессы"
   ]
  },
  {
   "cell_type": "markdown",
   "metadata": {},
   "source": [
    "## 7.1. Модуль threading"
   ]
  },
  {
   "cell_type": "markdown",
   "metadata": {},
   "source": [
    "Этот модуль реализует высокоуровневый интерфейс для работы с потоками на основе модуля `_thread`.\n",
    "Некоторые функции:\n",
    "* active_count() — количество активных потоков\n",
    "* current_thread() — текущий поток\n",
    "* enumerate() — список всех работающих потоков\n",
    "* main_thread() — возвращает объект-главный поток"
   ]
  },
  {
   "cell_type": "markdown",
   "metadata": {},
   "source": [
    "### 7.1.1. Класс threading.Thread"
   ]
  },
  {
   "cell_type": "markdown",
   "metadata": {},
   "source": [
    "Конструктор `Thread(target=None, name=None, args=(), kwargs={}, daemon=None, ...)`:\n",
    "* target — функтор, который будет выполнен в отдельном потоке\n",
    "* name — имя потока (по умолчанию «Thread-N»)\n",
    "* args — аргументы в виде кортежа\n",
    "* kwargs — аргументы в виде словаря\n",
    "* daemon — запускать ли в режиме демона"
   ]
  },
  {
   "cell_type": "code",
   "execution_count": 1,
   "metadata": {
    "collapsed": false
   },
   "outputs": [
    {
     "name": "stdout",
     "output_type": "stream",
     "text": [
      "Последовательное выполнение: 0:00:10.014459\n",
      "Параллельное выполнение: 0:00:01.006376\n"
     ]
    }
   ],
   "source": [
    "import threading\n",
    "import datetime\n",
    "\n",
    "def Callable(a, b):\n",
    "    import time\n",
    "    time.sleep(1)\n",
    "    return a + b\n",
    "\n",
    "begin = datetime.datetime.now()\n",
    "for x in range(10):\n",
    "    Callable(x, x + 3)\n",
    "end = datetime.datetime.now()\n",
    "print(\"Последовательное выполнение:\", end - begin)\n",
    "\n",
    "begin = datetime.datetime.now()\n",
    "threads = []\n",
    "\n",
    "for x in range(10):\n",
    "    threads.append(threading.Thread(target=Callable, args=(x, x + 3)))\n",
    "    threads[-1].start()\n",
    "\n",
    "for t in threads:\n",
    "    t.join()\n",
    "\n",
    "end = datetime.datetime.now()\n",
    "print(\"Параллельное выполнение:\", end - begin)"
   ]
  },
  {
   "cell_type": "markdown",
   "metadata": {},
   "source": [
    "Либо создать дочерний класс, унаследованный от threading.Thread, и переопределить у него методы run() и \\_\\_init\\_\\_()"
   ]
  },
  {
   "cell_type": "code",
   "execution_count": 2,
   "metadata": {
    "collapsed": false
   },
   "outputs": [
    {
     "name": "stdout",
     "output_type": "stream",
     "text": [
      "6\n",
      "7\n",
      "8\n",
      "9\n",
      "10\n",
      "11\n",
      "12\n",
      "13\n",
      "14\n",
      "15\n",
      "Параллельное выполнение: 0:00:01.008634\n"
     ]
    }
   ],
   "source": [
    "import threading\n",
    "import datetime\n",
    "\n",
    "class Callable(threading.Thread):\n",
    "    \n",
    "    def __init__(self, a, b):\n",
    "        threading.Thread.__init__(self)\n",
    "        self.a = a\n",
    "        self.b = b\n",
    "\n",
    "    def run(self):\n",
    "        import time\n",
    "        time.sleep(1)\n",
    "        return self.a + self.b\n",
    "\n",
    "begin = datetime.datetime.now()\n",
    "threads = []\n",
    "\n",
    "for x in range(10):\n",
    "    threads.append(Callable(x, x + 3))\n",
    "    threads[-1].start()\n",
    "    print(threading.active_count())\n",
    "    \n",
    "for t in threads:\n",
    "    t.join()\n",
    "\n",
    "end = datetime.datetime.now()\n",
    "print(\"Параллельное выполнение:\", end - begin)"
   ]
  },
  {
   "cell_type": "markdown",
   "metadata": {},
   "source": [
    "Остальные методы:\n",
    "* is_alive() — возвращает `true`, если поток еще работает\n",
    "* join(timeout=None) — блокирует выполнение текущего потока до тех пор, пока не завершится поток, для которого этот метод вызван\n",
    "* enumerate() — возвращает список работающих потоков"
   ]
  },
  {
   "cell_type": "markdown",
   "metadata": {},
   "source": [
    "### 7.1.2. Класс threading.Lock"
   ]
  },
  {
   "cell_type": "markdown",
   "metadata": {},
   "source": [
    "Методы:\n",
    "* acquire(blocking=True, timeout=-1) — захватывает лок\n",
    "* release() — освобождает его"
   ]
  },
  {
   "cell_type": "code",
   "execution_count": 3,
   "metadata": {
    "collapsed": false
   },
   "outputs": [
    {
     "name": "stdout",
     "output_type": "stream",
     "text": [
      "Параллельное выполнение: 0:00:10.014954\n"
     ]
    }
   ],
   "source": [
    "import threading\n",
    "import datetime\n",
    "\n",
    "class Callable(threading.Thread):\n",
    "    \n",
    "    def __init__(self, a, b, lock):\n",
    "        super(Callable, self).__init__()\n",
    "        self.a = a\n",
    "        self.b = b\n",
    "        self.lock = lock\n",
    "\n",
    "    def run(self):\n",
    "        with self.lock:\n",
    "            import time\n",
    "            time.sleep(1)\n",
    "            # ggg = 3 / 0\n",
    "        return self.a + self.b\n",
    "\n",
    "begin = datetime.datetime.now()\n",
    "threads = []\n",
    "\n",
    "lock = threading.Lock()\n",
    "\n",
    "for x in range(10):\n",
    "    threads.append(Callable(x, x + 3, lock))\n",
    "    threads[-1].start()\n",
    "    \n",
    "for t in threads:\n",
    "    t.join()\n",
    "\n",
    "end = datetime.datetime.now()\n",
    "print(\"Параллельное выполнение:\", end - begin)"
   ]
  },
  {
   "cell_type": "markdown",
   "metadata": {},
   "source": [
    "### 7.1.3. Класс threading.Barrier"
   ]
  },
  {
   "cell_type": "markdown",
   "metadata": {},
   "source": [
    "Используется для барьерной синхронизации."
   ]
  },
  {
   "cell_type": "code",
   "execution_count": 4,
   "metadata": {
    "collapsed": false
   },
   "outputs": [
    {
     "name": "stdout",
     "output_type": "stream",
     "text": [
      "07 Параллельное выполнение:3194     60:00:09.013253\n",
      "2   58  "
     ]
    }
   ],
   "source": [
    "import threading\n",
    "import datetime\n",
    "\n",
    "barrier = threading.Barrier(11)\n",
    "\n",
    "class Callable(threading.Thread):\n",
    "    \n",
    "    def __init__(self, a):\n",
    "        super().__init__()\n",
    "        self.a = a\n",
    "\n",
    "    def run(self):\n",
    "        import time\n",
    "        time.sleep(self.a)\n",
    "        barrier.wait()\n",
    "        print(self.a, end=' ')\n",
    "\n",
    "begin = datetime.datetime.now()\n",
    "threads = []\n",
    "\n",
    "for x in range(10):\n",
    "    threads.append(Callable(x))\n",
    "    threads[-1].start()\n",
    "\n",
    "barrier.wait()\n",
    "\n",
    "end = datetime.datetime.now()\n",
    "print(\"Параллельное выполнение:\", end - begin)"
   ]
  },
  {
   "cell_type": "markdown",
   "metadata": {},
   "source": [
    "Помимо перечисленных выше классов, есть еще:\n",
    "* threading.Condition — условия\n",
    "* threading.Semaphore — семафоры\n",
    "* threading.Event — события\n",
    "* threading.Thread.Timer — таймер\n",
    "\n",
    "Смотрите документацию: https://docs.python.org/3/library/threading.html"
   ]
  },
  {
   "cell_type": "markdown",
   "metadata": {},
   "source": [
    "## 7.2. Модуль multiprocessing"
   ]
  },
  {
   "cell_type": "markdown",
   "metadata": {},
   "source": [
    "Для синхронизации реализованы все примитивы из threading. По функциональности этот модуль напоминает threading.\n",
    "Некоторые методы:\n",
    "* active_children() — количество дочерних процессов\n",
    "* cpu_count() — количество ядер в системе\n",
    "* current_process() — возвращает обхект, соответствующий текущему процессу"
   ]
  },
  {
   "cell_type": "markdown",
   "metadata": {},
   "source": [
    "### 7.2.1. Класс multiprocessing.Process"
   ]
  },
  {
   "cell_type": "code",
   "execution_count": 5,
   "metadata": {
    "collapsed": false
   },
   "outputs": [],
   "source": [
    "from multiprocessing import Process\n",
    "\n",
    "def Callable(a, b):\n",
    "    import time\n",
    "    time.sleep(1)\n",
    "    return a + b\n",
    "\n",
    "if __name__ == '__main__':\n",
    "    p = Process(target=Callable, args=((1,3), (3,6)))\n",
    "    p.start()\n",
    "    p.join()"
   ]
  },
  {
   "cell_type": "markdown",
   "metadata": {},
   "source": [
    "### 7.2.2. Класс multiprocessing.Pool"
   ]
  },
  {
   "cell_type": "code",
   "execution_count": 6,
   "metadata": {
    "collapsed": false
   },
   "outputs": [
    {
     "name": "stdout",
     "output_type": "stream",
     "text": [
      "[0, 1, 4, 9, 16, 25, 36, 49, 64, 81, 100, 121, 144, 169, 196, 225, 256, 289, 324, 361, 400, 441, 484, 529, 576, 625, 676, 729, 784, 841, 900, 961, 1024, 1089, 1156, 1225, 1296, 1369, 1444, 1521, 1600, 1681, 1764, 1849, 1936, 2025, 2116, 2209, 2304, 2401, 2500, 2601, 2704, 2809, 2916, 3025, 3136, 3249, 3364, 3481, 3600, 3721, 3844, 3969, 4096, 4225, 4356, 4489, 4624, 4761, 4900, 5041, 5184, 5329, 5476, 5625, 5776, 5929, 6084, 6241, 6400, 6561, 6724, 6889, 7056, 7225, 7396, 7569, 7744, 7921, 8100, 8281, 8464, 8649, 8836, 9025, 9216, 9409, 9604, 9801]\n"
     ]
    }
   ],
   "source": [
    "from multiprocessing import Pool\n",
    "\n",
    "def f(x):\n",
    "    import time\n",
    "    time.sleep(1)\n",
    "    return x*x\n",
    "\n",
    "if __name__ == '__main__':\n",
    "    with Pool(processes=10) as p:\n",
    "        result = p.map(f, range(100))\n",
    "        print(result)"
   ]
  },
  {
   "cell_type": "markdown",
   "metadata": {},
   "source": [
    "Основные аргументы в multiprocessing.pool.Pool(processes, initializer, initargs, ...):\n",
    "* processes — число воркеров\n",
    "* initializer — каждый воркер перед стартом запускает `initializer(*initargs)`"
   ]
  },
  {
   "cell_type": "markdown",
   "metadata": {},
   "source": [
    "### 7.2.3. Обмен данными между процессами"
   ]
  },
  {
   "cell_type": "markdown",
   "metadata": {},
   "source": [
    "#### 7.2.3.1. На основе очереди"
   ]
  },
  {
   "cell_type": "code",
   "execution_count": 7,
   "metadata": {
    "collapsed": false
   },
   "outputs": [
    {
     "name": "stdout",
     "output_type": "stream",
     "text": [
      "[121]\n"
     ]
    }
   ],
   "source": [
    "from multiprocessing import Process, Queue\n",
    "\n",
    "def f(q, value):\n",
    "    q.put([value ** 2])\n",
    "\n",
    "if __name__ == '__main__':\n",
    "    q = Queue()\n",
    "    p = Process(target=f, args=(q, 11))\n",
    "    p.start()\n",
    "    p.join()\n",
    "    print(q.get())\n",
    "    \n"
   ]
  },
  {
   "cell_type": "markdown",
   "metadata": {},
   "source": [
    "#### 7.2.3.2. На основе пайпов"
   ]
  },
  {
   "cell_type": "code",
   "execution_count": 8,
   "metadata": {
    "collapsed": false
   },
   "outputs": [
    {
     "name": "stdout",
     "output_type": "stream",
     "text": [
      "[121]\n"
     ]
    }
   ],
   "source": [
    "from multiprocessing import Process, Pipe\n",
    "\n",
    "def f(conn, value):\n",
    "    import time\n",
    "    time.sleep(3)\n",
    "    conn.send([value ** 2])\n",
    "    conn.close()\n",
    "\n",
    "if __name__ == '__main__':\n",
    "    parent_conn, child_conn = Pipe()\n",
    "    p = Process(target=f, args=(child_conn, 11))\n",
    "    p.start()\n",
    "    print(parent_conn.recv())\n",
    "    p.join()"
   ]
  },
  {
   "cell_type": "markdown",
   "metadata": {},
   "source": [
    "## 7.3. Модуль subprocess"
   ]
  },
  {
   "cell_type": "markdown",
   "metadata": {},
   "source": [
    "Модуль позволяет запускать выполнение в новых процессах, подключаться к их потокам ввода-вывода и ошибок, а также получать коды возврата."
   ]
  },
  {
   "cell_type": "code",
   "execution_count": 9,
   "metadata": {
    "collapsed": false
   },
   "outputs": [
    {
     "name": "stdout",
     "output_type": "stream",
     "text": [
      "0\n"
     ]
    }
   ],
   "source": [
    "import subprocess\n",
    "retcode = subprocess.call(\"ls /\", shell=True)\n",
    "print(retcode)"
   ]
  },
  {
   "cell_type": "code",
   "execution_count": 10,
   "metadata": {
    "collapsed": false
   },
   "outputs": [
    {
     "name": "stdout",
     "output_type": "stream",
     "text": [
      "b'cat is a pet'\n",
      "b''\n",
      "0\n"
     ]
    }
   ],
   "source": [
    "import subprocess\n",
    "process = subprocess.Popen([\"sed\", \"s/dog/cat/\"], stdout=subprocess.PIPE, stderr=subprocess.PIPE, stdin=subprocess.PIPE)\n",
    "stdout, stderr = process.communicate(input=b'dog is a pet')\n",
    "print(stdout, stderr, process.returncode, sep='\\n')"
   ]
  },
  {
   "cell_type": "code",
   "execution_count": 11,
   "metadata": {
    "collapsed": false
   },
   "outputs": [
    {
     "name": "stdout",
     "output_type": "stream",
     "text": [
      "b'cat is a pet'\n"
     ]
    }
   ],
   "source": [
    "import subprocess\n",
    "output = subprocess.check_output([\"echo 'dog is a pet' | sed s/dog/cat/\"], shell=True)\n",
    "print(output.strip())"
   ]
  },
  {
   "cell_type": "code",
   "execution_count": 12,
   "metadata": {
    "collapsed": false
   },
   "outputs": [
    {
     "name": "stdout",
     "output_type": "stream",
     "text": [
      "0\n"
     ]
    }
   ],
   "source": [
    "import subprocess\n",
    "output = subprocess.check_call([\"echo 'dog is a pet' | sed s/dog/cat/\"], shell=True)\n",
    "print(output)"
   ]
  },
  {
   "cell_type": "code",
   "execution_count": 13,
   "metadata": {
    "collapsed": false
   },
   "outputs": [
    {
     "name": "stdout",
     "output_type": "stream",
     "text": [
      "b'cat is a pet\\n'\n",
      "0\n"
     ]
    }
   ],
   "source": [
    "# начиная с Python 3.5\n",
    "import subprocess\n",
    "output = subprocess.run([\"echo 'dog is a pet' | sed s/dog/cat/\"], shell=True, stdout=subprocess.PIPE)\n",
    "print(output.stdout)\n",
    "print(output.returncode)"
   ]
  },
  {
   "cell_type": "code",
   "execution_count": 14,
   "metadata": {
    "collapsed": false
   },
   "outputs": [
    {
     "name": "stdout",
     "output_type": "stream",
     "text": [
      "Starting consumer thread\n",
      "Starting consumer thread\n",
      "Starting producer thread\n",
      "Resource is available to consumerResource is available to consumer\n",
      "\n",
      "Making resource available\n"
     ]
    }
   ],
   "source": [
    "import threading\n",
    "import time\n",
    "\n",
    "def consumer(cond):\n",
    "    with cond:\n",
    "        # wait for the condition and use the resource\n",
    "        print('Starting consumer thread')\n",
    "\n",
    "        t = threading.currentThread()\n",
    "\n",
    "        cond.wait()\n",
    "\n",
    "        print('Resource is available to consumer')\n",
    "\n",
    "def producer(cond):\n",
    "    with cond:\n",
    "        # set up the resource to be used by the consumer\n",
    "\n",
    "        print('Starting producer thread')\n",
    "\n",
    "        print('Making resource available')\n",
    "\n",
    "        cond.notifyAll()\n",
    "\n",
    "\n",
    "condition = threading.Condition()\n",
    "\n",
    "# pass each thread a 'condition'\n",
    "c1 = threading.Thread(name='c1', target=consumer, args=(condition,))\n",
    "c2 = threading.Thread(name='c2', target=consumer, args=(condition,))\n",
    "p = threading.Thread(name='p', target=producer, args=(condition,))\n",
    "\n",
    "\n",
    "# start two threads and put them into 'wait' state\n",
    "c1.start()\n",
    "c2.start()\n",
    "\n",
    "# after two seconds or after some operation notify them to free or step over the wait() function\n",
    "time.sleep(2)\n",
    "p.start()"
   ]
  },
  {
   "cell_type": "markdown",
   "metadata": {},
   "source": [
    "## 7.4. mpi4py\n",
    "\n",
    "MPI для Python, документация: http://mpi4py.readthedocs.io/en/stable/\n",
    "\n",
    "Установка:\n",
    "\n",
    "    conda install mpi4py\n",
    "    pip install mpi4py\n",
    "    \n",
    "Дополнительно, на системе:\n",
    "    \n",
    "    sudo apt-get install mpich\n",
    "    \n",
    "Проверить, что MPI работает:\n",
    "\n",
    "    mpiexec -n 5 ~/opt/anaconda3/bin/python -m mpi4py helloworld\n",
    "    \n",
    "Далее несколько примеров из документации."
   ]
  },
  {
   "cell_type": "code",
   "execution_count": 15,
   "metadata": {
    "collapsed": false
   },
   "outputs": [
    {
     "name": "stdout",
     "output_type": "stream",
     "text": [
      "Overwriting sem07mpi1.py\n"
     ]
    }
   ],
   "source": [
    "%%file sem07mpi1.py\n",
    "\n",
    "from mpi4py import MPI\n",
    "\n",
    "comm = MPI.COMM_WORLD\n",
    "rank = comm.Get_rank()\n",
    "\n",
    "if rank == 0:\n",
    "    data = {'a': 7, 'b': 3.14}\n",
    "    comm.send(data, dest=1, tag=11)\n",
    "elif rank == 1:\n",
    "    data = comm.recv(source=0, tag=11)\n",
    "    \n",
    "print(data)"
   ]
  },
  {
   "cell_type": "code",
   "execution_count": 16,
   "metadata": {
    "collapsed": false
   },
   "outputs": [
    {
     "name": "stdout",
     "output_type": "stream",
     "text": [
      "{'a': 7, 'b': 3.14}\n",
      "{'a': 7, 'b': 3.14}\n"
     ]
    }
   ],
   "source": [
    "%%bash\n",
    "mpirun -n 2 ~/opt/anaconda3/bin/python sem07mpi1.py"
   ]
  },
  {
   "cell_type": "code",
   "execution_count": 17,
   "metadata": {
    "collapsed": false
   },
   "outputs": [
    {
     "name": "stdout",
     "output_type": "stream",
     "text": [
      "Overwriting sem07mpi2.py\n"
     ]
    }
   ],
   "source": [
    "%%file sem07mpi2.py\n",
    "from mpi4py import MPI\n",
    "import numpy\n",
    "\n",
    "comm = MPI.COMM_WORLD\n",
    "rank = comm.Get_rank()\n",
    "\n",
    "# passing MPI datatypes explicitly\n",
    "if rank == 0:\n",
    "    data = numpy.arange(1000, dtype='i')\n",
    "    comm.Send([data, MPI.INT], dest=1, tag=77)\n",
    "elif rank == 1:\n",
    "    data = numpy.empty(1000, dtype='i')\n",
    "    comm.Recv([data, MPI.INT], source=0, tag=77)\n",
    "    \n",
    "print(data[:32])\n",
    "\n",
    "# automatic MPI datatype discovery\n",
    "if rank == 0:\n",
    "    data = numpy.arange(100, dtype=numpy.float64)\n",
    "    comm.Send(data, dest=1, tag=13)\n",
    "elif rank == 1:\n",
    "    data = numpy.empty(100, dtype=numpy.float64)\n",
    "    comm.Recv(data, source=0, tag=13)\n",
    "\n",
    "print(data[:32])"
   ]
  },
  {
   "cell_type": "code",
   "execution_count": 18,
   "metadata": {
    "collapsed": false
   },
   "outputs": [
    {
     "name": "stdout",
     "output_type": "stream",
     "text": [
      "[ 0  1  2  3  4  5  6  7  8  9 10 11 12 13 14 15 16 17 18 19 20 21 22 23 24\n",
      " 25 26 27 28 29 30 31]\n",
      "[  0.   1.   2.   3.   4.   5.   6.   7.   8.   9.  10.  11.  12.  13.  14.\n",
      "  15.  16.  17.  18.  19.  20.  21.  22.  23.  24.  25.  26.  27.  28.  29.\n",
      "  30.  31.]\n",
      "[ 0  1  2  3  4  5  6  7  8  9 10 11 12 13 14 15 16 17 18 19 20 21 22 23 24\n",
      " 25 26 27 28 29 30 31]\n",
      "[  0.   1.   2.   3.   4.   5.   6.   7.   8.   9.  10.  11.  12.  13.  14.\n",
      "  15.  16.  17.  18.  19.  20.  21.  22.  23.  24.  25.  26.  27.  28.  29.\n",
      "  30.  31.]\n"
     ]
    }
   ],
   "source": [
    "%%bash\n",
    "mpirun -n 2 ~/opt/anaconda3/bin/python sem07mpi2.py"
   ]
  },
  {
   "cell_type": "code",
   "execution_count": 19,
   "metadata": {
    "collapsed": false
   },
   "outputs": [
    {
     "name": "stdout",
     "output_type": "stream",
     "text": [
      "Overwriting sem07mpi3.py\n"
     ]
    }
   ],
   "source": [
    "%%file sem07mpi3.py\n",
    "from mpi4py import MPI\n",
    "\n",
    "comm = MPI.COMM_WORLD\n",
    "rank = comm.Get_rank()\n",
    "\n",
    "if rank == 0:\n",
    "    data = {'key1' : [7, 2.72, 2+3j],\n",
    "            'key2' : ( 'abc', 'xyz')}\n",
    "else:\n",
    "    data = None\n",
    "data = comm.bcast(data, root=0)\n",
    "\n",
    "print(data)"
   ]
  },
  {
   "cell_type": "code",
   "execution_count": 20,
   "metadata": {
    "collapsed": false
   },
   "outputs": [
    {
     "name": "stdout",
     "output_type": "stream",
     "text": [
      "{'key1': [7, 2.72, (2+3j)], 'key2': ('abc', 'xyz')}\n",
      "{'key1': [7, 2.72, (2+3j)], 'key2': ('abc', 'xyz')}\n"
     ]
    }
   ],
   "source": [
    "%%bash\n",
    "mpirun -n 2 ~/opt/anaconda3/bin/python sem07mpi3.py"
   ]
  },
  {
   "cell_type": "markdown",
   "metadata": {},
   "source": [
    "## 7.5. Другие возможности\n",
    "  - pycuda\n",
    "  - pyopencl\n",
    "  - IPython notebook parallel kernels\n",
    "  - celery"
   ]
  }
 ],
 "metadata": {
  "kernelspec": {
   "display_name": "Python 3",
   "language": "python",
   "name": "python3"
  },
  "language_info": {
   "codemirror_mode": {
    "name": "ipython",
    "version": 3
   },
   "file_extension": ".py",
   "mimetype": "text/x-python",
   "name": "python",
   "nbconvert_exporter": "python",
   "pygments_lexer": "ipython3",
   "version": "3.6.0"
  }
 },
 "nbformat": 4,
 "nbformat_minor": 0
}
